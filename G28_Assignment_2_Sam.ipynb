{
 "cells": [
  {
   "cell_type": "markdown",
   "metadata": {},
   "source": [
    "## Assignment 2: Aircraft Routing Problem - Dynamic Programming\n",
    "Group:  28 <br>\n",
    "Authors:   Thieme Brandwagt and Sam Buisman <br>\n",
    "Date: 16-01-2025\n",
    "\n",
    "Scroll down for complete code (run in one cell)\n"
   ]
  },
  {
   "cell_type": "markdown",
   "metadata": {},
   "source": [
    "### Import necessary libraries"
   ]
  },
  {
   "cell_type": "code",
   "execution_count": 1,
   "metadata": {},
   "outputs": [],
   "source": [
    "# Import necessary packages\n",
    "from openpyxl import *\n",
    "import math\n",
    "import pandas as pd\n",
    "import numpy as np"
   ]
  },
  {
   "cell_type": "markdown",
   "metadata": {},
   "source": [
    "### Import data from Excel files"
   ]
  },
  {
   "cell_type": "code",
   "execution_count": 2,
   "metadata": {},
   "outputs": [
    {
     "name": "stdout",
     "output_type": "stream",
     "text": [
      "3200\n",
      "London\n",
      "800.0\n",
      "Type 1: Small freighter\n",
      "LHR\n",
      "166407.86847940294\n"
     ]
    }
   ],
   "source": [
    "# Load airport data into a numpy array\n",
    "file_path_airports = \"DATA/AirportData.xlsx\"\n",
    "airports_df = pd.read_excel(file_path_airports, usecols =\"B:U\")\n",
    "airports = airports_df.to_numpy()\n",
    "print(airports[3][0])\n",
    "# Create list for all the airports (columns)\n",
    "cities = airports_df.columns\n",
    "print(cities[0])\n",
    "\n",
    "# Load fleet data into a numpy array\n",
    "file_path_fleet = \"DATA/FleetType.xlsx\"\n",
    "fleet_df = pd.read_excel(file_path_fleet)\n",
    "fleet_df = fleet_df.set_index(\"Aircraft Type\")\n",
    "fleet = fleet_df.to_numpy()\n",
    "print(fleet[0][0])\n",
    "\n",
    "# Create list for all the aircraft types (columns)\n",
    "aircraft_types = fleet_df.columns\n",
    "print(aircraft_types[0])\n",
    "\n",
    "\n",
    "# Load demand data into a numpy array\n",
    "file_path_demand = \"DATA/Group28.xlsx\"\n",
    "demand_df = pd.read_excel(file_path_demand, usecols=\"B:AG\", skiprows=4)\n",
    "demand = demand_df.to_numpy()\n",
    "print(demand[0][0])\n",
    "\n",
    "# Create a triple dimensional array for demand data (origin x destination x time)\n",
    "demand_matrix = np.zeros((len(cities), len(cities), demand.shape[1] - 2))\n",
    "# Populate matrix with all demand from all intervals\n",
    "for rows in range(len(cities)):\n",
    "    for columns in range(len(cities)):\n",
    "        for time_steps in range(int(120/4)):  # 120 hours devided by 4 hour time steps\n",
    "            demand_matrix[rows][columns][time_steps] = demand[rows * 20 + columns][time_steps + 2]\n",
    "print(demand_matrix[3][4][int(205/40)])\n",
    "# Set a city as the hub\n",
    "hub = 3"
   ]
  },
  {
   "cell_type": "markdown",
   "metadata": {},
   "source": [
    "### Create functions to calculate the flight details"
   ]
  },
  {
   "cell_type": "code",
   "execution_count": 3,
   "metadata": {},
   "outputs": [],
   "source": [
    "# Adding the previous two bins to the currect bin to get total demand\n",
    "def flow(i, j, t):\n",
    "    return demand_matrix[i,j,t] + 0.2 * (demand_matrix[i,j,t-1]+demand_matrix[i,j,t-2])\n",
    "\n",
    "# Calculate the distance between two airports\n",
    "def distance(i, j):\n",
    "    if i != j:\n",
    "        lat_i, long_i = airports[1][i], airports[2][i]\n",
    "        lat_j, long_j = airports[1][j], airports[2][j]\n",
    "        delta_lat = lat_j - lat_i\n",
    "        delta_long = long_j - long_i\n",
    "        root = math.sin(math.radians(delta_lat)/2)**2 + math.cos(math.radians(lat_i)) \\\n",
    "            * math.cos(math.radians(lat_j)) * math.sin(math.radians(delta_long)/2)**2\n",
    "        return 6371 * 2 * math.asin(math.sqrt(root)) \n",
    "    else:\n",
    "        return 0\n",
    "\n",
    "# Calculate the profit for each flight leg\n",
    "def cost_flight_leg(i, j, k):\n",
    "    if i != j:\n",
    "        tc = fleet[7][k] * (distance(i, j) / fleet[0][k])     # formula for the time costs\n",
    "        fc = ((fleet[8][k] * 1.42) / 1.5) * distance(i, j)    # formula for the fuel costs\n",
    "        foc = fleet[6][k]                                               # formula for the fixed operating costs\n",
    "        return tc + fc + foc\n",
    "\n",
    "# Calculate the demand that can be satisfied by each flight (minimum of the demand (incl. 2 previous bins) and the capacity)\n",
    "def satisfied_demand(i,j,k,n):\n",
    "    return min(flow(i,j,math.floor(n / 40)), fleet[1][k])\n",
    "\n",
    "# Calculate the profit for each flight leg\n",
    "def profit(i, j, k, n):\n",
    "    if i != j:\n",
    "        revenue = 0.26 * distance(i,j) * satisfied_demand(i, j, k, n) / 1000\n",
    "        costs = cost_flight_leg(i,j,k)\n",
    "        return revenue - costs\n",
    "    else:\n",
    "        return 0\n",
    "\n",
    "# Calculate the block time for each flight leg\n",
    "def get_block_time(i,j,k):\n",
    "    return distance(i, j) / fleet[0][k] * 60 + 30\n",
    "\n",
    "# Adding average TAT to the block time for the total the flight duration of each flight leg\n",
    "def flight_duration(i,j,k):\n",
    "    return get_block_time(i,j,k) + fleet[2][k] # Round up to the nearest 6-fold\n",
    "\n",
    "# Calculate the number of stages for each flight leg\n",
    "def get_stages_in_flight(i,j,k):\n",
    "    return math.ceil((flight_duration(i,j,k)) / 6)"
   ]
  },
  {
   "cell_type": "markdown",
   "metadata": {},
   "source": [
    "### Define functions to find the optimal route for aircraft type k"
   ]
  },
  {
   "cell_type": "code",
   "execution_count": 4,
   "metadata": {},
   "outputs": [
    {
     "data": {
      "text/plain": [
       "[[13690.753708397682,\n",
       "  1910.6055571854104,\n",
       "  [205, 243, 3, 4, 23000.0],\n",
       "  [243, 281, 4, 3, 23000.0],\n",
       "  [281, 319, 3, 4, 23000.0],\n",
       "  [319, 357, 4, 3, 23000.0],\n",
       "  [359, 398, 3, 15, 23000.0],\n",
       "  [519, 558, 15, 3, 20234.559767878545],\n",
       "  [559, 597, 3, 4, 23000.0],\n",
       "  [719, 757, 4, 3, 23000.0],\n",
       "  [761, 799, 3, 4, 23000.0],\n",
       "  [799, 837, 4, 3, 23000.0],\n",
       "  [921, 959, 3, 18, 23000.0],\n",
       "  [959, 997, 18, 3, 23000.0],\n",
       "  [1001, 1039, 3, 4, 23000.0],\n",
       "  [1039, 1077, 4, 3, 23000.0],\n",
       "  [1198, 1199, 3, 3, 0]]]"
      ]
     },
     "execution_count": 4,
     "metadata": {},
     "output_type": "execute_result"
    }
   ],
   "source": [
    "\n",
    "def get_candidates(i,k,n):    \n",
    "    candidates = []\n",
    "    if i == hub:                 \n",
    "        for j in range(len(cities)):                                                        \n",
    "            if i == j:\n",
    "                arrival_stage = n+1\n",
    "                if arrival_stage < 1200:                                             # make sure no airplane is flying after the fifth day\n",
    "                    candidates.append([n, arrival_stage, i, j, 0, 0, 0])             # grounded at hub\n",
    "            else:\n",
    "                arrival_stage = n+get_stages_in_flight(i,j,k)\n",
    "                if arrival_stage < 1200:\n",
    "                    candidates.append([n, arrival_stage, i, j, satisfied_demand(i,j,k,n), get_block_time(i,j,k), profit(i,j,k,n)]) # flight to spoke\n",
    "        \n",
    "    else:\n",
    "        if n+1 < 1200:\n",
    "            candidates.append([n, n+1 ,i,i, 0, 0, 0])   \n",
    "        arrival_stage = n+get_stages_in_flight(i,hub,k)                              # grounded at spoke\n",
    "        if arrival_stage < 1200:\n",
    "            candidates.append([n, arrival_stage, i, hub, satisfied_demand(i, hub, k, n), get_block_time(i,hub,k), profit(i,hub,k,n)])     # flight to hub\n",
    "    return candidates\n",
    "\n",
    "\n",
    "memo = {}\n",
    "\n",
    "def get_best_path(departure_airport, k, departure_stage):\n",
    "    # Check if the result is already cached\n",
    "    if (departure_airport, k, departure_stage) in memo:\n",
    "        return memo[(departure_airport, k, departure_stage)]\n",
    "    \n",
    "    paths = []\n",
    "    \n",
    "    for c in get_candidates(departure_airport, k, departure_stage):\n",
    "        arrival_stage = c[1]\n",
    "        arrival_airport = c[3]\n",
    "        future_flights = get_best_path(arrival_airport, k, arrival_stage)\n",
    "        \n",
    "        if future_flights:\n",
    "            for flight in future_flights:\n",
    "                if distance(c[2], c[3]) <= fleet[3][k] and airports[3][c[2]] >= fleet[4][k] and airports[3][c[3]] >= fleet[4][k]:\n",
    "                    total_profit = c[-1] + flight[0]  # Add current profit to future route's profit\n",
    "                    total_block = c[-2] + flight[1]   # Add current block time to future route's block time\n",
    "\n",
    "                    # Add the total profit to the route and print only the flight actions (not the grounding)\n",
    "                    if c[2] != c[3]:\n",
    "                        paths.append([total_profit, total_block, [c[0], c[1], c[2], c[3], c[4]]] + flight[2:])\n",
    "                    else:\n",
    "                        paths.append([total_profit] + flight[1:])\n",
    "        else:\n",
    "            total_profit = c[-1]  # Profit for the last segment\n",
    "            total_block = c[-2]   # Block time for the last segment\n",
    "            paths.append([total_profit, total_block, [c[0], c[1], c[2], c[3], c[4]]])\n",
    "    \n",
    "    # Filter routes that end at the hub \n",
    "    valid_paths = [flight for flight in paths if flight[-1][3] == hub]\n",
    "    # Only keep the route with the highest profit for each departure_airport\n",
    "    valid_paths = sorted(valid_paths, key=lambda flight: flight[0], reverse=True)\n",
    "    \n",
    "    if valid_paths:\n",
    "        max_profit_path = valid_paths[0]  # Take the route with the highest profit\n",
    "        memo[(departure_airport, k, departure_stage)] = [max_profit_path]  # Cache only the highest profit route for the current stage\n",
    "    else:\n",
    "        memo[(departure_airport, k, departure_stage)] = []\n",
    "    \n",
    "    return memo[(departure_airport, k, departure_stage)]\n",
    "\n",
    "# Clear the memo dictionary before running to avoid stale data\n",
    "memo.clear()\n",
    "\n",
    "get_best_path(3, 0, 0)"
   ]
  },
  {
   "cell_type": "markdown",
   "metadata": {},
   "source": [
    "### Create algorithm that iterates the route finding problem over all available aircraft"
   ]
  },
  {
   "cell_type": "code",
   "execution_count": 5,
   "metadata": {},
   "outputs": [
    {
     "name": "stdout",
     "output_type": "stream",
     "text": [
      "=================================================================\n",
      "iteration:  1\n",
      "available aircrafts: type 1:  2.0  | type 2:  2.0  | type 3:  1.0\n",
      "[13690.753708397682, 1910.6055571854104, [205, 243, 3, 4, 23000.0], [243, 281, 4, 3, 23000.0], [281, 319, 3, 4, 23000.0], [319, 357, 4, 3, 23000.0], [359, 398, 3, 15, 23000.0], [519, 558, 15, 3, 20234.559767878545], [559, 597, 3, 4, 23000.0], [719, 757, 4, 3, 23000.0], [761, 799, 3, 4, 23000.0], [799, 837, 4, 3, 23000.0], [921, 959, 3, 18, 23000.0], [959, 997, 18, 3, 23000.0], [1001, 1039, 3, 4, 23000.0], [1039, 1077, 4, 3, 23000.0], [1198, 1199, 3, 3, 0]]\n",
      "[10009.980782800758, 797.9900109728932, [225, 279, 3, 17, 28541.47812316272], [279, 333, 17, 3, 35000.0], [519, 573, 3, 17, 35000.0], [959, 1013, 17, 3, 35000.0], [1198, 1199, 3, 3, 0]]\n",
      "[39172.36770730437, 598.7841693231244, [233, 279, 3, 4, 120000.0], [279, 325, 4, 3, 75799.45776055097], [440, 474, 3, 2, 117485.17653180443], [479, 513, 2, 3, 84008.92687580091], [519, 565, 3, 4, 66749.28638117695], [1039, 1085, 4, 3, 64434.1580591777], [1198, 1199, 3, 3, 0]]\n",
      "1910.6055571854104\n",
      "k_index:  2\n",
      "most profitable aircraft type:  1\n",
      "profit made:  2976.4679941119684\n",
      "total block time:  1910.6055571854104\n",
      "-------------------------------------------\n",
      "Route flown by aircraft  Type 1: Small freighter\n",
      "Day 1\n",
      "20:30  00:18  Frankfurt - Madrid  23000.0\n",
      "Day 2\n",
      "00:18  04:06  Madrid - Frankfurt  23000.0\n",
      "04:06  07:54  Frankfurt - Madrid  23000.0\n",
      "07:54  11:42  Madrid - Frankfurt  23000.0\n",
      "11:54  15:48  Frankfurt - Bucharest  23000.0\n",
      "Day 3\n",
      "03:54  07:48  Bucharest - Frankfurt  20234.6\n",
      "07:54  11:42  Frankfurt - Madrid  23000.0\n",
      "23:54  03:42  Madrid - Frankfurt  23000.0\n",
      "Day 4\n",
      "04:06  07:54  Frankfurt - Madrid  23000.0\n",
      "07:54  11:42  Madrid - Frankfurt  23000.0\n",
      "20:06  23:54  Frankfurt - Palermo  23000.0\n",
      "23:54  03:42  Palermo - Frankfurt  23000.0\n",
      "Day 5\n",
      "04:06  07:54  Frankfurt - Madrid  23000.0\n",
      "07:54  11:42  Madrid - Frankfurt  23000.0\n",
      "route flown:  (0, [[205, 243, 3, 4, 23000.0], [243, 281, 4, 3, 23000.0], [281, 319, 3, 4, 23000.0], [319, 357, 4, 3, 23000.0], [359, 398, 3, 15, 23000.0], [519, 558, 15, 3, 20234.559767878545], [559, 597, 3, 4, 23000.0], [719, 757, 4, 3, 23000.0], [761, 799, 3, 4, 23000.0], [799, 837, 4, 3, 23000.0], [921, 959, 3, 18, 23000.0], [959, 997, 18, 3, 23000.0], [1001, 1039, 3, 4, 23000.0], [1039, 1077, 4, 3, 23000.0], [1198, 1199, 3, 3, 0]])\n",
      "=================================================================\n",
      "iteration:  2\n",
      "available aircrafts: type 1:  1.0  | type 2:  0  | type 3:  0\n",
      "[9428.134821741807, 1597.2445907166145, [205, 243, 3, 4, 23000.0], [243, 281, 4, 3, 23000.0], [281, 319, 3, 4, 23000.0], [319, 357, 4, 3, 23000.0], [440, 469, 3, 0, 23000.0], [501, 530, 0, 3, 23000.0], [530, 559, 3, 0, 23000.0], [559, 588, 0, 3, 23000.0], [761, 799, 3, 18, 23000.0], [799, 837, 18, 3, 23000.0], [931, 965, 3, 5, 23000.0], [965, 999, 5, 3, 23000.0], [999, 1035, 3, 9, 23000.0], [1039, 1075, 9, 3, 23000.0], [1198, 1199, 3, 3, 0]]\n",
      "no more aircrafts available or profitable\n"
     ]
    }
   ],
   "source": [
    "# Create a function to print the flight schedule of the most profitable route by aircraft type k\n",
    "def get_flight_schedule(best_route, ac_best_route):\n",
    "    def get_time(n):\n",
    "        day     = int(n/240+1)\n",
    "        hours   = int((n - ((day-1) * 240)) / 10)\n",
    "        minutes = int((n - ((day-1) * 240 + hours * 10)) * 6)\n",
    "        return [day, hours, minutes]\n",
    "    \n",
    "    schedule = {}\n",
    "    \n",
    "    # Group flights by day\n",
    "    print(\"-------------------------------------------\")\n",
    "    print(\"Route flown by aircraft \", aircraft_types[ac_best_route])\n",
    "    for flight in best_route[:-1]:\n",
    "        time_dep = f\"{get_time(flight[0])[1]:02d}:{get_time(flight[0])[2]:02d}\"\n",
    "        time_arr = f\"{get_time(flight[1])[1]:02d}:{get_time(flight[1])[2]:02d}\"\n",
    "        flight_day = get_time(flight[0])[0]\n",
    "        flight_dep_ap = cities[flight[2]]\n",
    "        flight_arr_ap = cities[flight[3]]\n",
    "        flight_demand = flight[4]\n",
    "        \n",
    "        # Create list for day if it doesn't exist\n",
    "        if flight_day not in schedule:\n",
    "            schedule[flight_day] = []\n",
    "        \n",
    "        # Add flight to appropriate day\n",
    "        schedule[flight_day].append(f\"{time_dep}  {time_arr}  {flight_dep_ap} - {flight_arr_ap}  {round(flight_demand,1)}\")\n",
    "\n",
    "    # Print schedule by day\n",
    "    for day in sorted(schedule.keys()):\n",
    "        print(f\"Day {day}\")\n",
    "        for flight in schedule[day]:\n",
    "            print(flight)\n",
    "    \n",
    "    return ac_best_route, best_route \n",
    "\n",
    "# ---------------------------------------------------------------------------------------------------------------------\n",
    "\n",
    "# Create an algorithm to choose the best most profitable aircraft out of all available aircrafts\n",
    "def choose_ac(departure_airport=hub, departure_stage=0):\n",
    "    available_ac = (fleet[9])   # tuple of available aircrafts\n",
    "    ac_list = [*available_ac]   # list of available aircrafts\n",
    "    iterations = 1\n",
    "    flown_route = []\n",
    "    global best_routes, ac_best_route       # global variables to store the best routes and it's aircraft type\n",
    "    best_routes = []\n",
    "\n",
    "    # Keep initiating aircrafts untill all aircrafts are used\n",
    "    while not all(ac == 0 for ac in ac_list):\n",
    "        print(\"=================================================================\")\n",
    "        print(\"iteration: \", iterations)\n",
    "        print(\"available aircrafts: type 1: \", ac_list[0], \" | type 2: \", ac_list[1], \" | type 3: \", ac_list[2])\n",
    "        memo.clear()\n",
    "        best_profit = 0              # set the lowest bound to 0\n",
    "        block_time = [0] * len(ac_list)     # create a list to store the block time for each aircraft type\n",
    "        ac_best_route = None                # set the most profitable aircraft type to None at start of iteration\n",
    "        k_available = -1                        # create an index for the amount of available routes\n",
    "        for k in range(len(ac_list)):\n",
    "            # Check if there are any aircrafts available of type k, if so, get the best path for that aircraft type\n",
    "            if ac_list[k] >= 1:\n",
    "                k_available += 1                # increase the index for the amount of available routes\n",
    "                flown_route.append(get_best_path(departure_airport, k, departure_stage)[0])\n",
    "                print(flown_route[k_available])\n",
    "                block_time[k] = flown_route[k_available][1]\n",
    "                # Check which aircraft type has the highest profit\n",
    "                if flown_route[k_available][0] - fleet[5][k]*5 > best_profit:\n",
    "                    # Save the best profit and aircraft type used in the most profitable route\n",
    "                    best_profit = flown_route[k_available][0] - fleet[5][k]*5\n",
    "                    best_route = flown_route[k_available][2:]\n",
    "                    ac_best_route = k        # save the most profitable aircraft type   \n",
    "                    best_k_aivailable = k_available   # save the index of the most profitable route from all available\n",
    "                # Don't consider aircraft type that can't make a profit or reach the minimum block time of 6 hours per day\n",
    "                if flown_route[k_available][0] - fleet[5][k]*5 <= 0 or block_time[k] <= 60 * 6 * 5:\n",
    "                    ac_list[k] = 0\n",
    "\n",
    "        if not all(ac == 0 for ac in ac_list) and ac_best_route != None:\n",
    "            print(flown_route[0][1])\n",
    "            print(\"k_index: \", k_available)\t\n",
    "            print(\"most profitable aircraft type: \", ac_best_route + 1)\n",
    "            print(\"profit made: \", best_profit)\n",
    "            print(\"total block time: \", flown_route[best_k_aivailable][1])\n",
    "            print(\"route flown: \",get_flight_schedule(best_route, ac_best_route))\n",
    "            ac_list[ac_best_route] -= 1\n",
    "            \n",
    "\n",
    "            # Subtract satisfied demand from the demand matrix\n",
    "            for flight in range(len(flown_route[best_k_aivailable][2:])):       # loop through all flights in the route\n",
    "                flown_demand = [0] * len(flown_route[best_k_aivailable][2:])    # create lists with amount of instances equal to the amount flights\n",
    "                flown_bin =    [0] * len(flown_route[best_k_aivailable][2:])\n",
    "                flown_dep =    [0] * len(flown_route[best_k_aivailable][2:])\n",
    "                flown_arr =    [0] * len(flown_route[best_k_aivailable][2:])\n",
    "                flown_demand[flight] = flown_route[best_k_aivailable][2:][flight][-1]\n",
    "                flown_bin[flight] = int(flown_route[best_k_aivailable][2:][flight][0] / 40)\n",
    "                flown_dep[flight] = flown_route[best_k_aivailable][2:][flight][2]\n",
    "                flown_arr[flight] = flown_route[best_k_aivailable][2:][flight][3]\n",
    "                if flown_demand[flight] < demand_matrix[flown_dep[flight]][flown_arr[flight]][flown_bin[flight]]:\n",
    "                    demand_matrix[flown_dep[flight]][flown_arr[flight]][flown_bin[flight]] -= flown_demand[flight]\n",
    "                else:\n",
    "                    demand_matrix[flown_dep[flight]][flown_arr[flight]][flown_bin[flight]] = 0\n",
    "                    rest_demand_first = flown_demand[flight] - demand_matrix[flown_dep[flight]][flown_arr[flight]][flown_bin[flight]]\n",
    "                    if rest_demand_first < demand_matrix[flown_dep[flight]][flown_arr[flight]][flown_bin[flight - 1]]:\n",
    "                        demand_matrix[flown_dep[flight]][flown_arr[flight]][flown_bin[flight - 1]] -= rest_demand_first\n",
    "                    else:\n",
    "                        demand_matrix[flown_dep[flight]][flown_arr[flight]][flown_bin[flight - 1]] = 0\n",
    "                        rest_demand_second = rest_demand_first - demand_matrix[flown_dep[flight]][flown_arr[flight]][flown_bin[flight - 1]]\n",
    "                        demand_matrix[flown_dep[flight]][flown_arr[flight]][flown_bin[flight - 2]] -= rest_demand_second\n",
    "            flown_route.clear()\n",
    "        \n",
    "        else:\n",
    "            print(\"no more aircrafts available or profitable\")\n",
    "        iterations += 1\n",
    "        \n",
    "\n",
    "choose_ac()"
   ]
  },
  {
   "cell_type": "markdown",
   "metadata": {},
   "source": [
    "### Print the flight schedule"
   ]
  },
  {
   "cell_type": "markdown",
   "metadata": {},
   "source": [
    "# Complete code for single run"
   ]
  },
  {
   "cell_type": "code",
   "execution_count": 2,
   "metadata": {},
   "outputs": [
    {
     "name": "stdout",
     "output_type": "stream",
     "text": [
      "=================================================================\n",
      "iteration:  1\n",
      "available aircrafts: type 1:  2.0  | type 2:  2.0  | type 3:  1.0\n",
      "[13690.753708397682, 1910.6055571854104, [205, 243, 3, 4, 23000.0], [243, 281, 4, 3, 23000.0], [281, 319, 3, 4, 23000.0], [319, 357, 4, 3, 23000.0], [359, 398, 3, 15, 23000.0], [519, 558, 15, 3, 20234.559767878545], [559, 597, 3, 4, 23000.0], [719, 757, 4, 3, 23000.0], [761, 799, 3, 4, 23000.0], [799, 837, 4, 3, 23000.0], [921, 959, 3, 18, 23000.0], [959, 997, 18, 3, 23000.0], [1001, 1039, 3, 4, 23000.0], [1039, 1077, 4, 3, 23000.0], [1198, 1199, 3, 3, 0]]\n",
      "[10009.980782800758, 797.9900109728932, [225, 279, 3, 17, 28541.47812316272], [279, 333, 17, 3, 35000.0], [519, 573, 3, 17, 35000.0], [959, 1013, 17, 3, 35000.0], [1198, 1199, 3, 3, 0]]\n",
      "[39172.36770730437, 598.7841693231244, [233, 279, 3, 4, 120000.0], [279, 325, 4, 3, 75799.45776055097], [440, 474, 3, 2, 117485.17653180443], [479, 513, 2, 3, 84008.92687580091], [519, 565, 3, 4, 66749.28638117695], [1039, 1085, 4, 3, 64434.1580591777], [1198, 1199, 3, 3, 0]]\n",
      "most profitable aircraft type:  1\n",
      "profit made:  2976.4679941119684\n",
      "total block time:  1910.6055571854104\n",
      "-------------------------------------------\n",
      "Route flown by aircraft  Type 1: Small freighter\n",
      "Day 1\n",
      "20:30  00:18  Frankfurt - Madrid  23000.0\n",
      "Day 2\n",
      "00:18  04:06  Madrid - Frankfurt  23000.0\n",
      "04:06  07:54  Frankfurt - Madrid  23000.0\n",
      "07:54  11:42  Madrid - Frankfurt  23000.0\n",
      "11:54  15:48  Frankfurt - Bucharest  23000.0\n",
      "Day 3\n",
      "03:54  07:48  Bucharest - Frankfurt  20234.6\n",
      "07:54  11:42  Frankfurt - Madrid  23000.0\n",
      "23:54  03:42  Madrid - Frankfurt  23000.0\n",
      "Day 4\n",
      "04:06  07:54  Frankfurt - Madrid  23000.0\n",
      "07:54  11:42  Madrid - Frankfurt  23000.0\n",
      "20:06  23:54  Frankfurt - Palermo  23000.0\n",
      "23:54  03:42  Palermo - Frankfurt  23000.0\n",
      "Day 5\n",
      "04:06  07:54  Frankfurt - Madrid  23000.0\n",
      "07:54  11:42  Madrid - Frankfurt  23000.0\n",
      "route flown:  (0, [[205, 243, 3, 4, 23000.0], [243, 281, 4, 3, 23000.0], [281, 319, 3, 4, 23000.0], [319, 357, 4, 3, 23000.0], [359, 398, 3, 15, 23000.0], [519, 558, 15, 3, 20234.559767878545], [559, 597, 3, 4, 23000.0], [719, 757, 4, 3, 23000.0], [761, 799, 3, 4, 23000.0], [799, 837, 4, 3, 23000.0], [921, 959, 3, 18, 23000.0], [959, 997, 18, 3, 23000.0], [1001, 1039, 3, 4, 23000.0], [1039, 1077, 4, 3, 23000.0], [1198, 1199, 3, 3, 0]])\n",
      "=================================================================\n",
      "iteration:  2\n",
      "available aircrafts: type 1:  1.0  | type 2:  0  | type 3:  0\n",
      "[9428.134821741807, 1597.2445907166145, [205, 243, 3, 4, 23000.0], [243, 281, 4, 3, 23000.0], [281, 319, 3, 4, 23000.0], [319, 357, 4, 3, 23000.0], [440, 469, 3, 0, 23000.0], [501, 530, 0, 3, 23000.0], [530, 559, 3, 0, 23000.0], [559, 588, 0, 3, 23000.0], [761, 799, 3, 18, 23000.0], [799, 837, 18, 3, 23000.0], [931, 965, 3, 5, 23000.0], [965, 999, 5, 3, 23000.0], [999, 1035, 3, 9, 23000.0], [1039, 1075, 9, 3, 23000.0], [1198, 1199, 3, 3, 0]]\n",
      "no more aircrafts available or profitable\n"
     ]
    }
   ],
   "source": [
    "# Import necessary packages\n",
    "from openpyxl import *\n",
    "import math\n",
    "import pandas as pd\n",
    "import numpy as np\n",
    "\n",
    "#---------------------------------------------------------------------------------------------------------------------\n",
    "\n",
    "# Load airport data into a numpy array\n",
    "file_path_airports = \"DATA/AirportData.xlsx\"\n",
    "airports_df = pd.read_excel(file_path_airports, usecols =\"B:U\")\n",
    "airports = airports_df.to_numpy()\n",
    "# Create list for all the airports (columns)\n",
    "cities = airports_df.columns\n",
    "\n",
    "\n",
    "# Load fleet data into a numpy array\n",
    "file_path_fleet = \"DATA/FleetType.xlsx\"\n",
    "fleet_df = pd.read_excel(file_path_fleet)\n",
    "fleet_df = fleet_df.set_index(\"Aircraft Type\")\n",
    "fleet = fleet_df.to_numpy()\n",
    "# Create list for all the aircraft types (columns)\n",
    "aircraft_types = fleet_df.columns\n",
    "\n",
    "# Load demand data into a numpy array\n",
    "file_path_demand = \"DATA/Group28.xlsx\"\n",
    "demand_df = pd.read_excel(file_path_demand, usecols=\"B:AG\", skiprows=4)\n",
    "demand = demand_df.to_numpy()\n",
    "# Create a triple dimensional array for demand data (origin x destination x time)\n",
    "demand_matrix = np.zeros((len(cities), len(cities), demand.shape[1] - 2))\n",
    "# Populate matrix with all demand from all intervals\n",
    "for rows in range(len(cities)):\n",
    "    for columns in range(len(cities)):\n",
    "        for time_steps in range(int(120/4)):  # 120 hours devided by 4 hour time steps\n",
    "            demand_matrix[rows][columns][time_steps] = demand[rows * 20 + columns][time_steps + 2]\n",
    "# Set a city as the hub\n",
    "hub = 3\n",
    "\n",
    "#---------------------------------------------------------------------------------------------------------------------\n",
    "\n",
    "# Adding the previous two bins to the currect bin to get total demand\n",
    "def flow(i, j, t):\n",
    "    return demand_matrix[i,j,t] + 0.2 * (demand_matrix[i,j,t-1]+demand_matrix[i,j,t-2])\n",
    "\n",
    "# Calculate the distance between two airports\n",
    "def distance(i, j):\n",
    "    if i != j:\n",
    "        lat_i, long_i = airports[1][i], airports[2][i]\n",
    "        lat_j, long_j = airports[1][j], airports[2][j]\n",
    "        delta_lat = lat_j - lat_i\n",
    "        delta_long = long_j - long_i\n",
    "        root = math.sin(math.radians(delta_lat)/2)**2 + math.cos(math.radians(lat_i)) \\\n",
    "            * math.cos(math.radians(lat_j)) * math.sin(math.radians(delta_long)/2)**2\n",
    "        return 6371 * 2 * math.asin(math.sqrt(root)) \n",
    "    else:\n",
    "        return 0\n",
    "\n",
    "# Calculate the profit for each flight leg\n",
    "def cost_flight_leg(i, j, k):\n",
    "    if i != j:\n",
    "        tc = fleet[7][k] * (distance(i, j) / fleet[0][k])     # formula for the time costs\n",
    "        fc = ((fleet[8][k] * 1.42) / 1.5) * distance(i, j)    # formula for the fuel costs\n",
    "        foc = fleet[6][k]                                               # formula for the fixed operating costs\n",
    "        return tc + fc + foc\n",
    "\n",
    "# Calculate the demand that can be satisfied by each flight (minimum of the demand (incl. 2 previous bins) and the capacity)\n",
    "def satisfied_demand(i,j,k,n):\n",
    "    return min(flow(i,j,math.floor(n / 40)), fleet[1][k])\n",
    "\n",
    "# Calculate the profit for each flight leg\n",
    "def profit(i, j, k, n):\n",
    "    if i != j:\n",
    "        revenue = 0.26 * distance(i,j) * satisfied_demand(i, j, k, n) / 1000\n",
    "        costs = cost_flight_leg(i,j,k)\n",
    "        return revenue - costs\n",
    "    else:\n",
    "        return 0\n",
    "\n",
    "# Calculate the block time for each flight leg\n",
    "def get_block_time(i,j,k):\n",
    "    return distance(i, j) / fleet[0][k] * 60 + 30\n",
    "\n",
    "# Adding average TAT to the block time for the total the flight duration of each flight leg\n",
    "def flight_duration(i,j,k):\n",
    "    return get_block_time(i,j,k) + fleet[2][k] # Round up to the nearest 6-fold\n",
    "\n",
    "# Calculate the number of stages for each flight leg\n",
    "def get_stages_in_flight(i,j,k):\n",
    "    return math.ceil((flight_duration(i,j,k)) / 6)\n",
    "\n",
    "#---------------------------------------------------------------------------------------------------------------------\n",
    "\n",
    "# Create a function to get all possible actions for each aircraft at each state\n",
    "def get_candidates(i,k,n):    \n",
    "    candidates = []\n",
    "    if i == hub:                 \n",
    "        for j in range(len(cities)):                                                        \n",
    "            if i == j:\n",
    "                arrival_stage = n+1\n",
    "                if arrival_stage < 1200:                                                     # make sure no airplane is flying after the fifth day\n",
    "                    candidates.append([n, arrival_stage, i, j, 0, 0, 0])             # grounded at hub\n",
    "            else:\n",
    "                arrival_stage = n+get_stages_in_flight(i,j,k)\n",
    "                if arrival_stage < 1200:\n",
    "                    candidates.append([n, arrival_stage, i, j, satisfied_demand(i,j,k,n), get_block_time(i,j,k), profit(i,j,k,n)]) # flight to spoke\n",
    "        \n",
    "    else:\n",
    "        if n+1 < 1200:\n",
    "            candidates.append([n, n+1 ,i,i, 0, 0, 0])   \n",
    "        arrival_stage = n+get_stages_in_flight(i,hub,k)                               # grounded at spoke\n",
    "        if arrival_stage < 1200:\n",
    "            candidates.append([n, arrival_stage, i, hub, satisfied_demand(i, hub, k, n), get_block_time(i,hub,k), profit(i,hub,k,n)])     # flight to hub\n",
    "    return candidates\n",
    "\n",
    "# Create an algorithm to find the best path for each aircraft type\n",
    "memo = {} # Create a dictionary to store the results\n",
    "def get_best_path(departure_airport, k, departure_stage):\n",
    "    # Check if the result is already cached\n",
    "    if (departure_airport, k, departure_stage) in memo:\n",
    "        return memo[(departure_airport, k, departure_stage)]\n",
    "    \n",
    "    routes = []\n",
    "    \n",
    "    for c in get_candidates(departure_airport, k, departure_stage):\n",
    "        arrival_stage = c[1]\n",
    "        arrival_airport = c[3]\n",
    "        future_routes = get_best_path(arrival_airport, k, arrival_stage)\n",
    "        \n",
    "        if future_routes:\n",
    "            for route in future_routes:\n",
    "                if distance(c[2], c[3]) <= fleet[3][k] and airports[3][c[2]] >= fleet[4][k] and airports[3][c[3]] >= fleet[4][k]:\n",
    "                    total_profit = c[-1] + route[0]  # Add current profit to future route's profit\n",
    "                    total_block = c[-2] + route[1]   # Add current block time to future route's block time\n",
    "\n",
    "                    # Add the total profit to the route and print only the flight actions (not the grounding)\n",
    "                    if c[2] != c[3]:\n",
    "                        routes.append([total_profit, total_block, [c[0], c[1], c[2], c[3], c[4]]] + route[2:])\n",
    "                    else:\n",
    "                        routes.append([total_profit] + route[1:])\n",
    "        else:\n",
    "            total_profit = c[-1]  # Profit for the last segment\n",
    "            total_block = c[-2]   # Block time for the last segment\n",
    "            routes.append([total_profit, total_block, [c[0], c[1], c[2], c[3], c[4]]])\n",
    "    \n",
    "    # Filter routes that end at the hub \n",
    "    valid_routes = [route for route in routes if route[-1][3] == hub]\n",
    "    # Only keep the route with the highest profit for each departure_airport\n",
    "    valid_routes = sorted(valid_routes, key=lambda route: route[0], reverse=True)\n",
    "    \n",
    "    if valid_routes:\n",
    "        max_profit_route = valid_routes[0]  # Take the route with the highest profit\n",
    "        memo[(departure_airport, k, departure_stage)] = [max_profit_route]  # Cache only the highest profit route for the current stage\n",
    "    else:\n",
    "        memo[(departure_airport, k, departure_stage)] = []\n",
    "    \n",
    "    return memo[(departure_airport, k, departure_stage)]\n",
    "\n",
    "# Clear the memo dictionary before running to avoid stale data\n",
    "memo.clear()\n",
    "\n",
    "#---------------------------------------------------------------------------------------------------------------------\n",
    "\n",
    "# Create a function to print the flight schedule of the most profitable route by aircraft type k\n",
    "def get_flight_schedule(best_route, ac_best_route):\n",
    "    def get_time(n):\n",
    "        day     = int(n/240+1)\n",
    "        hours   = int((n - ((day-1) * 240)) / 10)\n",
    "        minutes = int((n - ((day-1) * 240 + hours * 10)) * 6)\n",
    "        return [day, hours, minutes]\n",
    "    \n",
    "    schedule = {}\n",
    "    \n",
    "    # Group flights by day\n",
    "    print(\"-------------------------------------------\")\n",
    "    print(\"Route flown by aircraft \", aircraft_types[ac_best_route])\n",
    "    for flight in best_route[:-1]:\n",
    "        time_dep = f\"{get_time(flight[0])[1]:02d}:{get_time(flight[0])[2]:02d}\"\n",
    "        time_arr = f\"{get_time(flight[1])[1]:02d}:{get_time(flight[1])[2]:02d}\"\n",
    "        flight_day = get_time(flight[0])[0]\n",
    "        flight_dep_ap = cities[flight[2]]\n",
    "        flight_arr_ap = cities[flight[3]]\n",
    "        flight_demand = flight[4]\n",
    "        \n",
    "        # Create list for day if it doesn't exist\n",
    "        if flight_day not in schedule:\n",
    "            schedule[flight_day] = []\n",
    "        \n",
    "        # Add flight to appropriate day\n",
    "        schedule[flight_day].append(f\"{time_dep}  {time_arr}  {flight_dep_ap} - {flight_arr_ap}  {round(flight_demand,1)}\")\n",
    "\n",
    "    # Print schedule by day\n",
    "    for day in sorted(schedule.keys()):\n",
    "        print(f\"Day {day}\")\n",
    "        for flight in schedule[day]:\n",
    "            print(flight)\n",
    "    \n",
    "    return ac_best_route, best_route \n",
    "\n",
    "# ---------------------------------------------------------------------------------------------------------------------\n",
    "\n",
    "# Create an algorithm to choose the best most profitable aircraft out of all available aircrafts\n",
    "def choose_ac(departure_airport=hub, departure_stage=0):\n",
    "    available_ac = (fleet[9])   # tuple of available aircrafts\n",
    "    ac_list = [*available_ac]   # list of available aircrafts\n",
    "    iterations = 1\n",
    "    flown_route = []\n",
    "    global best_routes, ac_best_route       # global variables to store the best routes and it's aircraft type\n",
    "    best_routes = []\n",
    "\n",
    "    # Keep initiating aircrafts untill all aircrafts are used\n",
    "    while not all(ac == 0 for ac in ac_list):\n",
    "        print(\"=================================================================\")\n",
    "        print(\"iteration: \", iterations)\n",
    "        print(\"available aircrafts: type 1: \", ac_list[0], \" | type 2: \", ac_list[1], \" | type 3: \", ac_list[2])\n",
    "        memo.clear()\n",
    "        best_profit = 0              # set the lowest bound to 0\n",
    "        block_time = [0] * len(ac_list)                 # create a list to store the block time for each aircraft type\n",
    "        ac_best_route = None                            # set the most profitable aircraft type to None at start of iteration\n",
    "        k_available = -1                                # create an index for the amount of available routes\n",
    "        for k in range(len(ac_list)):\n",
    "            # Check if there are any aircrafts available of type k, if so, get the best path for that aircraft type\n",
    "            if ac_list[k] >= 1:\n",
    "                k_available += 1                        # increase the index for the amount of available routes\n",
    "                flown_route.append(get_best_path(departure_airport, k, departure_stage)[0])\n",
    "                print(flown_route[k_available])\n",
    "                block_time[k] = flown_route[k_available][1]\n",
    "                # Check which aircraft type has the highest profit\n",
    "                if flown_route[k_available][0] - fleet[5][k]*5 > best_profit and block_time[k] >= 60 * 6 * 5:\n",
    "                    # Save the best profit and aircraft type used in the most profitable route\n",
    "                    best_profit = flown_route[k_available][0] - fleet[5][k]*5\n",
    "                    best_route = flown_route[k_available][2:]\n",
    "                    ac_best_route = k                   # save the most profitable aircraft type   \n",
    "                    best_k_aivailable = k_available     # save the index of the most profitable route from all available\n",
    "                # Don't consider aircraft type that can't make a profit or reach the minimum block time of 6 hours per day\n",
    "                if flown_route[k_available][0] - fleet[5][k]*5 <= 0 or block_time[k] <= 60 * 6 * 5:\n",
    "                    ac_list[k] = 0\n",
    "\n",
    "        if not all(ac == 0 for ac in ac_list) and ac_best_route != None:\n",
    "            print(\"most profitable aircraft type: \", ac_best_route + 1)\n",
    "            print(\"profit made: \", best_profit)\n",
    "            print(\"total block time: \", flown_route[best_k_aivailable][1])\n",
    "            print(\"route flown: \",get_flight_schedule(best_route, ac_best_route))\n",
    "            ac_list[ac_best_route] -= 1\n",
    "            \n",
    "\n",
    "            # Subtract satisfied demand from the demand matrix\n",
    "            for flight in range(len(flown_route[best_k_aivailable][2:])):       # loop through all flights in the route\n",
    "                flown_demand = [0] * len(flown_route[best_k_aivailable][2:])    # create lists with amount of instances equal to the amount flights\n",
    "                flown_bin =    [0] * len(flown_route[best_k_aivailable][2:])\n",
    "                flown_dep =    [0] * len(flown_route[best_k_aivailable][2:])\n",
    "                flown_arr =    [0] * len(flown_route[best_k_aivailable][2:])\n",
    "                flown_demand[flight] = flown_route[best_k_aivailable][2:][flight][-1]\n",
    "                flown_bin[flight] = int(flown_route[best_k_aivailable][2:][flight][0] / 40)\n",
    "                flown_dep[flight] = flown_route[best_k_aivailable][2:][flight][2]\n",
    "                flown_arr[flight] = flown_route[best_k_aivailable][2:][flight][3]\n",
    "                if flown_demand[flight] < demand_matrix[flown_dep[flight]][flown_arr[flight]][flown_bin[flight]]:\n",
    "                    demand_matrix[flown_dep[flight]][flown_arr[flight]][flown_bin[flight]] -= flown_demand[flight]\n",
    "                else:\n",
    "                    demand_matrix[flown_dep[flight]][flown_arr[flight]][flown_bin[flight]] = 0\n",
    "                    rest_demand_first = flown_demand[flight] - demand_matrix[flown_dep[flight]][flown_arr[flight]][flown_bin[flight]]\n",
    "                    if rest_demand_first < demand_matrix[flown_dep[flight]][flown_arr[flight]][flown_bin[flight - 1]]:\n",
    "                        demand_matrix[flown_dep[flight]][flown_arr[flight]][flown_bin[flight - 1]] -= rest_demand_first\n",
    "                    else:\n",
    "                        demand_matrix[flown_dep[flight]][flown_arr[flight]][flown_bin[flight - 1]] = 0\n",
    "                        rest_demand_second = rest_demand_first - demand_matrix[flown_dep[flight]][flown_arr[flight]][flown_bin[flight - 1]]\n",
    "                        demand_matrix[flown_dep[flight]][flown_arr[flight]][flown_bin[flight - 2]] -= rest_demand_second\n",
    "            flown_route.clear()\n",
    "        \n",
    "        else:\n",
    "            print(\"no more aircrafts available or profitable\")\n",
    "        if iterations == 5:\n",
    "            break\n",
    "        iterations += 1\n",
    "        \n",
    "\n",
    "choose_ac()"
   ]
  },
  {
   "cell_type": "code",
   "execution_count": 12,
   "metadata": {},
   "outputs": [
    {
     "data": {
      "application/vnd.plotly.v1+json": {
       "config": {
        "plotlyServerURL": "https://plot.ly"
       },
       "data": [
        {
         "lat": [
          50.0379,
          40.4893,
          44.5709,
          38.1759
         ],
         "lon": [
          8.5622,
          -3.6822,
          26.085,
          13.091
         ],
         "marker": {
          "color": "black",
          "size": 6,
          "symbol": "circle"
         },
         "mode": "markers+text",
         "showlegend": false,
         "text": [
          "Frankfurt",
          "Madrid",
          "Bucharest",
          "Palermo"
         ],
         "textposition": "top center",
         "type": "scattergeo"
        }
       ],
       "frames": [
        {
         "data": [
          {
           "lat": [
            50.0379,
            40.4893
           ],
           "line": {
            "color": "orange",
            "width": 2
           },
           "lon": [
            8.5622,
            -3.6822
           ],
           "marker": {
            "color": "black",
            "size": 5
           },
           "mode": "lines+markers",
           "type": "scattergeo"
          }
         ],
         "name": "Time 1230"
        },
        {
         "data": [
          {
           "lat": [
            40.4893,
            50.0379
           ],
           "line": {
            "color": "blue",
            "width": 2
           },
           "lon": [
            -3.6822,
            8.5622
           ],
           "marker": {
            "color": "black",
            "size": 5
           },
           "mode": "lines+markers",
           "type": "scattergeo"
          }
         ],
         "name": "Time 1458"
        },
        {
         "data": [
          {
           "lat": [
            50.0379,
            40.4893
           ],
           "line": {
            "color": "orange",
            "width": 2
           },
           "lon": [
            8.5622,
            -3.6822
           ],
           "marker": {
            "color": "black",
            "size": 5
           },
           "mode": "lines+markers",
           "type": "scattergeo"
          }
         ],
         "name": "Time 1686"
        },
        {
         "data": [
          {
           "lat": [
            40.4893,
            50.0379
           ],
           "line": {
            "color": "blue",
            "width": 2
           },
           "lon": [
            -3.6822,
            8.5622
           ],
           "marker": {
            "color": "black",
            "size": 5
           },
           "mode": "lines+markers",
           "type": "scattergeo"
          }
         ],
         "name": "Time 1914"
        },
        {
         "data": [
          {
           "lat": [
            50.0379,
            44.5709
           ],
           "line": {
            "color": "orange",
            "width": 2
           },
           "lon": [
            8.5622,
            26.085
           ],
           "marker": {
            "color": "black",
            "size": 5
           },
           "mode": "lines+markers",
           "type": "scattergeo"
          }
         ],
         "name": "Time 2154"
        },
        {
         "data": [
          {
           "lat": [
            44.5709,
            50.0379
           ],
           "line": {
            "color": "blue",
            "width": 2
           },
           "lon": [
            26.085,
            8.5622
           ],
           "marker": {
            "color": "black",
            "size": 5
           },
           "mode": "lines+markers",
           "type": "scattergeo"
          }
         ],
         "name": "Time 3114"
        },
        {
         "data": [
          {
           "lat": [
            50.0379,
            40.4893
           ],
           "line": {
            "color": "orange",
            "width": 2
           },
           "lon": [
            8.5622,
            -3.6822
           ],
           "marker": {
            "color": "black",
            "size": 5
           },
           "mode": "lines+markers",
           "type": "scattergeo"
          }
         ],
         "name": "Time 3354"
        },
        {
         "data": [
          {
           "lat": [
            40.4893,
            50.0379
           ],
           "line": {
            "color": "blue",
            "width": 2
           },
           "lon": [
            -3.6822,
            8.5622
           ],
           "marker": {
            "color": "black",
            "size": 5
           },
           "mode": "lines+markers",
           "type": "scattergeo"
          }
         ],
         "name": "Time 4314"
        },
        {
         "data": [
          {
           "lat": [
            50.0379,
            40.4893
           ],
           "line": {
            "color": "orange",
            "width": 2
           },
           "lon": [
            8.5622,
            -3.6822
           ],
           "marker": {
            "color": "black",
            "size": 5
           },
           "mode": "lines+markers",
           "type": "scattergeo"
          }
         ],
         "name": "Time 4566"
        },
        {
         "data": [
          {
           "lat": [
            40.4893,
            50.0379
           ],
           "line": {
            "color": "blue",
            "width": 2
           },
           "lon": [
            -3.6822,
            8.5622
           ],
           "marker": {
            "color": "black",
            "size": 5
           },
           "mode": "lines+markers",
           "type": "scattergeo"
          }
         ],
         "name": "Time 4794"
        },
        {
         "data": [
          {
           "lat": [
            50.0379,
            38.1759
           ],
           "line": {
            "color": "orange",
            "width": 2
           },
           "lon": [
            8.5622,
            13.091
           ],
           "marker": {
            "color": "black",
            "size": 5
           },
           "mode": "lines+markers",
           "type": "scattergeo"
          }
         ],
         "name": "Time 5526"
        },
        {
         "data": [
          {
           "lat": [
            38.1759,
            50.0379
           ],
           "line": {
            "color": "blue",
            "width": 2
           },
           "lon": [
            13.091,
            8.5622
           ],
           "marker": {
            "color": "black",
            "size": 5
           },
           "mode": "lines+markers",
           "type": "scattergeo"
          }
         ],
         "name": "Time 5754"
        },
        {
         "data": [
          {
           "lat": [
            50.0379,
            40.4893
           ],
           "line": {
            "color": "orange",
            "width": 2
           },
           "lon": [
            8.5622,
            -3.6822
           ],
           "marker": {
            "color": "black",
            "size": 5
           },
           "mode": "lines+markers",
           "type": "scattergeo"
          }
         ],
         "name": "Time 6006"
        },
        {
         "data": [
          {
           "lat": [
            40.4893,
            50.0379
           ],
           "line": {
            "color": "blue",
            "width": 2
           },
           "lon": [
            -3.6822,
            8.5622
           ],
           "marker": {
            "color": "black",
            "size": 5
           },
           "mode": "lines+markers",
           "type": "scattergeo"
          }
         ],
         "name": "Time 6234"
        }
       ],
       "layout": {
        "geo": {
         "landcolor": "rgb(229, 229, 229)",
         "projection": {
          "type": "natural earth"
         },
         "scope": "europe",
         "showcountries": true,
         "showland": true
        },
        "sliders": [
         {
          "steps": [
           {
            "args": [
             [
              "Time 1230"
             ],
             {
              "frame": {
               "duration": 300,
               "redraw": true
              },
              "mode": "immediate"
             }
            ],
            "label": "Day 1, 20:30",
            "method": "animate"
           },
           {
            "args": [
             [
              "Time 1458"
             ],
             {
              "frame": {
               "duration": 300,
               "redraw": true
              },
              "mode": "immediate"
             }
            ],
            "label": "Day 2, 00:18",
            "method": "animate"
           },
           {
            "args": [
             [
              "Time 1686"
             ],
             {
              "frame": {
               "duration": 300,
               "redraw": true
              },
              "mode": "immediate"
             }
            ],
            "label": "Day 2, 04:06",
            "method": "animate"
           },
           {
            "args": [
             [
              "Time 1914"
             ],
             {
              "frame": {
               "duration": 300,
               "redraw": true
              },
              "mode": "immediate"
             }
            ],
            "label": "Day 2, 07:54",
            "method": "animate"
           },
           {
            "args": [
             [
              "Time 2154"
             ],
             {
              "frame": {
               "duration": 300,
               "redraw": true
              },
              "mode": "immediate"
             }
            ],
            "label": "Day 2, 11:54",
            "method": "animate"
           },
           {
            "args": [
             [
              "Time 3114"
             ],
             {
              "frame": {
               "duration": 300,
               "redraw": true
              },
              "mode": "immediate"
             }
            ],
            "label": "Day 3, 03:54",
            "method": "animate"
           },
           {
            "args": [
             [
              "Time 3354"
             ],
             {
              "frame": {
               "duration": 300,
               "redraw": true
              },
              "mode": "immediate"
             }
            ],
            "label": "Day 3, 07:54",
            "method": "animate"
           },
           {
            "args": [
             [
              "Time 4314"
             ],
             {
              "frame": {
               "duration": 300,
               "redraw": true
              },
              "mode": "immediate"
             }
            ],
            "label": "Day 3, 23:54",
            "method": "animate"
           },
           {
            "args": [
             [
              "Time 4566"
             ],
             {
              "frame": {
               "duration": 300,
               "redraw": true
              },
              "mode": "immediate"
             }
            ],
            "label": "Day 4, 04:06",
            "method": "animate"
           },
           {
            "args": [
             [
              "Time 4794"
             ],
             {
              "frame": {
               "duration": 300,
               "redraw": true
              },
              "mode": "immediate"
             }
            ],
            "label": "Day 4, 07:54",
            "method": "animate"
           },
           {
            "args": [
             [
              "Time 5526"
             ],
             {
              "frame": {
               "duration": 300,
               "redraw": true
              },
              "mode": "immediate"
             }
            ],
            "label": "Day 4, 20:06",
            "method": "animate"
           },
           {
            "args": [
             [
              "Time 5754"
             ],
             {
              "frame": {
               "duration": 300,
               "redraw": true
              },
              "mode": "immediate"
             }
            ],
            "label": "Day 4, 23:54",
            "method": "animate"
           },
           {
            "args": [
             [
              "Time 6006"
             ],
             {
              "frame": {
               "duration": 300,
               "redraw": true
              },
              "mode": "immediate"
             }
            ],
            "label": "Day 5, 04:06",
            "method": "animate"
           },
           {
            "args": [
             [
              "Time 6234"
             ],
             {
              "frame": {
               "duration": 300,
               "redraw": true
              },
              "mode": "immediate"
             }
            ],
            "label": "Day 5, 07:54",
            "method": "animate"
           }
          ]
         }
        ],
        "template": {
         "data": {
          "bar": [
           {
            "error_x": {
             "color": "#2a3f5f"
            },
            "error_y": {
             "color": "#2a3f5f"
            },
            "marker": {
             "line": {
              "color": "#E5ECF6",
              "width": 0.5
             },
             "pattern": {
              "fillmode": "overlay",
              "size": 10,
              "solidity": 0.2
             }
            },
            "type": "bar"
           }
          ],
          "barpolar": [
           {
            "marker": {
             "line": {
              "color": "#E5ECF6",
              "width": 0.5
             },
             "pattern": {
              "fillmode": "overlay",
              "size": 10,
              "solidity": 0.2
             }
            },
            "type": "barpolar"
           }
          ],
          "carpet": [
           {
            "aaxis": {
             "endlinecolor": "#2a3f5f",
             "gridcolor": "white",
             "linecolor": "white",
             "minorgridcolor": "white",
             "startlinecolor": "#2a3f5f"
            },
            "baxis": {
             "endlinecolor": "#2a3f5f",
             "gridcolor": "white",
             "linecolor": "white",
             "minorgridcolor": "white",
             "startlinecolor": "#2a3f5f"
            },
            "type": "carpet"
           }
          ],
          "choropleth": [
           {
            "colorbar": {
             "outlinewidth": 0,
             "ticks": ""
            },
            "type": "choropleth"
           }
          ],
          "contour": [
           {
            "colorbar": {
             "outlinewidth": 0,
             "ticks": ""
            },
            "colorscale": [
             [
              0,
              "#0d0887"
             ],
             [
              0.1111111111111111,
              "#46039f"
             ],
             [
              0.2222222222222222,
              "#7201a8"
             ],
             [
              0.3333333333333333,
              "#9c179e"
             ],
             [
              0.4444444444444444,
              "#bd3786"
             ],
             [
              0.5555555555555556,
              "#d8576b"
             ],
             [
              0.6666666666666666,
              "#ed7953"
             ],
             [
              0.7777777777777778,
              "#fb9f3a"
             ],
             [
              0.8888888888888888,
              "#fdca26"
             ],
             [
              1,
              "#f0f921"
             ]
            ],
            "type": "contour"
           }
          ],
          "contourcarpet": [
           {
            "colorbar": {
             "outlinewidth": 0,
             "ticks": ""
            },
            "type": "contourcarpet"
           }
          ],
          "heatmap": [
           {
            "colorbar": {
             "outlinewidth": 0,
             "ticks": ""
            },
            "colorscale": [
             [
              0,
              "#0d0887"
             ],
             [
              0.1111111111111111,
              "#46039f"
             ],
             [
              0.2222222222222222,
              "#7201a8"
             ],
             [
              0.3333333333333333,
              "#9c179e"
             ],
             [
              0.4444444444444444,
              "#bd3786"
             ],
             [
              0.5555555555555556,
              "#d8576b"
             ],
             [
              0.6666666666666666,
              "#ed7953"
             ],
             [
              0.7777777777777778,
              "#fb9f3a"
             ],
             [
              0.8888888888888888,
              "#fdca26"
             ],
             [
              1,
              "#f0f921"
             ]
            ],
            "type": "heatmap"
           }
          ],
          "heatmapgl": [
           {
            "colorbar": {
             "outlinewidth": 0,
             "ticks": ""
            },
            "colorscale": [
             [
              0,
              "#0d0887"
             ],
             [
              0.1111111111111111,
              "#46039f"
             ],
             [
              0.2222222222222222,
              "#7201a8"
             ],
             [
              0.3333333333333333,
              "#9c179e"
             ],
             [
              0.4444444444444444,
              "#bd3786"
             ],
             [
              0.5555555555555556,
              "#d8576b"
             ],
             [
              0.6666666666666666,
              "#ed7953"
             ],
             [
              0.7777777777777778,
              "#fb9f3a"
             ],
             [
              0.8888888888888888,
              "#fdca26"
             ],
             [
              1,
              "#f0f921"
             ]
            ],
            "type": "heatmapgl"
           }
          ],
          "histogram": [
           {
            "marker": {
             "pattern": {
              "fillmode": "overlay",
              "size": 10,
              "solidity": 0.2
             }
            },
            "type": "histogram"
           }
          ],
          "histogram2d": [
           {
            "colorbar": {
             "outlinewidth": 0,
             "ticks": ""
            },
            "colorscale": [
             [
              0,
              "#0d0887"
             ],
             [
              0.1111111111111111,
              "#46039f"
             ],
             [
              0.2222222222222222,
              "#7201a8"
             ],
             [
              0.3333333333333333,
              "#9c179e"
             ],
             [
              0.4444444444444444,
              "#bd3786"
             ],
             [
              0.5555555555555556,
              "#d8576b"
             ],
             [
              0.6666666666666666,
              "#ed7953"
             ],
             [
              0.7777777777777778,
              "#fb9f3a"
             ],
             [
              0.8888888888888888,
              "#fdca26"
             ],
             [
              1,
              "#f0f921"
             ]
            ],
            "type": "histogram2d"
           }
          ],
          "histogram2dcontour": [
           {
            "colorbar": {
             "outlinewidth": 0,
             "ticks": ""
            },
            "colorscale": [
             [
              0,
              "#0d0887"
             ],
             [
              0.1111111111111111,
              "#46039f"
             ],
             [
              0.2222222222222222,
              "#7201a8"
             ],
             [
              0.3333333333333333,
              "#9c179e"
             ],
             [
              0.4444444444444444,
              "#bd3786"
             ],
             [
              0.5555555555555556,
              "#d8576b"
             ],
             [
              0.6666666666666666,
              "#ed7953"
             ],
             [
              0.7777777777777778,
              "#fb9f3a"
             ],
             [
              0.8888888888888888,
              "#fdca26"
             ],
             [
              1,
              "#f0f921"
             ]
            ],
            "type": "histogram2dcontour"
           }
          ],
          "mesh3d": [
           {
            "colorbar": {
             "outlinewidth": 0,
             "ticks": ""
            },
            "type": "mesh3d"
           }
          ],
          "parcoords": [
           {
            "line": {
             "colorbar": {
              "outlinewidth": 0,
              "ticks": ""
             }
            },
            "type": "parcoords"
           }
          ],
          "pie": [
           {
            "automargin": true,
            "type": "pie"
           }
          ],
          "scatter": [
           {
            "fillpattern": {
             "fillmode": "overlay",
             "size": 10,
             "solidity": 0.2
            },
            "type": "scatter"
           }
          ],
          "scatter3d": [
           {
            "line": {
             "colorbar": {
              "outlinewidth": 0,
              "ticks": ""
             }
            },
            "marker": {
             "colorbar": {
              "outlinewidth": 0,
              "ticks": ""
             }
            },
            "type": "scatter3d"
           }
          ],
          "scattercarpet": [
           {
            "marker": {
             "colorbar": {
              "outlinewidth": 0,
              "ticks": ""
             }
            },
            "type": "scattercarpet"
           }
          ],
          "scattergeo": [
           {
            "marker": {
             "colorbar": {
              "outlinewidth": 0,
              "ticks": ""
             }
            },
            "type": "scattergeo"
           }
          ],
          "scattergl": [
           {
            "marker": {
             "colorbar": {
              "outlinewidth": 0,
              "ticks": ""
             }
            },
            "type": "scattergl"
           }
          ],
          "scattermapbox": [
           {
            "marker": {
             "colorbar": {
              "outlinewidth": 0,
              "ticks": ""
             }
            },
            "type": "scattermapbox"
           }
          ],
          "scatterpolar": [
           {
            "marker": {
             "colorbar": {
              "outlinewidth": 0,
              "ticks": ""
             }
            },
            "type": "scatterpolar"
           }
          ],
          "scatterpolargl": [
           {
            "marker": {
             "colorbar": {
              "outlinewidth": 0,
              "ticks": ""
             }
            },
            "type": "scatterpolargl"
           }
          ],
          "scatterternary": [
           {
            "marker": {
             "colorbar": {
              "outlinewidth": 0,
              "ticks": ""
             }
            },
            "type": "scatterternary"
           }
          ],
          "surface": [
           {
            "colorbar": {
             "outlinewidth": 0,
             "ticks": ""
            },
            "colorscale": [
             [
              0,
              "#0d0887"
             ],
             [
              0.1111111111111111,
              "#46039f"
             ],
             [
              0.2222222222222222,
              "#7201a8"
             ],
             [
              0.3333333333333333,
              "#9c179e"
             ],
             [
              0.4444444444444444,
              "#bd3786"
             ],
             [
              0.5555555555555556,
              "#d8576b"
             ],
             [
              0.6666666666666666,
              "#ed7953"
             ],
             [
              0.7777777777777778,
              "#fb9f3a"
             ],
             [
              0.8888888888888888,
              "#fdca26"
             ],
             [
              1,
              "#f0f921"
             ]
            ],
            "type": "surface"
           }
          ],
          "table": [
           {
            "cells": {
             "fill": {
              "color": "#EBF0F8"
             },
             "line": {
              "color": "white"
             }
            },
            "header": {
             "fill": {
              "color": "#C8D4E3"
             },
             "line": {
              "color": "white"
             }
            },
            "type": "table"
           }
          ]
         },
         "layout": {
          "annotationdefaults": {
           "arrowcolor": "#2a3f5f",
           "arrowhead": 0,
           "arrowwidth": 1
          },
          "autotypenumbers": "strict",
          "coloraxis": {
           "colorbar": {
            "outlinewidth": 0,
            "ticks": ""
           }
          },
          "colorscale": {
           "diverging": [
            [
             0,
             "#8e0152"
            ],
            [
             0.1,
             "#c51b7d"
            ],
            [
             0.2,
             "#de77ae"
            ],
            [
             0.3,
             "#f1b6da"
            ],
            [
             0.4,
             "#fde0ef"
            ],
            [
             0.5,
             "#f7f7f7"
            ],
            [
             0.6,
             "#e6f5d0"
            ],
            [
             0.7,
             "#b8e186"
            ],
            [
             0.8,
             "#7fbc41"
            ],
            [
             0.9,
             "#4d9221"
            ],
            [
             1,
             "#276419"
            ]
           ],
           "sequential": [
            [
             0,
             "#0d0887"
            ],
            [
             0.1111111111111111,
             "#46039f"
            ],
            [
             0.2222222222222222,
             "#7201a8"
            ],
            [
             0.3333333333333333,
             "#9c179e"
            ],
            [
             0.4444444444444444,
             "#bd3786"
            ],
            [
             0.5555555555555556,
             "#d8576b"
            ],
            [
             0.6666666666666666,
             "#ed7953"
            ],
            [
             0.7777777777777778,
             "#fb9f3a"
            ],
            [
             0.8888888888888888,
             "#fdca26"
            ],
            [
             1,
             "#f0f921"
            ]
           ],
           "sequentialminus": [
            [
             0,
             "#0d0887"
            ],
            [
             0.1111111111111111,
             "#46039f"
            ],
            [
             0.2222222222222222,
             "#7201a8"
            ],
            [
             0.3333333333333333,
             "#9c179e"
            ],
            [
             0.4444444444444444,
             "#bd3786"
            ],
            [
             0.5555555555555556,
             "#d8576b"
            ],
            [
             0.6666666666666666,
             "#ed7953"
            ],
            [
             0.7777777777777778,
             "#fb9f3a"
            ],
            [
             0.8888888888888888,
             "#fdca26"
            ],
            [
             1,
             "#f0f921"
            ]
           ]
          },
          "colorway": [
           "#636efa",
           "#EF553B",
           "#00cc96",
           "#ab63fa",
           "#FFA15A",
           "#19d3f3",
           "#FF6692",
           "#B6E880",
           "#FF97FF",
           "#FECB52"
          ],
          "font": {
           "color": "#2a3f5f"
          },
          "geo": {
           "bgcolor": "white",
           "lakecolor": "white",
           "landcolor": "#E5ECF6",
           "showlakes": true,
           "showland": true,
           "subunitcolor": "white"
          },
          "hoverlabel": {
           "align": "left"
          },
          "hovermode": "closest",
          "mapbox": {
           "style": "light"
          },
          "paper_bgcolor": "white",
          "plot_bgcolor": "#E5ECF6",
          "polar": {
           "angularaxis": {
            "gridcolor": "white",
            "linecolor": "white",
            "ticks": ""
           },
           "bgcolor": "#E5ECF6",
           "radialaxis": {
            "gridcolor": "white",
            "linecolor": "white",
            "ticks": ""
           }
          },
          "scene": {
           "xaxis": {
            "backgroundcolor": "#E5ECF6",
            "gridcolor": "white",
            "gridwidth": 2,
            "linecolor": "white",
            "showbackground": true,
            "ticks": "",
            "zerolinecolor": "white"
           },
           "yaxis": {
            "backgroundcolor": "#E5ECF6",
            "gridcolor": "white",
            "gridwidth": 2,
            "linecolor": "white",
            "showbackground": true,
            "ticks": "",
            "zerolinecolor": "white"
           },
           "zaxis": {
            "backgroundcolor": "#E5ECF6",
            "gridcolor": "white",
            "gridwidth": 2,
            "linecolor": "white",
            "showbackground": true,
            "ticks": "",
            "zerolinecolor": "white"
           }
          },
          "shapedefaults": {
           "line": {
            "color": "#2a3f5f"
           }
          },
          "ternary": {
           "aaxis": {
            "gridcolor": "white",
            "linecolor": "white",
            "ticks": ""
           },
           "baxis": {
            "gridcolor": "white",
            "linecolor": "white",
            "ticks": ""
           },
           "bgcolor": "#E5ECF6",
           "caxis": {
            "gridcolor": "white",
            "linecolor": "white",
            "ticks": ""
           }
          },
          "title": {
           "x": 0.05
          },
          "xaxis": {
           "automargin": true,
           "gridcolor": "white",
           "linecolor": "white",
           "ticks": "",
           "title": {
            "standoff": 15
           },
           "zerolinecolor": "white",
           "zerolinewidth": 2
          },
          "yaxis": {
           "automargin": true,
           "gridcolor": "white",
           "linecolor": "white",
           "ticks": "",
           "title": {
            "standoff": 15
           },
           "zerolinecolor": "white",
           "zerolinewidth": 2
          }
         }
        },
        "title": {
         "text": "Flight Schedule Over Time"
        },
        "updatemenus": [
         {
          "buttons": [
           {
            "args": [
             null,
             {
              "frame": {
               "duration": 1000,
               "redraw": true
              },
              "fromcurrent": true
             }
            ],
            "label": "Play",
            "method": "animate"
           }
          ],
          "type": "buttons"
         }
        ]
       }
      }
     },
     "metadata": {},
     "output_type": "display_data"
    }
   ],
   "source": [
    "import plotly.graph_objects as go\n",
    "\n",
    "airport_coords = {\n",
    "    \"Frankfurt\": (50.0379, 8.5622),\n",
    "    \"Madrid\": (40.4893, -3.6822),\n",
    "    \"Bucharest\": (44.5709, 26.0850),\n",
    "    \"Palermo\": (38.1759, 13.0910)\n",
    "}\n",
    "\n",
    "# Hulpfunctie: zet dag + hh:mm om in totale minuten\n",
    "def day_time_to_minutes(day, hhmm):\n",
    "    hh, mm = map(int, hhmm.split(\":\"))\n",
    "    return (day - 1) * 24 * 60 + hh * 60 + mm\n",
    "\n",
    "# Vervang het flight_data in je code door het volgende\n",
    "flights = [\n",
    "    # (dag, vertrektijd, aankomsttijd, vertrek, aankomst, vraag)\n",
    "    (1, \"20:30\", \"00:18\", \"Frankfurt\", \"Madrid\", 23000.0),\n",
    "    (2, \"00:18\", \"04:06\", \"Madrid\", \"Frankfurt\", 23000.0),\n",
    "    (2, \"04:06\", \"07:54\", \"Frankfurt\", \"Madrid\", 23000.0),\n",
    "    (2, \"07:54\", \"11:42\", \"Madrid\", \"Frankfurt\", 23000.0),\n",
    "    (2, \"11:54\", \"15:48\", \"Frankfurt\", \"Bucharest\", 23000.0),\n",
    "    (3, \"03:54\", \"07:48\", \"Bucharest\", \"Frankfurt\", 20234.6),\n",
    "    (3, \"07:54\", \"11:42\", \"Frankfurt\", \"Madrid\", 23000.0),\n",
    "    (3, \"23:54\", \"03:42\", \"Madrid\", \"Frankfurt\", 23000.0),\n",
    "    (4, \"04:06\", \"07:54\", \"Frankfurt\", \"Madrid\", 23000.0),\n",
    "    (4, \"07:54\", \"11:42\", \"Madrid\", \"Frankfurt\", 23000.0),\n",
    "    (4, \"20:06\", \"23:54\", \"Frankfurt\", \"Palermo\", 23000.0),\n",
    "    (4, \"23:54\", \"03:42\", \"Palermo\", \"Frankfurt\", 23000.0),\n",
    "    (5, \"04:06\", \"07:54\", \"Frankfurt\", \"Madrid\", 23000.0),\n",
    "    (5, \"07:54\", \"11:42\", \"Madrid\", \"Frankfurt\", 23000.0),\n",
    "]\n",
    "\n",
    "# Genereer een DataFrame met de juiste kolommen voor tijd + vertrek/aankomstlocatie\n",
    "flight_data = []\n",
    "for (day, dep_time, arr_time, dep_city, arr_city, demand) in flights:\n",
    "    dep_lat, dep_lon = airport_coords[dep_city]\n",
    "    arr_lat, arr_lon = airport_coords[arr_city]\n",
    "    flight_data.append({\n",
    "        \"time\": day_time_to_minutes(day, dep_time),\n",
    "        \"dep_city\": dep_city,\n",
    "        \"arr_city\": arr_city,\n",
    "        \"dep_lat\": dep_lat,\n",
    "        \"dep_lon\": dep_lon,\n",
    "        \"arr_lat\": arr_lat,\n",
    "        \"arr_lon\": arr_lon,\n",
    "        \"demand\": demand\n",
    "    })\n",
    "flight_data = pd.DataFrame(flight_data)\n",
    "\n",
    "# Stap 2: Maak een figuur aan en genereer frames per tijdstap\n",
    "frames = []\n",
    "for t in sorted(flight_data[\"time\"].unique()):\n",
    "    df_t = flight_data[flight_data[\"time\"] == t]\n",
    "    # Voegt per tijdstap een scattertrace toe met paden\n",
    "    frames.append(\n",
    "        go.Frame(\n",
    "            data=[\n",
    "                go.Scattergeo(\n",
    "                    lon = df_t[[\"dep_lon\",\"arr_lon\"]].values.flatten(),\n",
    "                    lat = df_t[[\"dep_lat\",\"arr_lat\"]].values.flatten(),\n",
    "                    mode = \"lines+markers\",\n",
    "                    line = dict(width=2,color=\"blue\"),\n",
    "                    marker = dict(size=5,color=\"red\"),\n",
    "                )\n",
    "            ],\n",
    "            name = f\"Time {t}\"\n",
    "        )\n",
    "    )\n",
    "\n",
    "# Stap 3: Basismap definiëren en extra opties toevoegen\n",
    "fig = go.Figure(\n",
    "    data=[\n",
    "        # Voeg een aparte trace voor alle airports toe\n",
    "        go.Scattergeo(\n",
    "            lon=[coord[1] for coord in airport_coords.values()],\n",
    "            lat=[coord[0] for coord in airport_coords.values()],\n",
    "            text=list(airport_coords.keys()),\n",
    "            mode=\"markers+text\",\n",
    "            textposition=\"top center\",\n",
    "            marker=dict(size=6, symbol=\"circle\", color=\"black\"),\n",
    "            showlegend=False\n",
    "        )\n",
    "    ],\n",
    "    layout=go.Layout(\n",
    "        title=\"Flight Schedule Over Time\",\n",
    "        geo=dict(\n",
    "            showland=True,\n",
    "            landcolor=\"rgb(229, 229, 229)\",\n",
    "            showcountries=True,\n",
    "            scope=\"europe\",\n",
    "            projection=dict(type=\"natural earth\")\n",
    "        ),\n",
    "        updatemenus=[{\n",
    "            \"type\": \"buttons\",\n",
    "            \"buttons\": [{\n",
    "                \"label\": \"Play\",\n",
    "                \"method\": \"animate\",\n",
    "                \"args\": [\n",
    "                    None,\n",
    "                    {\"frame\": {\"duration\": 1000, \"redraw\": True}, \"fromcurrent\": True}\n",
    "                ]\n",
    "            }]\n",
    "        }],\n",
    "        sliders=[{\n",
    "            \"steps\": [\n",
    "                {\n",
    "                    \"method\": \"animate\",\n",
    "                    \"label\": f\"Day {t // (24 * 60) + 1}, {t % (24 * 60) // 60:02d}:{t % 60:02d}\",\n",
    "                    \"args\": [\n",
    "                        [f\"Time {t}\"],\n",
    "                        {\"frame\": {\"duration\": 300, \"redraw\": True}, \"mode\": \"immediate\"}\n",
    "                    ],\n",
    "                } for t in sorted(flight_data[\"time\"].unique())\n",
    "            ]\n",
    "        }]\n",
    "    ),\n",
    "    # Frames aanpassen om uitgaande/inkomende vluchten anders te kleuren\n",
    "    frames=[\n",
    "        go.Frame(\n",
    "            data=[\n",
    "                go.Scattergeo(\n",
    "                    lon=df_t[[\"dep_lon\",\"arr_lon\"]].values.flatten(),\n",
    "                    lat=df_t[[\"dep_lat\",\"arr_lat\"]].values.flatten(),\n",
    "                    mode=\"lines+markers\",\n",
    "                    line=dict(\n",
    "                        width=2,\n",
    "                        color=\"orange\" if (df_t.iloc[0][\"dep_city\"] == \"Frankfurt\") else \"blue\"\n",
    "                    ),\n",
    "                    marker=dict(size=5, color=\"black\"),\n",
    "                )\n",
    "            ],\n",
    "            name=f\"Time {t}\"\n",
    "        )\n",
    "        for t in sorted(flight_data[\"time\"].unique())\n",
    "        for df_t in [flight_data[flight_data[\"time\"] == t]]\n",
    "    ]\n",
    ")\n",
    "\n",
    "fig.show()"
   ]
  },
  {
   "cell_type": "code",
   "execution_count": null,
   "metadata": {},
   "outputs": [],
   "source": []
  }
 ],
 "metadata": {
  "kernelspec": {
   "display_name": "base",
   "language": "python",
   "name": "python3"
  },
  "language_info": {
   "codemirror_mode": {
    "name": "ipython",
    "version": 3
   },
   "file_extension": ".py",
   "mimetype": "text/x-python",
   "name": "python",
   "nbconvert_exporter": "python",
   "pygments_lexer": "ipython3",
   "version": "3.11.7"
  }
 },
 "nbformat": 4,
 "nbformat_minor": 2
}
