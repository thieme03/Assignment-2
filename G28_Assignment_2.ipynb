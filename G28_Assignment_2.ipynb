{
 "cells": [
  {
   "cell_type": "code",
   "execution_count": null,
   "metadata": {
    "vscode": {
     "languageId": "plaintext"
    }
   },
   "outputs": [],
   "source": [
    "# Group: 28\n",
    "# Authors: Thieme Brandwagt and Sam Buisman\n",
    "#=================================\n",
    "# Assignment 1 - Aircraft Routing Problem \n",
    "#=================================\n",
    "#%% ----------------------------------------------------------------------------------\n",
    "from gurobipy import *\n",
    "from openpyxl import *\n",
    "from time import *\n",
    "from sklearn.linear_model import LinearRegression\n",
    "import math\n",
    "import pandas as pd\n",
    "import numpy as np\n",
    "import matplotlib.pyplot as plt\n",
    "import seaborn as sns\n",
    "import folium\n",
    "import time\n",
    "from folium import PolyLine\n",
    "from folium.plugins import MarkerCluster"
   ]
  }
 ],
 "metadata": {
  "language_info": {
   "name": "python"
  }
 },
 "nbformat": 4,
 "nbformat_minor": 2
}
