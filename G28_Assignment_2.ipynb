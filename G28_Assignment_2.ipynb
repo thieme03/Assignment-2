{
 "cells": [
  {
   "cell_type": "code",
   "execution_count": 1,
   "metadata": {},
   "outputs": [],
   "source": [
    "# Group: 28\n",
    "# Authors: Thieme Brandwagt and Sam Buisman\n",
    "#=================================\n",
    "# Assignment 1 - Aircraft Routing Problem \n",
    "#=================================\n",
    "#%% ----------------------------------------------------------------------------------\n",
    "from gurobipy import *\n",
    "from openpyxl import *\n",
    "from time import *\n",
    "from sklearn.linear_model import LinearRegression\n",
    "import math\n",
    "import pandas as pd\n",
    "import numpy as np\n",
    "import matplotlib.pyplot as plt\n",
    "import seaborn as sns\n",
    "import folium\n",
    "import time\n",
    "from folium import PolyLine\n",
    "from folium.plugins import MarkerCluster"
   ]
  },
  {
   "cell_type": "markdown",
   "metadata": {},
   "source": [
    "Find the data"
   ]
  },
  {
   "cell_type": "code",
   "execution_count": 2,
   "metadata": {},
   "outputs": [],
   "source": [
    "file_path_demand = \"DATA/Group28.xlsx\"\n",
    "file_path_airport = \"DATA/AirportData.xlsx\"\n",
    "file_path_fleet = \"DATA/FleetType.xlsx\""
   ]
  },
  {
   "cell_type": "code",
   "execution_count": 56,
   "metadata": {},
   "outputs": [],
   "source": [
    "time_intervals = [\"00:00-04:00\", \"04:00-08:00\", \"08:00-12:00\", \n",
    "                  \"12:00-16:00\", \"16:00-20:00\", \"20:00-00:00\"]"
   ]
  },
  {
   "cell_type": "code",
   "execution_count": 122,
   "metadata": {},
   "outputs": [
    {
     "data": {
      "text/plain": [
       "array([['LHR', 'LHR', 0, ..., 0, 0, 0],\n",
       "       ['LHR', 'CDG', 0, ..., 0, 0, 0],\n",
       "       ['LHR', 'AMS', 0, ..., 0, 0, 0],\n",
       "       ...,\n",
       "       ['FNC', 'KEF', 0, ..., 0, 0, 0],\n",
       "       ['FNC', 'PMO', 0, ..., 0, 0, 0],\n",
       "       ['FNC', 'FNC', 0, ..., 0, 0, 0]], dtype=object)"
      ]
     },
     "execution_count": 122,
     "metadata": {},
     "output_type": "execute_result"
    }
   ],
   "source": [
    "demand_df = pd.read_excel(file_path_demand, usecols=\"B:AG\", skiprows=4)\n",
    "days = 5\n",
    "column_labels = [\"From\", \"To\"]\n",
    "column_labels.extend([f\"Day {day+1} {interval}\" for day in range(days) for interval in time_intervals])\n",
    "demand_df.columns = column_labels\n",
    "\n",
    "demand_df\n",
    "\n",
    "demand=demand_df.to_numpy()\n",
    "demand"
   ]
  }
 ],
 "metadata": {
  "kernelspec": {
   "display_name": "base",
   "language": "python",
   "name": "python3"
  },
  "language_info": {
   "codemirror_mode": {
    "name": "ipython",
    "version": 3
   },
   "file_extension": ".py",
   "mimetype": "text/x-python",
   "name": "python",
   "nbconvert_exporter": "python",
   "pygments_lexer": "ipython3",
   "version": "3.11.4"
  }
 },
 "nbformat": 4,
 "nbformat_minor": 2
}
