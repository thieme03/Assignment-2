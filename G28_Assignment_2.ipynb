{
 "cells": [
  {
   "cell_type": "markdown",
   "metadata": {},
   "source": [
    "Vraagjes aan de docenten:\n",
    "- How to calculate the block time for aircrafts that fly routes overnight? Which part of the flight is assigned to which day\n",
    "- How to make sure the most optimal route replaces the previous most optimal route?\n"
   ]
  },
  {
   "cell_type": "code",
   "execution_count": null,
   "metadata": {},
   "outputs": [],
   "source": []
  },
  {
   "cell_type": "code",
   "execution_count": 2,
   "metadata": {},
   "outputs": [],
   "source": [
    "# Group: 28\n",
    "# Authors: Thieme Brandwagt and Sam Buisman\n",
    "#=========================================\n",
    "# Assignment 2 - Aircraft Routing Problem \n",
    "#=========================================\n",
    "\n",
    "# Import necessary packages\n",
    "from openpyxl import *\n",
    "from time import *\n",
    "import math\n",
    "import pandas as pd\n",
    "import numpy as np\n",
    "import matplotlib.pyplot as plt\n",
    "import seaborn as sns"
   ]
  },
  {
   "cell_type": "code",
   "execution_count": 3,
   "metadata": {},
   "outputs": [],
   "source": [
    "# profit, n, aircraft, i, j = s # Attributes for state\n"
   ]
  },
  {
   "cell_type": "markdown",
   "metadata": {},
   "source": [
    "### STEP 1: Load the data"
   ]
  },
  {
   "cell_type": "code",
   "execution_count": 58,
   "metadata": {},
   "outputs": [
    {
     "name": "stdout",
     "output_type": "stream",
     "text": [
      "CDG\n",
      "London\n",
      "800.0\n",
      "Type 1: Small freighter\n",
      "LHR\n",
      "11396.314893372413\n"
     ]
    }
   ],
   "source": [
    "# Load airport data into a numpy array\n",
    "file_path_airports = \"DATA/AirportData.xlsx\"\n",
    "airports_df = pd.read_excel(file_path_airports, usecols =\"B:U\")\n",
    "airports = airports_df.to_numpy()\n",
    "print(airports[0][1])\n",
    "# Create list for all the airports (columns)\n",
    "cities = airports_df.columns\n",
    "print(cities[0])\n",
    "\n",
    "\n",
    "# Load fleet data into a numpy array\n",
    "file_path_fleet = \"DATA/FleetType.xlsx\"\n",
    "fleet_df = pd.read_excel(file_path_fleet)\n",
    "fleet_df = fleet_df.set_index(\"Aircraft Type\")\n",
    "fleet = fleet_df.to_numpy()\n",
    "print(fleet[0][0])   # speed, capacity, tat, range, runway, lease cost, fixed cost, time cost, fuel cost, amount\n",
    "\n",
    "# Create list for all the aircraft types (columns)\n",
    "aircraft_types = fleet_df.columns\n",
    "print(aircraft_types[0])\n",
    "\n",
    "\n",
    "# Load demand data into a numpy array\n",
    "file_path_demand = \"DATA/Group28.xlsx\"\n",
    "demand_df = pd.read_excel(file_path_demand, usecols=\"B:AG\", skiprows=4)\n",
    "demand = demand_df.to_numpy()\n",
    "print(demand[0][0])\n",
    "\n",
    "# Create a triple dimensional array for demand data (origin x destination x time)\n",
    "demand_matrix = np.zeros((len(cities), len(cities), demand.shape[1] - 2))\n",
    "# Populate matrix with all demand from all intervals\n",
    "for rows in range(len(cities)):\n",
    "    for columns in range(len(cities)):\n",
    "        for time_steps in range(int(120/4)):  # 120 hours devided by 4 hour time steps\n",
    "            demand_matrix[rows][columns][time_steps] = demand[rows * 20 + columns][time_steps + 2]\n",
    "print(demand_matrix[19][18][6])\n"
   ]
  },
  {
   "cell_type": "code",
   "execution_count": 38,
   "metadata": {},
   "outputs": [],
   "source": [
    "time_intervals = [\"00:00-04:00\", \"04:00-08:00\", \"08:00-12:00\", \n",
    "                  \"12:00-16:00\", \"16:00-20:00\", \"20:00-00:00\"]"
   ]
  },
  {
   "cell_type": "code",
   "execution_count": 39,
   "metadata": {},
   "outputs": [
    {
     "data": {
      "text/plain": [
       "5"
      ]
     },
     "execution_count": 39,
     "metadata": {},
     "output_type": "execute_result"
    }
   ],
   "source": [
    "tijd = [0,1,2,3,4,5]\n",
    "tijd[-1]"
   ]
  },
  {
   "cell_type": "markdown",
   "metadata": {},
   "source": [
    "### STEP 2: Define the functions"
   ]
  },
  {
   "cell_type": "code",
   "execution_count": 40,
   "metadata": {},
   "outputs": [
    {
     "name": "stdout",
     "output_type": "stream",
     "text": [
      "51127.0017609541\n"
     ]
    }
   ],
   "source": [
    "# Adding the previous two bins to the currect bin to get total demand\n",
    "def flow(i, j, t):\n",
    "    return demand_matrix[i,j,t] + 0.2 * (demand_matrix[i,j,t-1]+demand_matrix[i,j,t-2])\n",
    "\n",
    "print(flow(0,1,25)) # LHR to CDG for bin 8"
   ]
  },
  {
   "cell_type": "code",
   "execution_count": 41,
   "metadata": {},
   "outputs": [],
   "source": [
    "def distance(i, j, R_E=6371):\n",
    "    if i != j:\n",
    "        lat_i, long_i = airports[1][i], airports[2][i]\n",
    "        lat_j, long_j = airports[1][j], airports[2][j]\n",
    "        delta_lat = lat_j - lat_i\n",
    "        delta_long = long_j - long_i\n",
    "        root = math.sin(math.radians(delta_lat)/2)**2 + math.cos(math.radians(lat_i)) \\\n",
    "            * math.cos(math.radians(lat_j)) * math.sin(math.radians(delta_long)/2)**2\n",
    "        return R_E * 2 * math.asin(math.sqrt(root)) \n",
    "    else:\n",
    "        return 0\n",
    "\n",
    "# E.v.t. nog stoppen in een df'pje later, zodat ie niet naar zichzelf gaat verwijzen"
   ]
  },
  {
   "cell_type": "code",
   "execution_count": 42,
   "metadata": {},
   "outputs": [
    {
     "name": "stdout",
     "output_type": "stream",
     "text": [
      "1200\n",
      "40.0\n"
     ]
    }
   ],
   "source": [
    "time_step = 6\n",
    "total_time = 120 * 60\n",
    "# print(stages)\n",
    "# print(stages[5])\n",
    "\n",
    "def flight_duration(i,j,k):\n",
    "    return distance(i, j, R_E=6371) / fleet[0][k]\n",
    "\n",
    "time_stages = np.arange(0, total_time, time_step)\n",
    "time_bins = np.arange(30)\n",
    "\n",
    "divider = len(time_stages)/ len(time_bins) # Divide by 40 to get the right bin associated with the stage (round down)\n",
    "\n",
    "print(len(time_stages))\n",
    "print(divider)"
   ]
  },
  {
   "cell_type": "code",
   "execution_count": 43,
   "metadata": {},
   "outputs": [
    {
     "name": "stdout",
     "output_type": "stream",
     "text": [
      "2385.302572558103\n",
      "8403.575400678272\n",
      "-1626.7664906330197\n",
      "23000.0\n",
      "58.113158915127194\n",
      "10\n"
     ]
    }
   ],
   "source": [
    "# Calculate the cost for each flight leg\n",
    "def cost_flight_leg(i, j, k):\n",
    "    if i != j:\n",
    "        tc = fleet[7][k] * (distance(i, j, R_E=6371) / fleet[0][k])     # formula for the time costs\n",
    "        fc = ((fleet[8][k] * 1.42) / 1.5) * distance(i, j, R_E=6371)    # formula for the fuel costs\n",
    "        foc = fleet[6][k]                                               # formula for the fixed operating costs\n",
    "        return tc + fc + foc\n",
    "\n",
    "print(cost_flight_leg(0,1,0))\n",
    "\n",
    "# Calculate the profit for each flight leg\n",
    "def profit(i, j, k, n):\n",
    "    satisfied_demand = min(flow(i,j,math.floor(n / divider)), fleet[1][k])\n",
    "    if i != j:\n",
    "        revenue = 0.26 * distance(i,j) * satisfied_demand / 1000\n",
    "        costs = cost_flight_leg(i,j,k)\n",
    "        return revenue - costs\n",
    "print(flow(0,1,26))\n",
    "print(profit(0, 1, 0, 1050))\n",
    "print(fleet[1][0])\n",
    "\n",
    "# Calculate the flight duration for each flight leg\n",
    "# ONDERSTAANDE TWEE FUNCTIES KUNNEN LATER EVT GEMERGED WORDEN\n",
    "def flight_duration(i,j,k):\n",
    "    return distance(i, j, R_E=6371) / fleet[0][k] * 60 + 15 + 15 # Round up to the nearest 6-fold\n",
    "print(flight_duration(1,2,1)) # From Paris to Amsterdam\n",
    "\n",
    "def get_stages_in_flight(i,j,k):\n",
    "    return math.ceil((flight_duration(i,j,k)) / 6)\n",
    "\n",
    "print(get_stages_in_flight(1,2,1))"
   ]
  },
  {
   "cell_type": "code",
   "execution_count": 44,
   "metadata": {},
   "outputs": [],
   "source": [
    "# # DEZE CEL KAN LATER MISSCHIEN WEG, MAAR WE ZOUDEN DE STATUS KUNNEN BEPALEN DOOR DUS ALTIJD EEN I EN J MEE TE GEVEN AAN EEN VLIEGTUIG, DUS I NAAR I ALS HET VLIEGTUIG STILSTAAT OP DE HUB EN J NAAR J OP EEN SPOKE, I NAAR J ALS IE ONDERWEG IS\n",
    "# state = ['grounded_hub', \n",
    "#           'grounded_spoke', \n",
    "#           'airborne_to_hub', \n",
    "#           'airborne_to_spoke'] \n",
    "\n",
    "# # Determine current state (what is the current status of the plane?)\n",
    "# def get_current_state(i, j):\n",
    "#     if i == j:  # grounded\n",
    "#         return state[0] if i == 3 else state[1] # grounded at hub or spoke\n",
    "#     else:  \n",
    "#         return state[2] if j == 3 else state[3] # airborne to hub or to spoke\n",
    "\n",
    "# get_current_state(4,4)"
   ]
  },
  {
   "cell_type": "code",
   "execution_count": 45,
   "metadata": {},
   "outputs": [
    {
     "data": {
      "text/plain": [
       "[{'From': 'Frankfurt',\n",
       "  'to': 'London',\n",
       "  'profit': -3733.623089404598,\n",
       "  'departure stage': 986},\n",
       " {'From': 'Frankfurt',\n",
       "  'to': 'Paris',\n",
       "  'profit': -179.95064787450292,\n",
       "  'departure stage': 989},\n",
       " {'From': 'Frankfurt',\n",
       "  'to': 'Amsterdam',\n",
       "  'profit': -284.599331892211,\n",
       "  'departure stage': 990},\n",
       " {'Grounding at': 'Frankfurt', 'profit': None},\n",
       " {'From': 'Frankfurt',\n",
       "  'to': 'Madrid',\n",
       "  'profit': -1381.8944017992671,\n",
       "  'departure stage': 977},\n",
       " {'From': 'Frankfurt',\n",
       "  'to': 'Barcelona',\n",
       "  'profit': -1649.5338991357003,\n",
       "  'departure stage': 981},\n",
       " {'From': 'Frankfurt',\n",
       "  'to': 'Munich',\n",
       "  'profit': -1889.0091382163673,\n",
       "  'departure stage': 991},\n",
       " {'From': 'Frankfurt',\n",
       "  'to': 'Rome',\n",
       "  'profit': -4549.823401285375,\n",
       "  'departure stage': 983},\n",
       " {'From': 'Frankfurt',\n",
       "  'to': 'Dublin',\n",
       "  'profit': -2627.1559130161363,\n",
       "  'departure stage': 981},\n",
       " {'From': 'Frankfurt',\n",
       "  'to': 'Stockholm',\n",
       "  'profit': 802.6841347241616,\n",
       "  'departure stage': 979},\n",
       " {'From': 'Frankfurt',\n",
       "  'to': 'Lisbon',\n",
       "  'profit': -3051.104430904911,\n",
       "  'departure stage': 971},\n",
       " {'From': 'Frankfurt',\n",
       "  'to': 'Berlin',\n",
       "  'profit': -1790.921016885863,\n",
       "  'departure stage': 989},\n",
       " {'From': 'Frankfurt',\n",
       "  'to': 'Helsinki',\n",
       "  'profit': -4361.680593761674,\n",
       "  'departure stage': 975},\n",
       " {'From': 'Frankfurt',\n",
       "  'to': 'Warsaw',\n",
       "  'profit': -3555.193275414591,\n",
       "  'departure stage': 983},\n",
       " {'From': 'Frankfurt',\n",
       "  'to': 'Edinburgh',\n",
       "  'profit': -4544.533479337586,\n",
       "  'departure stage': 982},\n",
       " {'From': 'Frankfurt',\n",
       "  'to': 'Bucharest',\n",
       "  'profit': -7451.852679751669,\n",
       "  'departure stage': 976},\n",
       " {'From': 'Frankfurt',\n",
       "  'to': 'Heraklion',\n",
       "  'profit': 1059.635488177657,\n",
       "  'departure stage': 968},\n",
       " {'From': 'Frankfurt',\n",
       "  'to': 'Reykjavik',\n",
       "  'profit': -4956.900064280512,\n",
       "  'departure stage': 964},\n",
       " {'From': 'Frankfurt',\n",
       "  'to': 'Palermo',\n",
       "  'profit': 999.5750626550252,\n",
       "  'departure stage': 977},\n",
       " {'From': 'Frankfurt',\n",
       "  'to': 'Madeira',\n",
       "  'profit': -13007.704577378612,\n",
       "  'departure stage': 959}]"
      ]
     },
     "execution_count": 45,
     "metadata": {},
     "output_type": "execute_result"
    }
   ],
   "source": [
    "# Create a list of all possible decisions a plane can take at airport i at arrival stage n\n",
    "def get_candidates_decisions(i,k,n):    \n",
    "    candidates = []\n",
    "    hub = 3 # Define Frankfurt as a hub\n",
    "    if i == hub:                 \n",
    "        for j in range(len(cities)):                                                        \n",
    "            if i == j:\n",
    "                candidates.append({\"Grounding at\":cities[i], \"profit\":profit(i,i,k,n)})                                                         # grounded at hub\n",
    "            else:\n",
    "                departure_stage = n-get_stages_in_flight(i,j,k)\n",
    "                candidates.append({\"From\":cities[i], \"to\":cities[j],\"profit\":profit(i,j,k,departure_stage), \"departure stage\":departure_stage})  # flight to spoke\n",
    "        \n",
    "    else:\n",
    "        candidates.append({\"Grounding at\":cities[i], \"profit\":profit(i,i,k,n)})   \n",
    "        departure_stage = n-get_stages_in_flight(i,hub,k)                                                       # grounded at spoke\n",
    "        candidates.append({\"From\":cities[i], \"to\":cities[hub], \"profit\":profit(i,hub,k,departure_stage), \"departure stage\":departure_stage})     # flight to hub\n",
    "    return candidates\n",
    "\n",
    "get_candidates_decisions(3,0,1000)"
   ]
  },
  {
   "cell_type": "code",
   "execution_count": 46,
   "metadata": {},
   "outputs": [
    {
     "name": "stdout",
     "output_type": "stream",
     "text": [
      "The most profitable decision is: {'From': 'Frankfurt', 'to': 'Palermo', 'profit': 147.6206929163218, 'departure stage': -123}\n"
     ]
    }
   ],
   "source": [
    "# Pick the list item with the greatest profit\n",
    "def optimal_decision(i,k,s):\n",
    "    return max(\n",
    "        get_candidates_decisions(i,k,s),\n",
    "        key = lambda x:x['profit'] if x['profit'] is not None else float('-inf')\n",
    "        )\n",
    "\n",
    "print(f\"The most profitable decision is: {optimal_decision(3,0,-100)}\")"
   ]
  },
  {
   "cell_type": "code",
   "execution_count": 47,
   "metadata": {},
   "outputs": [
    {
     "name": "stdout",
     "output_type": "stream",
     "text": [
      "9\n"
     ]
    }
   ],
   "source": [
    "print(get_stages_in_flight(3,6,0))"
   ]
  },
  {
   "cell_type": "markdown",
   "metadata": {},
   "source": [
    "### STEP 3: Building the algorithm"
   ]
  },
  {
   "cell_type": "markdown",
   "metadata": {},
   "source": [
    "## NOTES"
   ]
  },
  {
   "cell_type": "code",
   "execution_count": 48,
   "metadata": {},
   "outputs": [
    {
     "name": "stdout",
     "output_type": "stream",
     "text": [
      "3\n"
     ]
    }
   ],
   "source": [
    "ending_state = [[-1200], [3], [0], [0], [None]]   # stage, airport, summed profit, hours flown, route flown\n",
    "len(ending_state[1])\n",
    "print(ending_state[1][0])"
   ]
  },
  {
   "cell_type": "code",
   "execution_count": 49,
   "metadata": {},
   "outputs": [
    {
     "name": "stdout",
     "output_type": "stream",
     "text": [
      "3\n",
      "[-1200, 3, 0, 0, [None, 'Test']]\n",
      "3\n",
      "3\n",
      "Test\n",
      "Vest\n",
      "4\n"
     ]
    }
   ],
   "source": [
    "new_states = [[-1200, 3, 0, 0, [None, \"Test\"]],\n",
    "                [-1199, 3, 0, 0, [None, \"Test\"]],\n",
    "                [-1198, 5, -200, 0, [None, \"Test\", \"Pest\", \"Vest\"]]\n",
    "                ]\n",
    "print(len(new_states))\n",
    "print(new_states[0])\n",
    "print(new_states[0][1])\n",
    "print(new_states[1][1])\n",
    "print(new_states[0][4][1])\n",
    "print(new_states[2][4][3])\n",
    "print(len(new_states[2][4]))"
   ]
  },
  {
   "cell_type": "code",
   "execution_count": 50,
   "metadata": {},
   "outputs": [
    {
     "name": "stdout",
     "output_type": "stream",
     "text": [
      "3\n"
     ]
    }
   ],
   "source": [
    "new_states = [[-1200, 3, 0, 0, [None, \"Test\"]]]\n",
    "print(new_states[0][1])"
   ]
  },
  {
   "cell_type": "code",
   "execution_count": 51,
   "metadata": {},
   "outputs": [
    {
     "name": "stdout",
     "output_type": "stream",
     "text": [
      "-1200\n",
      "3\n",
      "0\n",
      "0\n",
      "None\n",
      "[1, [2, 2], 5]\n"
     ]
    }
   ],
   "source": [
    "ending_state = [-1200, 3, 0, 0, None]   # stage, airport, maximum profit, hours flown (day), route flown\n",
    "\n",
    "def test_state(ending_state):\n",
    "    print(ending_state[0])\n",
    "    print(ending_state[1])\n",
    "    print(ending_state[2])\n",
    "    print(ending_state[3])\n",
    "    print(ending_state[4])\n",
    "\n",
    "test_state(ending_state)\n",
    "\n",
    "fleet[3][0]\n",
    "\n",
    "test = []\n",
    "test.append(1)\n",
    "test.append([2,2])\n",
    "test.append(5)\n",
    "print(test)"
   ]
  },
  {
   "cell_type": "code",
   "execution_count": 52,
   "metadata": {},
   "outputs": [
    {
     "name": "stdout",
     "output_type": "stream",
     "text": [
      "2385.302572558103\n",
      "8403.575400678272\n",
      "-1626.7664906330197\n",
      "23000.0\n",
      "25\n"
     ]
    }
   ],
   "source": [
    "# Create a list of all possible decisions a plane can take at airport i at arrival stage n\n",
    "def get_candidates_decisions(i,k,n):    \n",
    "    candidates = []\n",
    "    hub = 3 # Define Frankfurt as a hub\n",
    "    if i == hub:                 \n",
    "        for j in range(len(cities)):                                                        \n",
    "            if i == j:\n",
    "                candidates.append({\"Grounding at\":cities[i], \"profit\":profit(i,i,k,n)})                                                         # grounded at hub\n",
    "            else:\n",
    "                departure_stage = n-get_stages_in_flight(i,j,k)\n",
    "                candidates.append({\"From\":cities[i], \"to\":cities[j],\"profit\":profit(i,j,k,departure_stage), \"departure stage\":departure_stage})  # flight to spoke\n",
    "        \n",
    "    else:\n",
    "        candidates.append({\"Grounding at\":cities[i], \"profit\":profit(i,i,k,n)})   \n",
    "        departure_stage = n-get_stages_in_flight(i,hub,k)                                                       # grounded at spoke\n",
    "        candidates.append({\"From\":cities[i], \"to\":cities[hub], \"profit\":profit(i,hub,k,departure_stage), \"departure stage\":departure_stage})     # flight to hub\n",
    "    return candidates\n",
    "\n",
    "def flow(i, j, t):\n",
    "    return demand_matrix[i,j,t] + 0.2 * (demand_matrix[i,j,t-1]+demand_matrix[i,j,t-2])\n",
    "\n",
    "def distance(i, j):\n",
    "    if i != j:\n",
    "        lat_i, long_i = airports[1][i], airports[2][i]\n",
    "        lat_j, long_j = airports[1][j], airports[2][j]\n",
    "        delta_lat = lat_j - lat_i\n",
    "        delta_long = long_j - long_i\n",
    "        root = math.sin(math.radians(delta_lat)/2)**2 + math.cos(math.radians(lat_i)) \\\n",
    "            * math.cos(math.radians(lat_j)) * math.sin(math.radians(delta_long)/2)**2\n",
    "        return 6371 * 2 * math.asin(math.sqrt(root)) \n",
    "    else:\n",
    "        return 0\n",
    "    \n",
    "# Calculate the cost for each flight leg\n",
    "def cost_flight_leg(i, j, k):\n",
    "    if i != j:\n",
    "        tc = fleet[7][k] * (distance(i, j) / fleet[0][k])     # formula for the time costs\n",
    "        fc = ((fleet[8][k] * 1.42) / 1.5) * distance(i, j)    # formula for the fuel costs\n",
    "        foc = fleet[6][k]                                               # formula for the fixed operating costs\n",
    "        return tc + fc + foc\n",
    "\n",
    "print(cost_flight_leg(0,1,0))\n",
    "\n",
    "# Calculate the profit for each flight leg\n",
    "def profit(i, j, k, n):\n",
    "    satisfied_demand = min(flow(i,j,math.floor(n / divider)), fleet[1][k])\n",
    "    if i != j:\n",
    "        revenue = 0.26 * distance(i,j) * satisfied_demand / 1000\n",
    "        costs = cost_flight_leg(i,j,k)\n",
    "        return revenue - costs\n",
    "print(flow(0,1,26))\n",
    "print(profit(0, 1, 0, 1050))\n",
    "print(fleet[1][0])\n",
    "\n",
    "# Calculate the flight duration for each flight leg\n",
    "# ONDERSTAANDE TWEE FUNCTIES KUNNEN LATER EVT GEMERGED WORDEN\n",
    "def flight_block_time(i,j,k):\n",
    "    return distance(i, j) / fleet[0][k] * 60 + 15 + 15   # not rounded to full stages\n",
    "def flight_duration(i,j,k):\n",
    "    return math.ceil((flight_block_time(i,j,k) + fleet[2][0]) / 6)   # rounded up to full stages\n",
    "\n",
    "print(flight_duration(1,2,1)) # From Paris to Amsterdam"
   ]
  },
  {
   "cell_type": "code",
   "execution_count": 67,
   "metadata": {},
   "outputs": [
    {
     "name": "stdout",
     "output_type": "stream",
     "text": [
      "[1170, 2, -3734.209530801696, 279.10727249396774, [0, 3, 29, 1170, 1199, 79.10727249396774, -3834.209530801696, 0.0]]\n"
     ]
    }
   ],
   "source": [
    "new_states = []\n",
    "if flight_details:\n",
    "\tprint([1199-flight_details[0][2], 2, 100 + flight_details[0][6], 200 + flight_details[0][5], flight_details[0]])\n",
    "else:\n",
    "\tprint(\"flight_details is empty\")"
   ]
  },
  {
   "cell_type": "code",
   "execution_count": 97,
   "metadata": {},
   "outputs": [
    {
     "name": "stdout",
     "output_type": "stream",
     "text": [
      "[[0, 3, 29, 1011, 1040, 79.10727249396774, -1845.240439951918, 11683.423956593228]]\n",
      "29\n"
     ]
    }
   ],
   "source": [
    "# Gather all the details for the flight between i (origin) and j (destination (=previous_state)) with airplane k\n",
    "def get_flight_details(previous_states, s, i, k):\n",
    "    global flight_details\n",
    "    flight_details = []\n",
    "    n = previous_states[s][0]              # stage\n",
    "    j = previous_states[s][1]              # destination\n",
    "    flight_time = flight_duration(i,j,k)\n",
    "    block_time = flight_block_time(i,j,k)\n",
    "    departure_time = n - flight_time\n",
    "    arrival_time = n\n",
    "    flight_profit = profit(i,j,k,n)\n",
    "    satisfied_demand = min(flow(i,j,math.floor(n / divider)), fleet[1][k])\n",
    "    flight_details.append([i, j, flight_time, departure_time, arrival_time, block_time, flight_profit, satisfied_demand])\n",
    "\n",
    "get_flight_details([[1040, 3, 0, 0, None]], 0, 0, 0)\n",
    "print(flight_details)\n",
    "print(flight_details[0][2])"
   ]
  },
  {
   "cell_type": "code",
   "execution_count": 94,
   "metadata": {},
   "outputs": [
    {
     "data": {
      "text/plain": [
       "[[1170,\n",
       "  0,\n",
       "  -3834.209530801696,\n",
       "  79.10727249396774,\n",
       "  [0, 3, 29, 1170, 1199, 79.10727249396774, -3834.209530801696, 0.0]],\n",
       " [1173,\n",
       "  1,\n",
       "  -2865.0009602161936,\n",
       "  63.675380171509495,\n",
       "  [1, 3, 26, 1173, 1199, 63.675380171509495, -2865.0009602161936, 0.0]],\n",
       " [1174,\n",
       "  2,\n",
       "  -2476.732705270283,\n",
       "  57.49331153902264,\n",
       "  [2, 3, 25, 1174, 1199, 57.49331153902264, -2476.732705270283, 0.0]],\n",
       " [1198, 3, 0, 0, None],\n",
       " [1161,\n",
       "  4,\n",
       "  -7448.450715875428,\n",
       "  136.65379291088695,\n",
       "  [4, 3, 38, 1161, 1199, 136.65379291088695, -7448.450715875428, 0.0]],\n",
       " [1165,\n",
       "  5,\n",
       "  -5901.365379151117,\n",
       "  112.02085521868209,\n",
       "  [5, 3, 34, 1165, 1199, 112.02085521868209, -5901.365379151117, 0.0]],\n",
       " [1175,\n",
       "  6,\n",
       "  -2158.7615024812303,\n",
       "  52.43052370160296,\n",
       "  [6, 3, 24, 1175, 1199, 52.43052370160296, -2158.7615024812303, 0.0]],\n",
       " [1167,\n",
       "  7,\n",
       "  -5263.190183819763,\n",
       "  101.85972871185822,\n",
       "  [7, 3, 32, 1167, 1199, 101.85972871185822, -5263.190183819763, 0.0]],\n",
       " [1165,\n",
       "  8,\n",
       "  -5869.723704877819,\n",
       "  111.51705147085427,\n",
       "  [8, 3, 34, 1165, 1199, 111.51705147085427, -5869.723704877819, 0.0]],\n",
       " [1163,\n",
       "  9,\n",
       "  -6510.779173960173,\n",
       "  121.7240381523955,\n",
       "  [9, 3, 36, 1163, 1199, 121.7240381523955, -6510.779173960173, 0.0]],\n",
       " [1173,\n",
       "  11,\n",
       "  -2783.4050291405174,\n",
       "  62.376196837266086,\n",
       "  [11, 3, 26, 1173, 1199, 62.376196837266086, -2783.4050291405174, 0.0]],\n",
       " [1167,\n",
       "  13,\n",
       "  -4971.669843593903,\n",
       "  97.21809569632043,\n",
       "  [13, 3, 32, 1167, 1199, 97.21809569632043, -4971.669843593903, 0.0]],\n",
       " [1166,\n",
       "  14,\n",
       "  -5615.193731130357,\n",
       "  107.46438492732987,\n",
       "  [14, 3, 33, 1166, 1199, 107.46438492732987, -5615.193731130357, 0.0]],\n",
       " [1160,\n",
       "  15,\n",
       "  -7575.616261337662,\n",
       "  138.67854286075004,\n",
       "  [15, 3, 39, 1160, 1199, 138.67854286075004, -7575.616261337662, 0.0]],\n",
       " [1161,\n",
       "  18,\n",
       "  -7241.2852258992625,\n",
       "  133.3552711775203,\n",
       "  [18, 3, 38, 1161, 1199, 133.3552711775203, -7241.2852258992625, 0.0]]]"
      ]
     },
     "execution_count": 94,
     "metadata": {},
     "output_type": "execute_result"
    }
   ],
   "source": [
    "# Create a list of all possible routes a plane had before arriving (or staying) at airport j (=previous_state) on stage n\n",
    "def get_new_states(previous_states, k):\n",
    "    global new_states\n",
    "    new_states = []\n",
    "    for s in range(len(previous_states)):   \n",
    "        hub = 3     # define Frankfurt as a hub\n",
    "        n, j, sum_profit, hours_flown, route_flown  = previous_states[s][0], previous_states[s][1], previous_states[s][2], previous_states[s][3], previous_states[s][4]\n",
    "        if j == hub:    # hub is destination                \n",
    "            for i in range(len(cities)):                                                        \n",
    "                if i == j:  # grounded at hub\n",
    "                    new_states.append([n-1, hub, sum_profit, hours_flown, route_flown])                                                         \n",
    "                else:       # flying from spoke to hub\n",
    "                    get_flight_details(previous_states, s, i, k)\n",
    "                    if distance(i,j) <= fleet[3][k] and airports[3][i] >= fleet[4][k] and airports[3][hub] >= fleet[4][k] \\\n",
    "                        and n - flight_details[s][2] >= 0:\n",
    "                        new_states.append([n-flight_details[s][2], i, sum_profit + flight_details[s][6], hours_flown + flight_details[s][5], flight_details[s]])\n",
    "        else:           # spoke is destination\n",
    "            new_states.append([n-1, j, sum_profit, hours_flown, route_flown])   # grounded at spoke\n",
    "            get_flight_details(previous_states, s, hub, k)                      # flying from hub to spoke\n",
    "            if distance(hub,j) <= fleet[3][k] and airports[3][j] >= fleet[4][k] and airports[3][hub] >= fleet[4][k] \\\n",
    "                        and n - flight_details[s][2] >= 0:\n",
    "                new_states.append([n-flight_details[s][2], hub, sum_profit + flight_details[s][6], hours_flown + flight_details[s][5], flight_details[s]])\n",
    "    return new_states\n",
    "\n",
    "get_new_states([[1199, 3, 0, 0, None]], 0)"
   ]
  },
  {
   "cell_type": "markdown",
   "metadata": {},
   "source": [
    "## ACTUAL CODE"
   ]
  },
  {
   "cell_type": "code",
   "execution_count": 77,
   "metadata": {},
   "outputs": [],
   "source": [
    "ending_state = [1199, 3, 0, 0, None]       # stage, airport, maximum profit, hours flown, route flown\n",
    "new_states = []                             # stage, airport, maximum profit, hours flown, route flown\n",
    "best_route_state = [1199, 3, 0, 0, None]   # stage, airport, maximum profit, hours flown, route flown\n",
    "flight = [3, 1, 10, 5, 15, 4, 500, 20000]   # origin, destination, flight duration, departure, arrival, block time, profit, satisfied demand\n",
    "available_aircraft_types = [0,1,1]          # amount of aircrafts per type (first type, then amount)"
   ]
  },
  {
   "cell_type": "code",
   "execution_count": 72,
   "metadata": {},
   "outputs": [
    {
     "name": "stdout",
     "output_type": "stream",
     "text": [
      "[2. 2. 1.]\n"
     ]
    }
   ],
   "source": [
    "k = fleet[9]    # amount of aircraft types\n",
    "print(k)"
   ]
  },
  {
   "cell_type": "code",
   "execution_count": 113,
   "metadata": {},
   "outputs": [
    {
     "name": "stdout",
     "output_type": "stream",
     "text": [
      "[[0, 3, 29, 1170, 1199, 79.10727249396774, -3834.209530801696, 0.0]]\n",
      "[[1, 3, 26, 1173, 1199, 63.675380171509495, -2865.0009602161936, 0.0]]\n",
      "[[2, 3, 25, 1174, 1199, 57.49331153902264, -2476.732705270283, 0.0]]\n",
      "[[4, 3, 38, 1161, 1199, 136.65379291088695, -7448.450715875428, 0.0]]\n",
      "[[5, 3, 34, 1165, 1199, 112.02085521868209, -5901.365379151117, 0.0]]\n",
      "[[6, 3, 24, 1175, 1199, 52.43052370160296, -2158.7615024812303, 0.0]]\n",
      "[[7, 3, 32, 1167, 1199, 101.85972871185822, -5263.190183819763, 0.0]]\n",
      "[[8, 3, 34, 1165, 1199, 111.51705147085427, -5869.723704877819, 0.0]]\n",
      "[[9, 3, 36, 1163, 1199, 121.7240381523955, -6510.779173960173, 0.0]]\n",
      "[[10, 3, 44, 1155, 1199, 170.53852952114102, -9576.600423536105, 0.0]]\n",
      "[[11, 3, 26, 1173, 1199, 62.376196837266086, -2783.4050291405174, 0.0]]\n",
      "[[12, 3, 40, 1159, 1199, 145.34542443824324, -7994.333462635222, 0.0]]\n",
      "[[13, 3, 32, 1167, 1199, 97.21809569632043, -4971.669843593903, 0.0]]\n",
      "[[14, 3, 33, 1166, 1199, 107.46438492732987, -5615.193731130357, 0.0]]\n",
      "[[15, 3, 39, 1160, 1199, 138.67854286075004, -7575.616261337662, 0.0]]\n",
      "[[16, 3, 47, 1152, 1199, 188.57904394044192, -10709.644954148309, 0.0]]\n",
      "[[17, 3, 51, 1148, 1199, 210.09109666467472, -12060.721376634156, 0.0]]\n",
      "[[18, 3, 38, 1161, 1199, 133.3552711775203, -7241.2852258992625, 0.0]]\n",
      "[[19, 3, 56, 1143, 1199, 242.70316837851857, -14108.940658439735, 0.0]]\n",
      "[[1170, 0, -3834.209530801696, 79.10727249396774, [0, 3, 29, 1170, 1199, 79.10727249396774, -3834.209530801696, 0.0]], [1173, 1, -2865.0009602161936, 63.675380171509495, [1, 3, 26, 1173, 1199, 63.675380171509495, -2865.0009602161936, 0.0]], [1174, 2, -2476.732705270283, 57.49331153902264, [2, 3, 25, 1174, 1199, 57.49331153902264, -2476.732705270283, 0.0]], [1198, 3, 0, 0, None], [1161, 4, -7448.450715875428, 136.65379291088695, [4, 3, 38, 1161, 1199, 136.65379291088695, -7448.450715875428, 0.0]], [1165, 5, -5901.365379151117, 112.02085521868209, [5, 3, 34, 1165, 1199, 112.02085521868209, -5901.365379151117, 0.0]], [1175, 6, -2158.7615024812303, 52.43052370160296, [6, 3, 24, 1175, 1199, 52.43052370160296, -2158.7615024812303, 0.0]], [1167, 7, -5263.190183819763, 101.85972871185822, [7, 3, 32, 1167, 1199, 101.85972871185822, -5263.190183819763, 0.0]], [1165, 8, -5869.723704877819, 111.51705147085427, [8, 3, 34, 1165, 1199, 111.51705147085427, -5869.723704877819, 0.0]], [1163, 9, -6510.779173960173, 121.7240381523955, [9, 3, 36, 1163, 1199, 121.7240381523955, -6510.779173960173, 0.0]], [1173, 11, -2783.4050291405174, 62.376196837266086, [11, 3, 26, 1173, 1199, 62.376196837266086, -2783.4050291405174, 0.0]], [1167, 13, -4971.669843593903, 97.21809569632043, [13, 3, 32, 1167, 1199, 97.21809569632043, -4971.669843593903, 0.0]], [1166, 14, -5615.193731130357, 107.46438492732987, [14, 3, 33, 1166, 1199, 107.46438492732987, -5615.193731130357, 0.0]], [1160, 15, -7575.616261337662, 138.67854286075004, [15, 3, 39, 1160, 1199, 138.67854286075004, -7575.616261337662, 0.0]], [1161, 18, -7241.2852258992625, 133.3552711775203, [18, 3, 38, 1161, 1199, 133.3552711775203, -7241.2852258992625, 0.0]]]\n",
      "[[3, 0, 29, 1141, 1170, 79.10727249396774, -3834.209530801696, 0.0]]\n",
      "[[3, 1, 26, 1147, 1173, 63.675380171509495, -2865.0009602161936, 0.0]]\n"
     ]
    },
    {
     "ename": "IndexError",
     "evalue": "list index out of range",
     "output_type": "error",
     "traceback": [
      "\u001b[1;31m---------------------------------------------------------------------------\u001b[0m",
      "\u001b[1;31mIndexError\u001b[0m                                Traceback (most recent call last)",
      "Cell \u001b[1;32mIn[113], line 67\u001b[0m\n\u001b[0;32m     65\u001b[0m previous_states \u001b[38;5;241m=\u001b[39m new_states\n\u001b[0;32m     66\u001b[0m new_states \u001b[38;5;241m=\u001b[39m []\n\u001b[1;32m---> 67\u001b[0m get_new_states(previous_states, k)\n\u001b[0;32m     68\u001b[0m \u001b[38;5;28;01mfor\u001b[39;00m s \u001b[38;5;129;01min\u001b[39;00m \u001b[38;5;28mrange\u001b[39m(\u001b[38;5;28mlen\u001b[39m(new_states)):\n\u001b[0;32m     69\u001b[0m     \u001b[38;5;28;01mif\u001b[39;00m new_states[s][\u001b[38;5;241m2\u001b[39m] \u001b[38;5;241m>\u001b[39m best_route_state[\u001b[38;5;241m2\u001b[39m]:\n",
      "Cell \u001b[1;32mIn[113], line 22\u001b[0m, in \u001b[0;36mget_new_states\u001b[1;34m(previous_states, k)\u001b[0m\n\u001b[0;32m     20\u001b[0m         get_flight_details(previous_states, s, hub, k)\n\u001b[0;32m     21\u001b[0m         \u001b[38;5;28mprint\u001b[39m(flight_details)                 \u001b[38;5;66;03m# flying from hub to spoke\u001b[39;00m\n\u001b[1;32m---> 22\u001b[0m         \u001b[38;5;28;01mif\u001b[39;00m n \u001b[38;5;241m-\u001b[39m flight_details[s][\u001b[38;5;241m2\u001b[39m] \u001b[38;5;241m>\u001b[39m\u001b[38;5;241m=\u001b[39m \u001b[38;5;241m0\u001b[39m \u001b[38;5;129;01mand\u001b[39;00m distance(hub,j) \u001b[38;5;241m<\u001b[39m\u001b[38;5;241m=\u001b[39m fleet[\u001b[38;5;241m3\u001b[39m][k] \\\n\u001b[0;32m     23\u001b[0m             \u001b[38;5;129;01mand\u001b[39;00m airports[\u001b[38;5;241m3\u001b[39m][j] \u001b[38;5;241m>\u001b[39m\u001b[38;5;241m=\u001b[39m fleet[\u001b[38;5;241m4\u001b[39m][k] \u001b[38;5;129;01mand\u001b[39;00m airports[\u001b[38;5;241m3\u001b[39m][hub] \u001b[38;5;241m>\u001b[39m\u001b[38;5;241m=\u001b[39m fleet[\u001b[38;5;241m4\u001b[39m][k]:\n\u001b[0;32m     24\u001b[0m                 new_states\u001b[38;5;241m.\u001b[39mappend([n\u001b[38;5;241m-\u001b[39mflight_details[s][\u001b[38;5;241m2\u001b[39m], hub, sum_profit \u001b[38;5;241m+\u001b[39m flight_details[s][\u001b[38;5;241m6\u001b[39m], hours_flown \u001b[38;5;241m+\u001b[39m flight_details[s][\u001b[38;5;241m5\u001b[39m], flight_details[s]])\n\u001b[0;32m     25\u001b[0m \u001b[38;5;28;01mreturn\u001b[39;00m new_states\n",
      "\u001b[1;31mIndexError\u001b[0m: list index out of range"
     ]
    }
   ],
   "source": [
    "# Create a list of all possible routes a plane had before arriving (or staying) at airport j (=previous_state) on stage n\n",
    "def get_new_states(previous_states, k):\n",
    "    global new_states\n",
    "    new_states = []\n",
    "    for s in range(len(previous_states)):   \n",
    "        hub = 3     # define Frankfurt as a hub\n",
    "        n, j, sum_profit, hours_flown, route_flown  = previous_states[s][0], previous_states[s][1], previous_states[s][2], previous_states[s][3], previous_states[s][4]\n",
    "        if j == hub:    # hub is destination                \n",
    "            for i in range(len(cities)):                                                        \n",
    "                if i == j:  # grounded at hub\n",
    "                    new_states.append([n-1, hub, sum_profit, hours_flown, route_flown])                                                         \n",
    "                else:       # flying from spoke to hub\n",
    "                    get_flight_details(previous_states, s, i, k)\n",
    "                    print(flight_details)    \n",
    "                    if distance(i,j) <= fleet[3][k] and airports[3][i] >= fleet[4][k] and airports[3][hub] >= fleet[4][k] \\\n",
    "                        and n - flight_details[s][2] >= 0:\n",
    "                        new_states.append([n-flight_details[s][2], i, sum_profit + flight_details[s][6], hours_flown + flight_details[s][5], flight_details[s]])\n",
    "        else:           # spoke is destination\n",
    "            new_states.append([n-1, j, sum_profit, hours_flown, route_flown])   # grounded at spoke\n",
    "            get_flight_details(previous_states, s, hub, k)\n",
    "            print(flight_details)                 # flying from hub to spoke\n",
    "            if n - flight_details[s][2] >= 0 and distance(hub,j) <= fleet[3][k] \\\n",
    "                and airports[3][j] >= fleet[4][k] and airports[3][hub] >= fleet[4][k]:\n",
    "                    new_states.append([n-flight_details[s][2], hub, sum_profit + flight_details[s][6], hours_flown + flight_details[s][5], flight_details[s]])\n",
    "    return new_states\n",
    "\n",
    "# print(get_new_states([[1199, 3, 0, 0, None]], 0))\n",
    "\n",
    "# Gather all the details for the flight between i (origin) and j (destination (=previous_state)) with airplane k\n",
    "def get_flight_details(previous_states, s, i, k):\n",
    "    global flight_details\n",
    "    flight_details = []\n",
    "    n = previous_states[s][0]              # stage\n",
    "    j = previous_states[s][1]              # destination\n",
    "    flight_time = flight_duration(i,j,k)\n",
    "    block_time = flight_block_time(i,j,k)\n",
    "    departure_time = n - flight_time\n",
    "    arrival_time = n\n",
    "    flight_profit = profit(i,j,k,n)\n",
    "    satisfied_demand = min(flow(i,j,math.floor(n / divider)), fleet[1][k])\n",
    "    flight_details.append([i, j, flight_time, departure_time, arrival_time, block_time, flight_profit, satisfied_demand])\n",
    "\n",
    "# get_flight_details([[1040, 3, 0, 0, None]], 0, 0, 0)\n",
    "# print(flight_details)\n",
    "# print(flight_details[0][2])\n",
    "\n",
    "#=========================================================================================================\n",
    "\n",
    "# Set initial values\n",
    "iterations = 0\n",
    "ending_state = [1199, 3, 0, 0, None]   # stage, airport, maximum profit, hours flown, route flown\n",
    "available_aircraft_types = fleet[9]    # amount of aircrafts for each type at the start\n",
    "\n",
    "# for k in range(len(available_aircraft_types)):\n",
    "#     # Check if there are any aircrafts available of type k\n",
    "#     if available_aircraft_types[k] >= 1:\n",
    "# First iteration starts with the ending state\n",
    "k=0\n",
    "while iterations < 10:\n",
    "    if iterations == 0:\n",
    "        get_new_states([ending_state], k)\n",
    "        iterations += 1\n",
    "        print(new_states)\n",
    "    else:\n",
    "        previous_states = new_states\n",
    "        new_states = []\n",
    "        get_new_states(previous_states, k)\n",
    "        for s in range(len(new_states)):\n",
    "            if new_states[s][2] > best_route_state[2]:\n",
    "                best_route_state = new_states[s]\n",
    "        iterations += 1\n",
    "        print(new_states)\n",
    "#         global optimal_route\n",
    "#         optimal_route = best_route_state[2].max()\n",
    "\n",
    "# print(iterations)\n",
    "# print(optimal_route)\n"
   ]
  },
  {
   "cell_type": "code",
   "execution_count": null,
   "metadata": {},
   "outputs": [],
   "source": [
    "# Create a list of all possible routes a plane had before arriving (or staying) at airport j (=previous_state) on stage n\n",
    "def get_new_states(previous_states, k):\n",
    "    global new_states\n",
    "    new_states = []\n",
    "    for s in range(len(previous_states)):   \n",
    "        hub = 3     # define Frankfurt as a hub\n",
    "        n, j, sum_profit, hours_flown, route_flown  = previous_states[s][0], previous_states[s][1], previous_states[s][2], previous_states[s][3], previous_states[s][4]\n",
    "        if j == hub:    # hub is destination                \n",
    "            for i in range(len(cities)):                                                        \n",
    "                if i == j:  # grounded at hub\n",
    "                    new_states.append([n-1, hub, sum_profit, hours_flown, route_flown])                                                         \n",
    "                else:       # flying from spoke to hub\n",
    "                    get_flight_details(previous_states, s, i, k)\n",
    "                    if distance(i,j) <= fleet[3][k] and airports[3][i] >= fleet[4][k] and airports[3][hub] >= fleet[4][k] \\\n",
    "                        and n - flight_details[s][2] >= 0:\n",
    "                        new_states.append([n-flight_details[s][2], i, sum_profit + flight_details[s][6], hours_flown + flight_details[s][5], flight_details[s]])\n",
    "        else:           # spoke is destination\n",
    "            new_states.append([n-1, j, sum_profit, hours_flown, route_flown])   # grounded at spoke\n",
    "            get_flight_details(previous_states, s, hub, k)                      # flying from hub to spoke\n",
    "            if n - flight_details[s][2] >= 0 and distance(hub,j) <= fleet[3][k] \\\n",
    "                and airports[3][j] >= fleet[4][k] and airports[3][hub] >= fleet[4][k]:\n",
    "                new_states.append([n-flight_details[s][2], hub, sum_profit + flight_details[s][6], hours_flown + flight_details[s][5], flight_details[s]])\n",
    "    return new_states\n",
    "\n",
    "print(get_new_states([[1199, 3, 0, 0, None]], 0))\n",
    "\n",
    "# Gather all the details for the flight between i (origin) and j (destination (=previous_state)) with airplane k\n",
    "def get_flight_details(previous_states, s, i, k):\n",
    "    global flight_details\n",
    "    flight_details = []\n",
    "    n = previous_states[s][0]              # stage\n",
    "    j = previous_states[s][1]              # destination\n",
    "    flight_time = flight_duration(i,j,k)\n",
    "    block_time = flight_block_time(i,j,k)\n",
    "    departure_time = n - flight_time\n",
    "    arrival_time = n\n",
    "    flight_profit = profit(i,j,k,n)\n",
    "    satisfied_demand = min(flow(i,j,math.floor(n / divider)), fleet[1][k])\n",
    "    flight_details.append([i, j, flight_time, departure_time, arrival_time, block_time, flight_profit, satisfied_demand])\n",
    "\n",
    "get_flight_details([[1040, 3, 0, 0, None]], 0, 0, 0)\n",
    "print(flight_details)\n",
    "print(flight_details[0][2])\n",
    "\n",
    "#=========================================================================================================\n",
    "\n",
    "# Set initial values\n",
    "iterations = 0\n",
    "ending_state = [1199, 3, 0, 0, None]   # stage, airport, maximum profit, hours flown, route flown\n",
    "available_aircraft_types = fleet[9]    # amount of aircrafts for each type at the start\n",
    "\n",
    "# for k in range(len(available_aircraft_types)):\n",
    "#     # Check if there are any aircrafts available of type k\n",
    "#     if available_aircraft_types[k] >= 1:\n",
    "# First iteration starts with the ending state\n",
    "k=0\n",
    "while iterations < 10:\n",
    "    if iterations == 0:\n",
    "        get_new_states([ending_state], k)\n",
    "        iterations += 1\n",
    "        print(new_states)\n",
    "    else:\n",
    "        previous_states = new_states\n",
    "        new_states = []\n",
    "        get_new_states(previous_states, k)\n",
    "        for s in range(len(new_states)):\n",
    "            if new_states[s][2] > best_route_state[2]:\n",
    "                best_route_state = new_states[s]\n",
    "        iterations += 1\n",
    "\n",
    "print(iterations)\n",
    "#         global optimal_route\n",
    "#         optimal_route = best_route_state[2].max()\n",
    "\n",
    "# print(optimal_route)"
   ]
  },
  {
   "cell_type": "markdown",
   "metadata": {},
   "source": [
    "### Helper Functions"
   ]
  },
  {
   "cell_type": "code",
   "execution_count": 80,
   "metadata": {},
   "outputs": [
    {
     "ename": "NameError",
     "evalue": "name 'AIRPORTS' is not defined",
     "output_type": "error",
     "traceback": [
      "\u001b[1;31m---------------------------------------------------------------------------\u001b[0m",
      "\u001b[1;31mNameError\u001b[0m                                 Traceback (most recent call last)",
      "Cell \u001b[1;32mIn[80], line 94\u001b[0m\n\u001b[0;32m     91\u001b[0m         \u001b[38;5;28mprint\u001b[39m(entry)\n\u001b[0;32m     93\u001b[0m \u001b[38;5;28;01mif\u001b[39;00m \u001b[38;5;18m__name__\u001b[39m \u001b[38;5;241m==\u001b[39m \u001b[38;5;124m\"\u001b[39m\u001b[38;5;124m__main__\u001b[39m\u001b[38;5;124m\"\u001b[39m:\n\u001b[1;32m---> 94\u001b[0m     main()\n",
      "Cell \u001b[1;32mIn[80], line 83\u001b[0m, in \u001b[0;36mmain\u001b[1;34m()\u001b[0m\n\u001b[0;32m     74\u001b[0m \u001b[38;5;28;01mdef\u001b[39;00m \u001b[38;5;21mmain\u001b[39m():\n\u001b[0;32m     75\u001b[0m     \u001b[38;5;66;03m# Load data from Excel\u001b[39;00m\n\u001b[0;32m     76\u001b[0m     \u001b[38;5;66;03m# AIRCRAFT_TYPES = pd.read_excel(\"FleetType.xlsx\")\u001b[39;00m\n\u001b[1;32m   (...)\u001b[0m\n\u001b[0;32m     81\u001b[0m \n\u001b[0;32m     82\u001b[0m     \u001b[38;5;66;03m# Solve DP\u001b[39;00m\n\u001b[1;32m---> 83\u001b[0m     dp_solve()\n\u001b[0;32m     85\u001b[0m     \u001b[38;5;66;03m# Traceback to get the optimal solution\u001b[39;00m\n\u001b[0;32m     86\u001b[0m     optimal_schedule \u001b[38;5;241m=\u001b[39m traceback()\n",
      "Cell \u001b[1;32mIn[80], line 32\u001b[0m, in \u001b[0;36mdp_solve\u001b[1;34m()\u001b[0m\n\u001b[0;32m     30\u001b[0m \u001b[38;5;250m\u001b[39m\u001b[38;5;124;03m\"\"\"Dynamic programming solver.\"\"\"\u001b[39;00m\n\u001b[0;32m     31\u001b[0m \u001b[38;5;28;01mfor\u001b[39;00m t \u001b[38;5;129;01min\u001b[39;00m \u001b[38;5;28mreversed\u001b[39m(time_stages):\n\u001b[1;32m---> 32\u001b[0m     \u001b[38;5;28;01mfor\u001b[39;00m airport \u001b[38;5;129;01min\u001b[39;00m AIRPORTS:\n\u001b[0;32m     33\u001b[0m         \u001b[38;5;28;01mfor\u001b[39;00m aircraft \u001b[38;5;129;01min\u001b[39;00m AIRCRAFT_TYPES:\n\u001b[0;32m     34\u001b[0m             state \u001b[38;5;241m=\u001b[39m (t, airport, aircraft)\n",
      "\u001b[1;31mNameError\u001b[0m: name 'AIRPORTS' is not defined"
     ]
    }
   ],
   "source": [
    "def calculate_revenue(route, flow):                                                                           # Bij ons binnenin def profit(i,j,k,t)\n",
    "    \"\"\"Calculate revenue for a given route and cargo flow.\"\"\"\n",
    "    distance = FLIGHT_DATA[route][\"distance\"]\n",
    "    yield_per_rtk = 0.26  # Revenue per RTK\n",
    "    return yield_per_rtk * distance * flow\n",
    "\n",
    "def calculate_cost(route, aircraft_type):                                                                     # Bij ons binnenin def profit(i,j,k,t)\n",
    "    \"\"\"Calculate operating costs for a given route and aircraft.\"\"\"\n",
    "    flight_data = FLIGHT_DATA[route]\n",
    "    time_cost = (flight_data[\"distance\"] / aircraft_type[\"speed\"]) * aircraft_type[\"time_cost\"]\n",
    "    fuel_cost = (flight_data[\"distance\"] ** 1.5) * aircraft_type[\"fuel_cost\"]\n",
    "    fixed_cost = aircraft_type[\"fixed_cost\"]\n",
    "    return time_cost + fuel_cost + fixed_cost\n",
    "\n",
    "def transition(state, decision):                                                                              \n",
    "    \"\"\"Compute the next state and associated cost/reward.\"\"\"\n",
    "    t, airport, aircraft = state\n",
    "    route = decision[\"route\"]\n",
    "    if route is None:  # No flight decision\n",
    "        return (t + TIME_STEP, airport, aircraft), 0\n",
    "    next_airport = route[\"destination\"]\n",
    "    flight_time = route[\"flight_time\"]\n",
    "    if t + flight_time > TOTAL_TIME:\n",
    "        return None, 0  # Invalid transition\n",
    "    revenue = calculate_revenue(route, decision[\"cargo\"])\n",
    "    cost = calculate_cost(route, aircraft)\n",
    "    return (t + flight_time, next_airport, aircraft), revenue - cost\n",
    "\n",
    "def dp_solve():\n",
    "    \"\"\"Dynamic programming solver.\"\"\"\n",
    "    for t in reversed(time_stages):\n",
    "        for airport in AIRPORTS:\n",
    "            for aircraft in AIRCRAFT_TYPES:\n",
    "                state = (t, airport, aircraft)\n",
    "                dp_table[state] = -np.inf  # Initialize with negative infinity\n",
    "                best_decision = None\n",
    "                # Evaluate decisions\n",
    "                for decision in get_possible_decisions(state):                                          # Dit deel is bij ons nu gedekt door def optimal_decision(i,k,t)\n",
    "                    next_state, reward = transition(state, decision)\n",
    "                    if next_state is not None:\n",
    "                        value = reward + dp_table.get(next_state, 0)\n",
    "                        if value > dp_table[state]:\n",
    "                            dp_table[state] = value\n",
    "                            best_decision = decision\n",
    "                # Store best decision for traceback\n",
    "                dp_table[state] = {\"value\": dp_table[state], \"decision\": best_decision}\n",
    "\n",
    "def get_possible_decisions(state):                                                                      # Bij ons def get_candidate_decisions\n",
    "    \"\"\"Generate possible decisions for a given state.\"\"\"\n",
    "    t, airport, aircraft = state\n",
    "    decisions = []\n",
    "    # Add all possible flights\n",
    "    for route in FLIGHT_DATA:\n",
    "        if route[\"origin\"] == airport:\n",
    "            # Check constraints (range, runway, etc.)\n",
    "            decisions.append({\"route\": route, \"cargo\": min(route[\"demand\"], MAX_CAPACITY[aircraft])})   # In onze functie is nog geen cargo meegenomen\n",
    "    # Add idle (no flight) decision\n",
    "    decisions.append({\"route\": None, \"cargo\": 0})\n",
    "    return decisions\n",
    "\n",
    "def traceback():\n",
    "    \"\"\"Traceback to reconstruct the optimal solution.\"\"\"\n",
    "    schedule = []\n",
    "    state = (0, HUB, AIRCRAFT_TYPES[0])  # Starting state\n",
    "    while state in dp_table:\n",
    "        best_decision = dp_table[state][\"decision\"]\n",
    "        if best_decision[\"route\"] is not None:\n",
    "            schedule.append({\"state\": state, \"decision\": best_decision})\n",
    "        next_state, _ = transition(state, best_decision)\n",
    "        state = next_state\n",
    "    return schedule\n",
    "\n",
    "# Main Execution\n",
    "def main():\n",
    "    # Load data from Excel\n",
    "    # AIRCRAFT_TYPES = pd.read_excel(\"FleetType.xlsx\")\n",
    "    # AIRPORTS = pd.read_excel(\"AirportData.xlsx\")\n",
    "    # DEMAND = pd.read_excel(\"GroupX.xlsx\")\n",
    "    # Preprocess FLIGHT_DATA and DEMAND\n",
    "    # TODO\n",
    "\n",
    "    # Solve DP\n",
    "    dp_solve()\n",
    "\n",
    "    # Traceback to get the optimal solution\n",
    "    optimal_schedule = traceback()\n",
    "\n",
    "    # Print or save results\n",
    "    print(\"Optimal Schedule:\")\n",
    "    for entry in optimal_schedule:\n",
    "        print(entry)\n",
    "\n",
    "if __name__ == \"__main__\":\n",
    "    main()"
   ]
  },
  {
   "cell_type": "markdown",
   "metadata": {},
   "source": [
    "Loop over all possible itineraries"
   ]
  },
  {
   "cell_type": "code",
   "execution_count": null,
   "metadata": {},
   "outputs": [],
   "source": [
    "for t in trips:\n",
    "    while trip == feasible:\n",
    "            continue\n",
    "    else:\n",
    "        break\n"
   ]
  },
  {
   "cell_type": "code",
   "execution_count": 74,
   "metadata": {},
   "outputs": [
    {
     "name": "stdout",
     "output_type": "stream",
     "text": [
      "[[0, 3, 29, 1011, 1040, 79.10727249396774, -1845.240439951918, 11683.423956593228]]\n"
     ]
    }
   ],
   "source": [
    "def get_flight_details(previous_states, i, k):\n",
    "    global flight_details\n",
    "    flight_details = []\n",
    "    n = previous_states[0]              # stage\n",
    "    j = previous_states[1]              # destination\n",
    "    flight_time = flight_duration(i,j,k)\n",
    "    block_time = flight_block_time(i,j,k)\n",
    "    departure_time = n - flight_time\n",
    "    arrival_time = n\n",
    "    flight_profit = profit(i,j,k,n)\n",
    "    satisfied_demand = min(flow(i,j,math.floor(n / divider)), fleet[1][k])\n",
    "    flight_details.append([i, j, flight_time, departure_time, arrival_time, block_time, flight_profit, satisfied_demand])\n",
    "\n",
    "get_flight_details([1040, 3, 0, 0, None], 0, 0)\n",
    "print(flight_details)"
   ]
  },
  {
   "cell_type": "markdown",
   "metadata": {},
   "source": []
  }
 ],
 "metadata": {
  "kernelspec": {
   "display_name": "base",
   "language": "python",
   "name": "python3"
  },
  "language_info": {
   "codemirror_mode": {
    "name": "ipython",
    "version": 3
   },
   "file_extension": ".py",
   "mimetype": "text/x-python",
   "name": "python",
   "nbconvert_exporter": "python",
   "pygments_lexer": "ipython3",
   "version": "3.11.7"
  }
 },
 "nbformat": 4,
 "nbformat_minor": 2
}
