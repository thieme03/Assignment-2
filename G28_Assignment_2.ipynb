{
 "cells": [
  {
   "cell_type": "markdown",
   "metadata": {},
   "source": [
    "Vraagjes aan de docenten:\n",
    "- How to calculate the block time for aircrafts that fly routes overnight? Which part of the flight is assigned to which day\n",
    "- \n"
   ]
  },
  {
   "cell_type": "code",
   "execution_count": null,
   "metadata": {},
   "outputs": [],
   "source": []
  },
  {
   "cell_type": "code",
   "execution_count": 66,
   "metadata": {},
   "outputs": [],
   "source": [
    "# Group: 28\n",
    "# Authors: Thieme Brandwagt and Sam Buisman\n",
    "#=========================================\n",
    "# Assignment 2 - Aircraft Routing Problem \n",
    "#=========================================\n",
    "\n",
    "# Import necessary packages\n",
    "from openpyxl import *\n",
    "from time import *\n",
    "import math\n",
    "import pandas as pd\n",
    "import numpy as np\n",
    "import matplotlib.pyplot as plt\n",
    "import seaborn as sns"
   ]
  },
  {
   "cell_type": "code",
   "execution_count": 67,
   "metadata": {},
   "outputs": [],
   "source": [
    "# profit, n, aircraft, i, j = s # Attributes for state\n"
   ]
  },
  {
   "cell_type": "markdown",
   "metadata": {},
   "source": [
    "### STEP 1: Load the data"
   ]
  },
  {
   "cell_type": "code",
   "execution_count": 108,
   "metadata": {},
   "outputs": [
    {
     "name": "stdout",
     "output_type": "stream",
     "text": [
      "LHR\n",
      "London\n",
      "800.0\n",
      "Type 1: Small freighter\n",
      "LHR\n",
      "11396.314893372413\n"
     ]
    }
   ],
   "source": [
    "# Load airport data into a numpy array\n",
    "file_path_airports = \"DATA/AirportData.xlsx\"\n",
    "airports_df = pd.read_excel(file_path_airports, usecols =\"B:U\")\n",
    "airports = airports_df.to_numpy()\n",
    "print(airports[0][0])\n",
    "# Create list for all the airports (columns)\n",
    "cities = airports_df.columns\n",
    "print(cities[0])\n",
    "\n",
    "\n",
    "# Load fleet data into a numpy array\n",
    "file_path_fleet = \"DATA/FleetType.xlsx\"\n",
    "fleet_df = pd.read_excel(file_path_fleet)\n",
    "fleet_df = fleet_df.set_index(\"Aircraft Type\")\n",
    "fleet = fleet_df.to_numpy()\n",
    "print(fleet[0][0])   # speed, capacity, tat, range, runway, lease cost, fixed cost, time cost, fuel cost, amount\n",
    "\n",
    "# Create list for all the aircraft types (columns)\n",
    "aircraft_types = fleet_df.columns\n",
    "print(aircraft_types[0])\n",
    "\n",
    "\n",
    "# Load demand data into a numpy array\n",
    "file_path_demand = \"DATA/Group28.xlsx\"\n",
    "demand_df = pd.read_excel(file_path_demand, usecols=\"B:AG\", skiprows=4)\n",
    "demand = demand_df.to_numpy()\n",
    "print(demand[0][0])\n",
    "\n",
    "# Create a triple dimensional array for demand data (origin x destination x time)\n",
    "demand_matrix = np.zeros((len(cities), len(cities), demand.shape[1] - 2))\n",
    "# Populate matrix with all demand from all intervals\n",
    "for rows in range(len(cities)):\n",
    "    for columns in range(len(cities)):\n",
    "        for time_steps in range(int(120/6)):  # 120 hours devided by 4 hour time steps\n",
    "            demand_matrix[rows][columns][time_steps] = demand[rows * 20 + columns][time_steps + 2]\n",
    "print(demand_matrix[19][18][6])\n"
   ]
  },
  {
   "cell_type": "code",
   "execution_count": 69,
   "metadata": {},
   "outputs": [],
   "source": [
    "time_intervals = [\"00:00-04:00\", \"04:00-08:00\", \"08:00-12:00\", \n",
    "                  \"12:00-16:00\", \"16:00-20:00\", \"20:00-00:00\"]"
   ]
  },
  {
   "cell_type": "code",
   "execution_count": 70,
   "metadata": {},
   "outputs": [
    {
     "data": {
      "text/plain": [
       "5"
      ]
     },
     "execution_count": 70,
     "metadata": {},
     "output_type": "execute_result"
    }
   ],
   "source": [
    "tijd = [0,1,2,3,4,5]\n",
    "tijd[-1]"
   ]
  },
  {
   "cell_type": "markdown",
   "metadata": {},
   "source": [
    "### STEP 2: Define the functions"
   ]
  },
  {
   "cell_type": "code",
   "execution_count": 71,
   "metadata": {},
   "outputs": [
    {
     "name": "stdout",
     "output_type": "stream",
     "text": [
      "0.0\n"
     ]
    }
   ],
   "source": [
    "# Adding the previous two bins to the currect bin to get total demand\n",
    "def flow(i, j, t):\n",
    "    return demand_matrix[i,j,t] + 0.2 * (demand_matrix[i,j,t-1]+demand_matrix[i,j,t-2])\n",
    "\n",
    "print(flow(0,1,25)) # LHR to CDG for bin 8"
   ]
  },
  {
   "cell_type": "code",
   "execution_count": 72,
   "metadata": {},
   "outputs": [],
   "source": [
    "def distance(i, j, R_E=6371):\n",
    "    if i != j:\n",
    "        lat_i, long_i = airports[1][i], airports[2][i]\n",
    "        lat_j, long_j = airports[1][j], airports[2][j]\n",
    "        delta_lat = lat_j - lat_i\n",
    "        delta_long = long_j - long_i\n",
    "        root = math.sin(math.radians(delta_lat)/2)**2 + math.cos(math.radians(lat_i)) \\\n",
    "            * math.cos(math.radians(lat_j)) * math.sin(math.radians(delta_long)/2)**2\n",
    "        return R_E * 2 * math.asin(math.sqrt(root)) \n",
    "    else:\n",
    "        return 0\n",
    "\n",
    "# E.v.t. nog stoppen in een df'pje later, zodat ie niet naar zichzelf gaat verwijzen"
   ]
  },
  {
   "cell_type": "code",
   "execution_count": 73,
   "metadata": {},
   "outputs": [
    {
     "name": "stdout",
     "output_type": "stream",
     "text": [
      "1200\n",
      "40.0\n"
     ]
    }
   ],
   "source": [
    "time_step = 6\n",
    "total_time = 120 * 60\n",
    "# print(stages)\n",
    "# print(stages[5])\n",
    "\n",
    "def flight_duration(i,j,k):\n",
    "    return distance(i, j, R_E=6371) / fleet[0][k]\n",
    "\n",
    "time_stages = np.arange(0, total_time, time_step)\n",
    "time_bins = np.arange(30)\n",
    "\n",
    "divider = len(time_stages)/ len(time_bins) # Divide by 40 to get the right bin associated with the stage (round down)\n",
    "\n",
    "print(len(time_stages))\n",
    "print(divider)"
   ]
  },
  {
   "cell_type": "code",
   "execution_count": 74,
   "metadata": {},
   "outputs": [
    {
     "name": "stdout",
     "output_type": "stream",
     "text": [
      "2385.302572558103\n",
      "0.0\n",
      "-2385.302572558103\n",
      "23000.0\n",
      "58.113158915127194\n",
      "10\n"
     ]
    }
   ],
   "source": [
    "# Calculate the cost for each flight leg\n",
    "def cost_flight_leg(i, j, k):\n",
    "    if i != j:\n",
    "        tc = fleet[7][k] * (distance(i, j, R_E=6371) / fleet[0][k])     # formula for the time costs\n",
    "        fc = ((fleet[8][k] * 1.42) / 1.5) * distance(i, j, R_E=6371)    # formula for the fuel costs\n",
    "        foc = fleet[6][k]                                               # formula for the fixed operating costs\n",
    "        return tc + fc + foc\n",
    "\n",
    "print(cost_flight_leg(0,1,0))\n",
    "\n",
    "# Calculate the profit for each flight leg\n",
    "def profit(i, j, k, n):\n",
    "    satisfied_demand = min(flow(i,j,math.floor(n / divider)), fleet[1][k])\n",
    "    if i != j:\n",
    "        revenue = 0.26 * distance(i,j) * satisfied_demand / 1000\n",
    "        costs = cost_flight_leg(i,j,k)\n",
    "        return revenue - costs\n",
    "print(flow(0,1,26))\n",
    "print(profit(0, 1, 0, 1050))\n",
    "print(fleet[1][0])\n",
    "\n",
    "# Calculate the flight duration for each flight leg\n",
    "# ONDERSTAANDE TWEE FUNCTIES KUNNEN LATER EVT GEMERGED WORDEN\n",
    "def flight_duration(i,j,k):\n",
    "    return distance(i, j, R_E=6371) / fleet[0][k] * 60 + 15 + 15 # Round up to the nearest 6-fold\n",
    "print(flight_duration(1,2,1)) # From Paris to Amsterdam\n",
    "\n",
    "def get_stages_in_flight(i,j,k):\n",
    "    return math.ceil((flight_duration(i,j,k)) / 6)\n",
    "\n",
    "print(get_stages_in_flight(1,2,1))"
   ]
  },
  {
   "cell_type": "code",
   "execution_count": 75,
   "metadata": {},
   "outputs": [],
   "source": [
    "# # DEZE CEL KAN LATER MISSCHIEN WEG, MAAR WE ZOUDEN DE STATUS KUNNEN BEPALEN DOOR DUS ALTIJD EEN I EN J MEE TE GEVEN AAN EEN VLIEGTUIG, DUS I NAAR I ALS HET VLIEGTUIG STILSTAAT OP DE HUB EN J NAAR J OP EEN SPOKE, I NAAR J ALS IE ONDERWEG IS\n",
    "# state = ['grounded_hub', \n",
    "#           'grounded_spoke', \n",
    "#           'airborne_to_hub', \n",
    "#           'airborne_to_spoke'] \n",
    "\n",
    "# # Determine current state (what is the current status of the plane?)\n",
    "# def get_current_state(i, j):\n",
    "#     if i == j:  # grounded\n",
    "#         return state[0] if i == 3 else state[1] # grounded at hub or spoke\n",
    "#     else:  \n",
    "#         return state[2] if j == 3 else state[3] # airborne to hub or to spoke\n",
    "\n",
    "# get_current_state(4,4)"
   ]
  },
  {
   "cell_type": "code",
   "execution_count": 101,
   "metadata": {},
   "outputs": [
    {
     "data": {
      "text/plain": [
       "[{'From': 'Frankfurt',\n",
       "  'to': 'London',\n",
       "  'profit': -3834.209530801696,\n",
       "  'departure stage': 986},\n",
       " {'From': 'Frankfurt',\n",
       "  'to': 'Paris',\n",
       "  'profit': -2865.0009602161936,\n",
       "  'departure stage': 989},\n",
       " {'From': 'Frankfurt',\n",
       "  'to': 'Amsterdam',\n",
       "  'profit': -2476.732705270283,\n",
       "  'departure stage': 990},\n",
       " {'Grounding at': 'Frankfurt', 'profit': None},\n",
       " {'From': 'Frankfurt',\n",
       "  'to': 'Madrid',\n",
       "  'profit': -7448.450715875428,\n",
       "  'departure stage': 977},\n",
       " {'From': 'Frankfurt',\n",
       "  'to': 'Barcelona',\n",
       "  'profit': -5901.365379151117,\n",
       "  'departure stage': 981},\n",
       " {'From': 'Frankfurt',\n",
       "  'to': 'Munich',\n",
       "  'profit': -2158.7615024812303,\n",
       "  'departure stage': 991},\n",
       " {'From': 'Frankfurt',\n",
       "  'to': 'Rome',\n",
       "  'profit': -5263.190183819763,\n",
       "  'departure stage': 983},\n",
       " {'From': 'Frankfurt',\n",
       "  'to': 'Dublin',\n",
       "  'profit': -5869.723704877819,\n",
       "  'departure stage': 981},\n",
       " {'From': 'Frankfurt',\n",
       "  'to': 'Stockholm',\n",
       "  'profit': -6510.779173960173,\n",
       "  'departure stage': 979},\n",
       " {'From': 'Frankfurt',\n",
       "  'to': 'Lisbon',\n",
       "  'profit': -9576.600423536105,\n",
       "  'departure stage': 971},\n",
       " {'From': 'Frankfurt',\n",
       "  'to': 'Berlin',\n",
       "  'profit': -2783.4050291405174,\n",
       "  'departure stage': 989},\n",
       " {'From': 'Frankfurt',\n",
       "  'to': 'Helsinki',\n",
       "  'profit': -7994.333462635222,\n",
       "  'departure stage': 975},\n",
       " {'From': 'Frankfurt',\n",
       "  'to': 'Warsaw',\n",
       "  'profit': -4971.669843593903,\n",
       "  'departure stage': 983},\n",
       " {'From': 'Frankfurt',\n",
       "  'to': 'Edinburgh',\n",
       "  'profit': -5615.193731130357,\n",
       "  'departure stage': 982},\n",
       " {'From': 'Frankfurt',\n",
       "  'to': 'Bucharest',\n",
       "  'profit': -7575.616261337662,\n",
       "  'departure stage': 976},\n",
       " {'From': 'Frankfurt',\n",
       "  'to': 'Heraklion',\n",
       "  'profit': -10709.644954148309,\n",
       "  'departure stage': 968},\n",
       " {'From': 'Frankfurt',\n",
       "  'to': 'Reykjavik',\n",
       "  'profit': -12060.721376634156,\n",
       "  'departure stage': 964},\n",
       " {'From': 'Frankfurt',\n",
       "  'to': 'Palermo',\n",
       "  'profit': -7241.2852258992625,\n",
       "  'departure stage': 977},\n",
       " {'From': 'Frankfurt',\n",
       "  'to': 'Madeira',\n",
       "  'profit': -14108.940658439735,\n",
       "  'departure stage': 959}]"
      ]
     },
     "execution_count": 101,
     "metadata": {},
     "output_type": "execute_result"
    }
   ],
   "source": [
    "# Create a list of all possible decisions a plane can take at airport i at arrival stage n\n",
    "def get_candidates_decisions(i,k,n):    \n",
    "    candidates = []\n",
    "    hub = 3 # Define Frankfurt as a hub\n",
    "    if i == hub:                 \n",
    "        for j in range(len(cities)):                                                        \n",
    "            if i == j:\n",
    "                candidates.append({\"Grounding at\":cities[i], \"profit\":profit(i,i,k,n)})                                                         # grounded at hub\n",
    "            else:\n",
    "                departure_stage = n-get_stages_in_flight(i,j,k)\n",
    "                candidates.append({\"From\":cities[i], \"to\":cities[j],\"profit\":profit(i,j,k,departure_stage), \"departure stage\":departure_stage})  # flight to spoke\n",
    "        \n",
    "    else:\n",
    "        candidates.append({\"Grounding at\":cities[i], \"profit\":profit(i,i,k,n)})   \n",
    "        departure_stage = n-get_stages_in_flight(i,hub,k)                                                       # grounded at spoke\n",
    "        candidates.append({\"From\":cities[i], \"to\":cities[hub], \"profit\":profit(i,hub,k,departure_stage), \"departure stage\":departure_stage})     # flight to hub\n",
    "    return candidates\n",
    "\n",
    "get_candidates_decisions(3,0,1000)"
   ]
  },
  {
   "cell_type": "code",
   "execution_count": 78,
   "metadata": {},
   "outputs": [
    {
     "name": "stdout",
     "output_type": "stream",
     "text": [
      "The most profitable decision is: {'From': 'Frankfurt', 'to': 'Munich', 'profit': -2158.7615024812303, 'departure stage': -109}\n"
     ]
    }
   ],
   "source": [
    "# Pick the list item with the greatest profit\n",
    "def optimal_decision(i,k,s):\n",
    "    return max(\n",
    "        get_candidates_decisions(i,k,s),\n",
    "        key = lambda x:x['profit'] if x['profit'] is not None else float('-inf')\n",
    "        )\n",
    "\n",
    "print(f\"The most profitable decision is: {optimal_decision(3,0,-100)}\")"
   ]
  },
  {
   "cell_type": "code",
   "execution_count": 79,
   "metadata": {},
   "outputs": [
    {
     "name": "stdout",
     "output_type": "stream",
     "text": [
      "9\n"
     ]
    }
   ],
   "source": [
    "print(get_stages_in_flight(3,6,0))"
   ]
  },
  {
   "cell_type": "markdown",
   "metadata": {},
   "source": [
    "### STEP 3: Building the algorithm"
   ]
  },
  {
   "cell_type": "markdown",
   "metadata": {},
   "source": [
    "## NOTES"
   ]
  },
  {
   "cell_type": "code",
   "execution_count": 81,
   "metadata": {},
   "outputs": [
    {
     "name": "stdout",
     "output_type": "stream",
     "text": [
      "3\n"
     ]
    }
   ],
   "source": [
    "ending_state = [[-1200], [3], [0], [0], [None]]   # stage, airport, summed profit, hours flown, route flown\n",
    "len(ending_state[1])\n",
    "print(ending_state[1][0])"
   ]
  },
  {
   "cell_type": "code",
   "execution_count": 85,
   "metadata": {},
   "outputs": [
    {
     "name": "stdout",
     "output_type": "stream",
     "text": [
      "3\n",
      "3\n",
      "3\n",
      "Test\n",
      "Vest\n",
      "4\n",
      "range(0, 2)\n"
     ]
    }
   ],
   "source": [
    "new_states = [[-1200, 3, 0, 0, [None, \"Test\"]],\n",
    "                [-1199, 3, 0, 0, [None, \"Test\"]],\n",
    "                [-1198, 5, -200, 0, [None, \"Test\", \"Pest\", \"Vest\"]]\n",
    "                ]\n",
    "print(len(new_states))\n",
    "print(new_states[0][1])\n",
    "print(new_states[1][1])\n",
    "print(new_states[0][4][1])\n",
    "print(new_states[2][4][3])\n",
    "print(len(new_states[2][4]))"
   ]
  },
  {
   "cell_type": "code",
   "execution_count": 109,
   "metadata": {},
   "outputs": [
    {
     "name": "stdout",
     "output_type": "stream",
     "text": [
      "-1200\n",
      "3\n",
      "0\n",
      "0\n",
      "None\n"
     ]
    },
    {
     "data": {
      "text/plain": [
       "1500.0"
      ]
     },
     "execution_count": 109,
     "metadata": {},
     "output_type": "execute_result"
    }
   ],
   "source": [
    "ending_state = [-1200, 3, 0, 0, None]   # stage, airport, maximum profit, hours flown (day), route flown\n",
    "\n",
    "def test_state(ending_state):\n",
    "    print(ending_state[0])\n",
    "    print(ending_state[1])\n",
    "    print(ending_state[2])\n",
    "    print(ending_state[3])\n",
    "    print(ending_state[4])\n",
    "\n",
    "test_state(ending_state)\n",
    "\n",
    "fleet[3][0]"
   ]
  },
  {
   "cell_type": "code",
   "execution_count": 110,
   "metadata": {},
   "outputs": [],
   "source": [
    "# Create a list of all possible decisions a plane can take at airport i at arrival stage n\n",
    "def get_candidates_decisions(i,k,n):    \n",
    "    candidates = []\n",
    "    hub = 3 # Define Frankfurt as a hub\n",
    "    if i == hub:                 \n",
    "        for j in range(len(cities)):                                                        \n",
    "            if i == j:\n",
    "                candidates.append({\"Grounding at\":cities[i], \"profit\":profit(i,i,k,n)})                                                         # grounded at hub\n",
    "            else:\n",
    "                departure_stage = n-get_stages_in_flight(i,j,k)\n",
    "                candidates.append({\"From\":cities[i], \"to\":cities[j],\"profit\":profit(i,j,k,departure_stage), \"departure stage\":departure_stage})  # flight to spoke\n",
    "        \n",
    "    else:\n",
    "        candidates.append({\"Grounding at\":cities[i], \"profit\":profit(i,i,k,n)})   \n",
    "        departure_stage = n-get_stages_in_flight(i,hub,k)                                                       # grounded at spoke\n",
    "        candidates.append({\"From\":cities[i], \"to\":cities[hub], \"profit\":profit(i,hub,k,departure_stage), \"departure stage\":departure_stage})     # flight to hub\n",
    "    return candidates"
   ]
  },
  {
   "cell_type": "code",
   "execution_count": null,
   "metadata": {},
   "outputs": [],
   "source": [
    "def get_new_states(previous_states, k):    \n",
    "    global new_states\n",
    "    new_states = []\n",
    "    hub = 3 # Define Frankfurt as a hub\n",
    "    n, i, sum_profit, hours_flown, route_flown  = previous_states[0], previous_states[1], previous_states[2], previous_states[3], previous_states[4]\n",
    "    if i == hub:                 \n",
    "        for j in range(len(cities)):                                                        \n",
    "            if i == j: \n",
    "                new_states.append(n-1, hub, sum_profit, hours_flown, route_flown)                                                         # grounded at hub\n",
    "            else:\n",
    "                get_flight_details(i,j,k)\n",
    "                if flight_distance[i][j] <= fleet[3][k] and airports[i] >= fleet[4][k]:\n",
    "                    new_states.append(n+flight_duration, j, hours_flown+flight_duration)\n",
    "        \n",
    "    else:\n",
    "        candidates.append({\"Grounding at\":cities[i], \"profit\":profit(i,i,k,n)})   \n",
    "        departure_stage = n-get_stages_in_flight(i,hub,k)                                                       # grounded at spoke\n",
    "        candidates.append({\"From\":cities[i], \"to\":cities[hub], \"profit\":profit(i,hub,k,departure_stage), \"departure stage\":departure_stage})     # flight to hub\n",
    "    return candidates"
   ]
  },
  {
   "cell_type": "code",
   "execution_count": null,
   "metadata": {},
   "outputs": [],
   "source": [
    "def get_flight_info(previous_states):\n",
    "    global flight_details\n",
    "    flight_details = []\n",
    "    flight_duration"
   ]
  },
  {
   "cell_type": "markdown",
   "metadata": {},
   "source": [
    "## ACTUAL CODE"
   ]
  },
  {
   "cell_type": "code",
   "execution_count": null,
   "metadata": {},
   "outputs": [],
   "source": [
    "ending_state = [-1200, 3, 0, 0, None]       # stage, airport, maximum profit, hours flown (day), route flown\n",
    "new_states = []                             # stage, airport, maximum profit, hours flown (day), route flown\n",
    "best_route_state = [-1200, 3, 0, 0, None]   # stage, airport, maximum profit, hours flown (day), route flown\n",
    "flight = [3, 1, 10, 5, 15, 500, 20000]      # origin, destination, flight duration, departure, arrival, profit, satisfied demand\n",
    "available_aircraft_types = [0,1,1]          # amount of aircrafts per type (first type, then amount)"
   ]
  },
  {
   "cell_type": "code",
   "execution_count": null,
   "metadata": {},
   "outputs": [],
   "source": [
    "# Set initial values\n",
    "iterations = 0\n",
    "\n",
    "for k in range(len(available_aircraft_types)):\n",
    "    # Check if there are any aircrafts available of type k\n",
    "    if k >= 1:\n",
    "        # First iteration starts with the ending state\n",
    "        if iterations == 0:\n",
    "            get_candidates_decisions(ending_state, 0, ending_state[0])\n",
    "            iterations += 1\n",
    "        else:\n",
    "            for day in range(5):\n",
    "                for state in range(len(new_states[0])):\n",
    "                    get_candidates_decisions(new_states[state][1], k, new_states[state][0])\n",
    "                    iterations += 1"
   ]
  },
  {
   "cell_type": "markdown",
   "metadata": {},
   "source": [
    "### Helper Functions"
   ]
  },
  {
   "cell_type": "code",
   "execution_count": 80,
   "metadata": {},
   "outputs": [
    {
     "ename": "NameError",
     "evalue": "name 'AIRPORTS' is not defined",
     "output_type": "error",
     "traceback": [
      "\u001b[1;31m---------------------------------------------------------------------------\u001b[0m",
      "\u001b[1;31mNameError\u001b[0m                                 Traceback (most recent call last)",
      "Cell \u001b[1;32mIn[80], line 94\u001b[0m\n\u001b[0;32m     91\u001b[0m         \u001b[38;5;28mprint\u001b[39m(entry)\n\u001b[0;32m     93\u001b[0m \u001b[38;5;28;01mif\u001b[39;00m \u001b[38;5;18m__name__\u001b[39m \u001b[38;5;241m==\u001b[39m \u001b[38;5;124m\"\u001b[39m\u001b[38;5;124m__main__\u001b[39m\u001b[38;5;124m\"\u001b[39m:\n\u001b[1;32m---> 94\u001b[0m     main()\n",
      "Cell \u001b[1;32mIn[80], line 83\u001b[0m, in \u001b[0;36mmain\u001b[1;34m()\u001b[0m\n\u001b[0;32m     74\u001b[0m \u001b[38;5;28;01mdef\u001b[39;00m \u001b[38;5;21mmain\u001b[39m():\n\u001b[0;32m     75\u001b[0m     \u001b[38;5;66;03m# Load data from Excel\u001b[39;00m\n\u001b[0;32m     76\u001b[0m     \u001b[38;5;66;03m# AIRCRAFT_TYPES = pd.read_excel(\"FleetType.xlsx\")\u001b[39;00m\n\u001b[1;32m   (...)\u001b[0m\n\u001b[0;32m     81\u001b[0m \n\u001b[0;32m     82\u001b[0m     \u001b[38;5;66;03m# Solve DP\u001b[39;00m\n\u001b[1;32m---> 83\u001b[0m     dp_solve()\n\u001b[0;32m     85\u001b[0m     \u001b[38;5;66;03m# Traceback to get the optimal solution\u001b[39;00m\n\u001b[0;32m     86\u001b[0m     optimal_schedule \u001b[38;5;241m=\u001b[39m traceback()\n",
      "Cell \u001b[1;32mIn[80], line 32\u001b[0m, in \u001b[0;36mdp_solve\u001b[1;34m()\u001b[0m\n\u001b[0;32m     30\u001b[0m \u001b[38;5;250m\u001b[39m\u001b[38;5;124;03m\"\"\"Dynamic programming solver.\"\"\"\u001b[39;00m\n\u001b[0;32m     31\u001b[0m \u001b[38;5;28;01mfor\u001b[39;00m t \u001b[38;5;129;01min\u001b[39;00m \u001b[38;5;28mreversed\u001b[39m(time_stages):\n\u001b[1;32m---> 32\u001b[0m     \u001b[38;5;28;01mfor\u001b[39;00m airport \u001b[38;5;129;01min\u001b[39;00m AIRPORTS:\n\u001b[0;32m     33\u001b[0m         \u001b[38;5;28;01mfor\u001b[39;00m aircraft \u001b[38;5;129;01min\u001b[39;00m AIRCRAFT_TYPES:\n\u001b[0;32m     34\u001b[0m             state \u001b[38;5;241m=\u001b[39m (t, airport, aircraft)\n",
      "\u001b[1;31mNameError\u001b[0m: name 'AIRPORTS' is not defined"
     ]
    }
   ],
   "source": [
    "def calculate_revenue(route, flow):                                                                           # Bij ons binnenin def profit(i,j,k,t)\n",
    "    \"\"\"Calculate revenue for a given route and cargo flow.\"\"\"\n",
    "    distance = FLIGHT_DATA[route][\"distance\"]\n",
    "    yield_per_rtk = 0.26  # Revenue per RTK\n",
    "    return yield_per_rtk * distance * flow\n",
    "\n",
    "def calculate_cost(route, aircraft_type):                                                                     # Bij ons binnenin def profit(i,j,k,t)\n",
    "    \"\"\"Calculate operating costs for a given route and aircraft.\"\"\"\n",
    "    flight_data = FLIGHT_DATA[route]\n",
    "    time_cost = (flight_data[\"distance\"] / aircraft_type[\"speed\"]) * aircraft_type[\"time_cost\"]\n",
    "    fuel_cost = (flight_data[\"distance\"] ** 1.5) * aircraft_type[\"fuel_cost\"]\n",
    "    fixed_cost = aircraft_type[\"fixed_cost\"]\n",
    "    return time_cost + fuel_cost + fixed_cost\n",
    "\n",
    "def transition(state, decision):                                                                              \n",
    "    \"\"\"Compute the next state and associated cost/reward.\"\"\"\n",
    "    t, airport, aircraft = state\n",
    "    route = decision[\"route\"]\n",
    "    if route is None:  # No flight decision\n",
    "        return (t + TIME_STEP, airport, aircraft), 0\n",
    "    next_airport = route[\"destination\"]\n",
    "    flight_time = route[\"flight_time\"]\n",
    "    if t + flight_time > TOTAL_TIME:\n",
    "        return None, 0  # Invalid transition\n",
    "    revenue = calculate_revenue(route, decision[\"cargo\"])\n",
    "    cost = calculate_cost(route, aircraft)\n",
    "    return (t + flight_time, next_airport, aircraft), revenue - cost\n",
    "\n",
    "def dp_solve():\n",
    "    \"\"\"Dynamic programming solver.\"\"\"\n",
    "    for t in reversed(time_stages):\n",
    "        for airport in AIRPORTS:\n",
    "            for aircraft in AIRCRAFT_TYPES:\n",
    "                state = (t, airport, aircraft)\n",
    "                dp_table[state] = -np.inf  # Initialize with negative infinity\n",
    "                best_decision = None\n",
    "                # Evaluate decisions\n",
    "                for decision in get_possible_decisions(state):                                          # Dit deel is bij ons nu gedekt door def optimal_decision(i,k,t)\n",
    "                    next_state, reward = transition(state, decision)\n",
    "                    if next_state is not None:\n",
    "                        value = reward + dp_table.get(next_state, 0)\n",
    "                        if value > dp_table[state]:\n",
    "                            dp_table[state] = value\n",
    "                            best_decision = decision\n",
    "                # Store best decision for traceback\n",
    "                dp_table[state] = {\"value\": dp_table[state], \"decision\": best_decision}\n",
    "\n",
    "def get_possible_decisions(state):                                                                      # Bij ons def get_candidate_decisions\n",
    "    \"\"\"Generate possible decisions for a given state.\"\"\"\n",
    "    t, airport, aircraft = state\n",
    "    decisions = []\n",
    "    # Add all possible flights\n",
    "    for route in FLIGHT_DATA:\n",
    "        if route[\"origin\"] == airport:\n",
    "            # Check constraints (range, runway, etc.)\n",
    "            decisions.append({\"route\": route, \"cargo\": min(route[\"demand\"], MAX_CAPACITY[aircraft])})   # In onze functie is nog geen cargo meegenomen\n",
    "    # Add idle (no flight) decision\n",
    "    decisions.append({\"route\": None, \"cargo\": 0})\n",
    "    return decisions\n",
    "\n",
    "def traceback():\n",
    "    \"\"\"Traceback to reconstruct the optimal solution.\"\"\"\n",
    "    schedule = []\n",
    "    state = (0, HUB, AIRCRAFT_TYPES[0])  # Starting state\n",
    "    while state in dp_table:\n",
    "        best_decision = dp_table[state][\"decision\"]\n",
    "        if best_decision[\"route\"] is not None:\n",
    "            schedule.append({\"state\": state, \"decision\": best_decision})\n",
    "        next_state, _ = transition(state, best_decision)\n",
    "        state = next_state\n",
    "    return schedule\n",
    "\n",
    "# Main Execution\n",
    "def main():\n",
    "    # Load data from Excel\n",
    "    # AIRCRAFT_TYPES = pd.read_excel(\"FleetType.xlsx\")\n",
    "    # AIRPORTS = pd.read_excel(\"AirportData.xlsx\")\n",
    "    # DEMAND = pd.read_excel(\"GroupX.xlsx\")\n",
    "    # Preprocess FLIGHT_DATA and DEMAND\n",
    "    # TODO\n",
    "\n",
    "    # Solve DP\n",
    "    dp_solve()\n",
    "\n",
    "    # Traceback to get the optimal solution\n",
    "    optimal_schedule = traceback()\n",
    "\n",
    "    # Print or save results\n",
    "    print(\"Optimal Schedule:\")\n",
    "    for entry in optimal_schedule:\n",
    "        print(entry)\n",
    "\n",
    "if __name__ == \"__main__\":\n",
    "    main()"
   ]
  },
  {
   "cell_type": "markdown",
   "metadata": {},
   "source": [
    "Loop over all possible itineraries"
   ]
  },
  {
   "cell_type": "code",
   "execution_count": null,
   "metadata": {},
   "outputs": [],
   "source": [
    "for t in trips:\n",
    "    while trip == feasible:\n",
    "            continue\n",
    "    else:\n",
    "        break\n"
   ]
  },
  {
   "cell_type": "markdown",
   "metadata": {},
   "source": []
  }
 ],
 "metadata": {
  "kernelspec": {
   "display_name": "base",
   "language": "python",
   "name": "python3"
  },
  "language_info": {
   "codemirror_mode": {
    "name": "ipython",
    "version": 3
   },
   "file_extension": ".py",
   "mimetype": "text/x-python",
   "name": "python",
   "nbconvert_exporter": "python",
   "pygments_lexer": "ipython3",
   "version": "3.11.4"
  }
 },
 "nbformat": 4,
 "nbformat_minor": 2
}
