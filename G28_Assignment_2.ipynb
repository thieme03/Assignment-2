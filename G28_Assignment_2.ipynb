{
 "cells": [
  {
   "cell_type": "markdown",
   "metadata": {},
   "source": [
    "Vraagjes aan de docenten:\n",
    "- Wat wordt er precies bedoeld met 6 uur \"block time\"?\n",
    "- 58 minuten waar ronden we naar af?"
   ]
  },
  {
   "cell_type": "code",
   "execution_count": 229,
   "metadata": {},
   "outputs": [],
   "source": [
    "# Group: 28\n",
    "# Authors: Thieme Brandwagt and Sam Buisman\n",
    "#=========================================\n",
    "# Assignment 2 - Aircraft Routing Problem \n",
    "#=========================================\n",
    "\n",
    "# Import necessary packages\n",
    "from openpyxl import *\n",
    "from time import *\n",
    "import math\n",
    "import pandas as pd\n",
    "import numpy as np\n",
    "import matplotlib.pyplot as plt\n",
    "import seaborn as sns"
   ]
  },
  {
   "cell_type": "markdown",
   "metadata": {},
   "source": [
    "### STEP 1: Load the data"
   ]
  },
  {
   "cell_type": "code",
   "execution_count": 287,
   "metadata": {},
   "outputs": [
    {
     "name": "stdout",
     "output_type": "stream",
     "text": [
      "LHR\n",
      "LHR\n",
      "London\n",
      "800.0\n",
      "Type 1: Small freighter\n",
      "11396.314893372413\n"
     ]
    }
   ],
   "source": [
    "# Load airport data into a numpy array\n",
    "file_path_airports = \"DATA/AirportData.xlsx\"\n",
    "airports_df = pd.read_excel(file_path_airports, usecols =\"B:U\")\n",
    "airports = airports_df.to_numpy()\n",
    "print(airports[0][0])\n",
    "# Create list for all the airports (columns)\n",
    "cities = airports_df.columns\n",
    "print(cities[0])\n",
    "\n",
    "\n",
    "# Load fleet data into a numpy array\n",
    "file_path_fleet = \"DATA/FleetType.xlsx\"\n",
    "fleet_df = pd.read_excel(file_path_fleet)\n",
    "fleet_df = fleet_df.set_index(\"Aircraft Type\")\n",
    "fleet = fleet_df.to_numpy()\n",
    "print(fleet[0][0])\n",
    "# Create list for all the aircraft types (columns)\n",
    "aircraft_types = fleet_df.columns\n",
    "print(aircraft_types[0])\n",
    "\n",
    "\n",
    "# Load demand data into a numpy array\n",
    "file_path_demand = \"DATA/Group28.xlsx\"\n",
    "demand_df = pd.read_excel(file_path_demand, usecols=\"B:AG\", skiprows=4)\n",
    "# days = 5\n",
    "# column_labels = []\n",
    "# column_labels.extend([f\"Day {day+1} {interval}\" for day in range(days) for interval in time_intervals])\n",
    "# demand_df.columns = column_labels\n",
    "demand = demand_df.to_numpy()\n",
    "print(demand[0][0])\n",
    "\n",
    "# Create a triple dimensional array for demand data (origin, destination, time)\n",
    "demand_matrix = np.zeros((len(cities), len(cities), demand.shape[1] - 2))\n",
    "# Populate matrix with all demand from all intervals\n",
    "for rows in range(len(cities)):\n",
    "    for columns in range(len(cities)):\n",
    "        for time_steps in range(int(120/6)):  # 120 hours devided by 4 hour time steps\n",
    "            demand_matrix[rows][columns][time_steps] = demand[rows * 20 + columns][time_steps + 2]\n",
    "print(demand_matrix[19][18][6])\n"
   ]
  },
  {
   "cell_type": "code",
   "execution_count": 232,
   "metadata": {},
   "outputs": [],
   "source": [
    "time_intervals = [\"00:00-04:00\", \"04:00-08:00\", \"08:00-12:00\", \n",
    "                  \"12:00-16:00\", \"16:00-20:00\", \"20:00-00:00\"]"
   ]
  },
  {
   "cell_type": "markdown",
   "metadata": {},
   "source": [
    "### STEP 2: Define the functions"
   ]
  },
  {
   "cell_type": "code",
   "execution_count": 293,
   "metadata": {},
   "outputs": [
    {
     "data": {
      "text/plain": [
       "118576.59293003316"
      ]
     },
     "execution_count": 293,
     "metadata": {},
     "output_type": "execute_result"
    }
   ],
   "source": [
    "# Adding the previous two bins to the currect bin to get total demand\n",
    "def flow(i, j, t):\n",
    "    return demand_matrix[i,j,t] + 0.2 * (demand_matrix[i,j,t-1]+demand_matrix[i,j,t-2])\n",
    "\n",
    "flow(1,2,8)"
   ]
  },
  {
   "cell_type": "code",
   "execution_count": 234,
   "metadata": {},
   "outputs": [],
   "source": [
    "def distance(i, j, R_E=6371):\n",
    "    if i != j:\n",
    "        lat_i, long_i = airports[1][i], airports[2][i]\n",
    "        lat_j, long_j = airports[1][j], airports[2][j]\n",
    "        delta_lat = lat_j - lat_i\n",
    "        delta_long = long_j - long_i\n",
    "        root = math.sin(math.radians(delta_lat)/2)**2 + math.cos(math.radians(lat_i)) \\\n",
    "            * math.cos(math.radians(lat_j)) * math.sin(math.radians(delta_long)/2)**2\n",
    "        return R_E * 2 * math.asin(math.sqrt(root)) \n",
    "    else:\n",
    "        return 0\n",
    "\n",
    "# E.v.t. nog stoppen in een df'pje later, zodat ie niet naar zichzelf gaat verwijzen"
   ]
  },
  {
   "cell_type": "code",
   "execution_count": 332,
   "metadata": {},
   "outputs": [
    {
     "name": "stdout",
     "output_type": "stream",
     "text": [
      "7865.893334240466\n",
      "-7865.893334240466\n",
      "58.113158915127194\n"
     ]
    }
   ],
   "source": [
    "# Calculate the cost for each flight leg\n",
    "def cost_flight_leg(i, j, k):\n",
    "    if i != j:\n",
    "        tc = fleet[7][k] * (distance(i, j, R_E=6371) / fleet[0][k])     # formula for the time costs\n",
    "        fc = ((fleet[8][k] * 1.42) / 1.5) * distance(i, j, R_E=6371)    # formula for the fuel costs\n",
    "        foc = fleet[6][k]                                               # formula for the fixed operating costs\n",
    "        return tc + fc + foc\n",
    "\n",
    "print(cost_flight_leg(0,2,2))\n",
    "\n",
    "# Calculate the profit for each flight leg\n",
    "def profit(i, j, k, t):\n",
    "    satisfied_demand = min(flow(i,j,t), fleet[1][k])\n",
    "    if i != j:\n",
    "        revenue = 0.26 * distance(i,j) * satisfied_demand / 1000\n",
    "        costs = cost_flight_leg(i,j,k)\n",
    "        return revenue - costs\n",
    "\n",
    "print(profit(0, 2, 2, 0))\n",
    "\n",
    "# Calculate the flight duration for each flight leg\n",
    "def flight_duration(i,j,k):\n",
    "    return distance(i, j, R_E=6371) / fleet[0][k] * 60 + 15 + 15\n",
    "print(flight_duration(1,2,1)) # From Paris to Amsterdam"
   ]
  },
  {
   "cell_type": "code",
   "execution_count": 294,
   "metadata": {},
   "outputs": [
    {
     "data": {
      "text/plain": [
       "1875.0"
      ]
     },
     "execution_count": 294,
     "metadata": {},
     "output_type": "execute_result"
    }
   ],
   "source": [
    "fleet[7][0]"
   ]
  },
  {
   "cell_type": "code",
   "execution_count": 326,
   "metadata": {},
   "outputs": [
    {
     "name": "stdout",
     "output_type": "stream",
     "text": [
      "[   0    6   12 ... 7188 7194 7200]\n"
     ]
    },
    {
     "data": {
      "text/plain": [
       "30"
      ]
     },
     "execution_count": 326,
     "metadata": {},
     "output_type": "execute_result"
    }
   ],
   "source": [
    "time_step = 6\n",
    "total_time = 120 * 60\n",
    "stages = np.arange(0, total_time + 1, time_step)\n",
    "print(stages)\n",
    "\n",
    "stages[5]\n",
    "\n",
    "def flight_duration(i,j,k):\n",
    "    return distance(i, j, R_E=6371) / fleet[0][k]\n"
   ]
  },
  {
   "cell_type": "code",
   "execution_count": 340,
   "metadata": {},
   "outputs": [
    {
     "data": {
      "text/plain": [
       "'airborne_to_hub'"
      ]
     },
     "execution_count": 340,
     "metadata": {},
     "output_type": "execute_result"
    }
   ],
   "source": [
    "states = {'grounded_hub', \n",
    "          'grounded_spoke', \n",
    "          'airborne_to_hub', \n",
    "          'airborne_to_spoke'}  \n",
    "\n",
    "def create_candidtes_list(s, n, ):\n",
    "    candidates = {}\n",
    "    if s == 'grounded_hub':\n",
    "\n",
    "    if s == 'grounded_spoke':\n",
    "        pos1\n",
    "    return candidates\n",
    "\n",
    "# x wordt gekozen uit de set van uitkomsten\n",
    "\n",
    "# Verwachte possibilities:\n",
    "    # als hub:\n",
    "    #     naar spoke\n",
    "    #     of grounded blijven\n",
    "    # als spoke:\n",
    "    #     naar hub\n",
    "    #     of grounded blijven\n"
   ]
  },
  {
   "cell_type": "code",
   "execution_count": 333,
   "metadata": {},
   "outputs": [
    {
     "name": "stdout",
     "output_type": "stream",
     "text": [
      "[   0    6   12 ... 7188 7194 7200]\n"
     ]
    }
   ],
   "source": [
    "hub = \"FRA\"\n",
    "\n",
    "dp_table = {}\n",
    "\n",
    "time_stages = np.arange(0, total_time + 1, time_step)\n",
    "print(time_stages)"
   ]
  },
  {
   "cell_type": "code",
   "execution_count": null,
   "metadata": {},
   "outputs": [],
   "source": [
    "# Helper Functions\n",
    "def calculate_revenue(route, flow):\n",
    "    \"\"\"Calculate revenue for a given route and cargo flow.\"\"\"\n",
    "    distance = FLIGHT_DATA[route][\"distance\"]\n",
    "    yield_per_rtk = 0.26  # Revenue per RTK\n",
    "    return yield_per_rtk * distance * flow\n",
    "\n",
    "def calculate_cost(route, aircraft_type):\n",
    "    \"\"\"Calculate operating costs for a given route and aircraft.\"\"\"\n",
    "    flight_data = FLIGHT_DATA[route]\n",
    "    time_cost = (flight_data[\"distance\"] / aircraft_type[\"speed\"]) * aircraft_type[\"time_cost\"]\n",
    "    fuel_cost = (flight_data[\"distance\"] ** 1.5) * aircraft_type[\"fuel_cost\"]\n",
    "    fixed_cost = aircraft_type[\"fixed_cost\"]\n",
    "    return time_cost + fuel_cost + fixed_cost\n",
    "\n",
    "def transition(state, decision):\n",
    "    \"\"\"Compute the next state and associated cost/reward.\"\"\"\n",
    "    t, airport, aircraft = state\n",
    "    route = decision[\"route\"]\n",
    "    if route is None:  # No flight decision\n",
    "        return (t + TIME_STEP, airport, aircraft), 0\n",
    "    next_airport = route[\"destination\"]\n",
    "    flight_time = route[\"flight_time\"]\n",
    "    if t + flight_time > TOTAL_TIME:\n",
    "        return None, 0  # Invalid transition\n",
    "    revenue = calculate_revenue(route, decision[\"cargo\"])\n",
    "    cost = calculate_cost(route, aircraft)\n",
    "    return (t + flight_time, next_airport, aircraft), revenue - cost\n",
    "\n",
    "def dp_solve():\n",
    "    \"\"\"Dynamic programming solver.\"\"\"\n",
    "    for t in reversed(time_stages):\n",
    "        for airport in AIRPORTS:\n",
    "            for aircraft in AIRCRAFT_TYPES:\n",
    "                state = (t, airport, aircraft)\n",
    "                dp_table[state] = -np.inf  # Initialize with negative infinity\n",
    "                best_decision = None\n",
    "                # Evaluate decisions\n",
    "                for decision in get_possible_decisions(state):\n",
    "                    next_state, reward = transition(state, decision)\n",
    "                    if next_state is not None:\n",
    "                        value = reward + dp_table.get(next_state, 0)\n",
    "                        if value > dp_table[state]:\n",
    "                            dp_table[state] = value\n",
    "                            best_decision = decision\n",
    "                # Store best decision for traceback\n",
    "                dp_table[state] = {\"value\": dp_table[state], \"decision\": best_decision}\n",
    "\n",
    "def get_possible_decisions(state):\n",
    "    \"\"\"Generate possible decisions for a given state.\"\"\"\n",
    "    t, airport, aircraft = state\n",
    "    decisions = []\n",
    "    # Add all possible flights\n",
    "    for route in FLIGHT_DATA:\n",
    "        if route[\"origin\"] == airport:\n",
    "            # Check constraints (range, runway, etc.)\n",
    "            decisions.append({\"route\": route, \"cargo\": min(route[\"demand\"], MAX_CAPACITY[aircraft])})\n",
    "    # Add idle (no flight) decision\n",
    "    decisions.append({\"route\": None, \"cargo\": 0})\n",
    "    return decisions\n",
    "\n",
    "def traceback():\n",
    "    \"\"\"Traceback to reconstruct the optimal solution.\"\"\"\n",
    "    schedule = []\n",
    "    state = (0, HUB, AIRCRAFT_TYPES[0])  # Starting state\n",
    "    while state in dp_table:\n",
    "        best_decision = dp_table[state][\"decision\"]\n",
    "        if best_decision[\"route\"] is not None:\n",
    "            schedule.append({\"state\": state, \"decision\": best_decision})\n",
    "        next_state, _ = transition(state, best_decision)\n",
    "        state = next_state\n",
    "    return schedule\n",
    "\n",
    "# Main Execution\n",
    "def main():\n",
    "    # Load data from Excel\n",
    "    # AIRCRAFT_TYPES = pd.read_excel(\"FleetType.xlsx\")\n",
    "    # AIRPORTS = pd.read_excel(\"AirportData.xlsx\")\n",
    "    # DEMAND = pd.read_excel(\"GroupX.xlsx\")\n",
    "    # Preprocess FLIGHT_DATA and DEMAND\n",
    "    # TODO\n",
    "\n",
    "    # Solve DP\n",
    "    dp_solve()\n",
    "\n",
    "    # Traceback to get the optimal solution\n",
    "    optimal_schedule = traceback()\n",
    "\n",
    "    # Print or save results\n",
    "    print(\"Optimal Schedule:\")\n",
    "    for entry in optimal_schedule:\n",
    "        print(entry)\n",
    "\n",
    "if __name__ == \"__main__\":\n",
    "    main()"
   ]
  },
  {
   "cell_type": "code",
   "execution_count": null,
   "metadata": {},
   "outputs": [],
   "source": []
  }
 ],
 "metadata": {
  "kernelspec": {
   "display_name": "base",
   "language": "python",
   "name": "python3"
  },
  "language_info": {
   "codemirror_mode": {
    "name": "ipython",
    "version": 3
   },
   "file_extension": ".py",
   "mimetype": "text/x-python",
   "name": "python",
   "nbconvert_exporter": "python",
   "pygments_lexer": "ipython3",
   "version": "3.11.7"
  }
 },
 "nbformat": 4,
 "nbformat_minor": 2
}
