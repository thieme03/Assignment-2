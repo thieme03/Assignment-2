{
 "cells": [
  {
   "cell_type": "markdown",
   "metadata": {},
   "source": []
  },
  {
   "cell_type": "code",
   "execution_count": 2,
   "metadata": {},
   "outputs": [],
   "source": [
    "# Group: 28\n",
    "# Authors: Thieme Brandwagt and Sam Buisman\n",
    "#=========================================\n",
    "# Assignment 2 - Aircraft Routing Problem \n",
    "#=========================================\n",
    "\n",
    "# Import necessary packages\n",
    "from openpyxl import *\n",
    "from time import *\n",
    "import math\n",
    "import pandas as pd\n",
    "import numpy as np\n",
    "import matplotlib.pyplot as plt\n",
    "import seaborn as sns"
   ]
  },
  {
   "cell_type": "code",
   "execution_count": 3,
   "metadata": {},
   "outputs": [],
   "source": [
    "# profit, n, aircraft, i, j = s # Attributes for state\n"
   ]
  },
  {
   "cell_type": "markdown",
   "metadata": {},
   "source": [
    "### STEP 1: Load the data"
   ]
  },
  {
   "cell_type": "code",
   "execution_count": 4,
   "metadata": {},
   "outputs": [
    {
     "name": "stdout",
     "output_type": "stream",
     "text": [
      "LHR\n",
      "London\n",
      "800.0\n",
      "Type 1: Small freighter\n",
      "LHR\n",
      "11396.314893372413\n"
     ]
    }
   ],
   "source": [
    "# Load airport data into a numpy array\n",
    "file_path_airports = \"DATA/AirportData.xlsx\"\n",
    "airports_df = pd.read_excel(file_path_airports, usecols =\"B:U\")\n",
    "airports = airports_df.to_numpy()\n",
    "print(airports[0][0])\n",
    "# Create list for all the airports (columns)\n",
    "cities = airports_df.columns\n",
    "print(cities[0])\n",
    "\n",
    "\n",
    "# Load fleet data into a numpy array\n",
    "file_path_fleet = \"DATA/FleetType.xlsx\"\n",
    "fleet_df = pd.read_excel(file_path_fleet)\n",
    "fleet_df = fleet_df.set_index(\"Aircraft Type\")\n",
    "fleet = fleet_df.to_numpy()\n",
    "print(fleet[0][0])\n",
    "\n",
    "# Create list for all the aircraft types (columns)\n",
    "aircraft_types = fleet_df.columns\n",
    "print(aircraft_types[0])\n",
    "\n",
    "\n",
    "# Load demand data into a numpy array\n",
    "file_path_demand = \"DATA/Group28.xlsx\"\n",
    "demand_df = pd.read_excel(file_path_demand, usecols=\"B:AG\", skiprows=4)\n",
    "demand = demand_df.to_numpy()\n",
    "print(demand[0][0])\n",
    "\n",
    "# Create a triple dimensional array for demand data (origin x destination x time)\n",
    "demand_matrix = np.zeros((len(cities), len(cities), demand.shape[1] - 2))\n",
    "# Populate matrix with all demand from all intervals\n",
    "for rows in range(len(cities)):\n",
    "    for columns in range(len(cities)):\n",
    "        for time_steps in range(int(120/4)):  # 120 hours devided by 4 hour time steps\n",
    "            demand_matrix[rows][columns][time_steps] = demand[rows * 20 + columns][time_steps + 2]\n",
    "print(demand_matrix[19][18][6])\n"
   ]
  },
  {
   "cell_type": "code",
   "execution_count": 5,
   "metadata": {},
   "outputs": [],
   "source": [
    "time_intervals = [\"00:00-04:00\", \"04:00-08:00\", \"08:00-12:00\", \n",
    "                  \"12:00-16:00\", \"16:00-20:00\", \"20:00-00:00\"]"
   ]
  },
  {
   "cell_type": "code",
   "execution_count": 6,
   "metadata": {},
   "outputs": [
    {
     "data": {
      "text/plain": [
       "5"
      ]
     },
     "execution_count": 6,
     "metadata": {},
     "output_type": "execute_result"
    }
   ],
   "source": [
    "tijd = [0,1,2,3,4,5]\n",
    "tijd[-1]"
   ]
  },
  {
   "cell_type": "markdown",
   "metadata": {},
   "source": [
    "### STEP 2: Define the functions"
   ]
  },
  {
   "cell_type": "code",
   "execution_count": 7,
   "metadata": {},
   "outputs": [
    {
     "name": "stdout",
     "output_type": "stream",
     "text": [
      "51127.0017609541\n"
     ]
    }
   ],
   "source": [
    "# Adding the previous two bins to the currect bin to get total demand\n",
    "def flow(i, j, t):\n",
    "    return demand_matrix[i,j,t] + 0.2 * (demand_matrix[i,j,t-1]+demand_matrix[i,j,t-2])\n",
    "\n",
    "print(flow(0,1,25)) # LHR to CDG for bin 8"
   ]
  },
  {
   "cell_type": "code",
   "execution_count": 8,
   "metadata": {},
   "outputs": [],
   "source": [
    "def distance(i, j, R_E=6371):\n",
    "    if i != j:\n",
    "        lat_i, long_i = airports[1][i], airports[2][i]\n",
    "        lat_j, long_j = airports[1][j], airports[2][j]\n",
    "        delta_lat = lat_j - lat_i\n",
    "        delta_long = long_j - long_i\n",
    "        root = math.sin(math.radians(delta_lat)/2)**2 + math.cos(math.radians(lat_i)) \\\n",
    "            * math.cos(math.radians(lat_j)) * math.sin(math.radians(delta_long)/2)**2\n",
    "        return R_E * 2 * math.asin(math.sqrt(root)) \n",
    "    else:\n",
    "        return 0\n",
    "\n",
    "# E.v.t. nog stoppen in een df'pje later, zodat ie niet naar zichzelf gaat verwijzen"
   ]
  },
  {
   "cell_type": "code",
   "execution_count": 9,
   "metadata": {},
   "outputs": [
    {
     "name": "stdout",
     "output_type": "stream",
     "text": [
      "1200\n",
      "40.0\n"
     ]
    }
   ],
   "source": [
    "time_step = 6\n",
    "total_time = 120 * 60\n",
    "# print(stages)\n",
    "# print(stages[5])\n",
    "\n",
    "def flight_duration(i,j,k):\n",
    "    return distance(i, j, R_E=6371) / fleet[0][k]\n",
    "\n",
    "time_stages = np.arange(0, total_time, time_step)\n",
    "time_bins = np.arange(30)\n",
    "\n",
    "divider = len(time_stages)/ len(time_bins) # Divide by 40 to get the right bin associated with the stage (round down)\n",
    "\n",
    "print(len(time_stages))\n",
    "print(divider)"
   ]
  },
  {
   "cell_type": "code",
   "execution_count": 20,
   "metadata": {},
   "outputs": [
    {
     "name": "stdout",
     "output_type": "stream",
     "text": [
      "2385.302572558103\n",
      "8403.575400678272\n",
      "-1626.7664906330197\n",
      "23000.0\n",
      "178.1131589151272\n",
      "30\n"
     ]
    }
   ],
   "source": [
    "# Calculate the profit for each flight leg\n",
    "def cost_flight_leg(i, j, k):\n",
    "    if i != j:\n",
    "        tc = fleet[7][k] * (distance(i, j, R_E=6371) / fleet[0][k])     # formula for the time costs\n",
    "        fc = ((fleet[8][k] * 1.42) / 1.5) * distance(i, j, R_E=6371)    # formula for the fuel costs\n",
    "        foc = fleet[6][k]                                               # formula for the fixed operating costs\n",
    "        return tc + fc + foc\n",
    "\n",
    "print(cost_flight_leg(0,1,0))\n",
    "\n",
    "# Calculate the profit for each flight leg\n",
    "def profit(i, j, k, n):\n",
    "    satisfied_demand = min(flow(i,j,math.floor(n / divider)), fleet[1][k])\n",
    "    if i != j:\n",
    "        revenue = 0.26 * distance(i,j) * satisfied_demand / 1000\n",
    "        costs = cost_flight_leg(i,j,k)\n",
    "        return revenue - costs\n",
    "    else:\n",
    "        return 0\n",
    "print(flow(0,1,26))\n",
    "print(profit(0, 1, 0, 1050))\n",
    "print(fleet[1][0])\n",
    "\n",
    "# Calculate the flight duration for each flight leg\n",
    "# ONDERSTAANDE TWEE FUNCTIES KUNNEN LATER EVT GEMERGED WORDEN\n",
    "def flight_duration(i,j,k):\n",
    "    return distance(i, j, R_E=6371) / fleet[0][k] * 60 + 15 + 15 + fleet[2][k] # Round up to the nearest 6-fold\n",
    "print(flight_duration(1,2,1)) # From Paris to Amsterdam\n",
    "\n",
    "def get_stages_in_flight(i,j,k):\n",
    "    return math.ceil((flight_duration(i,j,k)) / 6)\n",
    "\n",
    "print(get_stages_in_flight(1,2,1))"
   ]
  },
  {
   "cell_type": "code",
   "execution_count": 11,
   "metadata": {},
   "outputs": [],
   "source": [
    "# # DEZE CEL KAN LATER MISSCHIEN WEG, MAAR WE ZOUDEN DE STATUS KUNNEN BEPALEN DOOR DUS ALTIJD EEN I EN J MEE TE GEVEN AAN EEN VLIEGTUIG, DUS I NAAR I ALS HET VLIEGTUIG STILSTAAT OP DE HUB EN J NAAR J OP EEN SPOKE, I NAAR J ALS IE ONDERWEG IS\n",
    "# state = ['grounded_hub', \n",
    "#           'grounded_spoke', \n",
    "#           'airborne_to_hub', \n",
    "#           'airborne_to_spoke'] \n",
    "\n",
    "# # Determine current state (what is the current status of the plane?)\n",
    "# def get_current_state(i, j):\n",
    "#     if i == j:  # grounded\n",
    "#         return state[0] if i == 3 else state[1] # grounded at hub or spoke\n",
    "#     else:  \n",
    "#         return state[2] if j == 3 else state[3] # airborne to hub or to spoke\n",
    "\n",
    "# get_current_state(4,4)"
   ]
  },
  {
   "cell_type": "code",
   "execution_count": 21,
   "metadata": {},
   "outputs": [
    {
     "data": {
      "text/plain": [
       "[[1190, 1191, 3, 3, 0]]"
      ]
     },
     "execution_count": 21,
     "metadata": {},
     "output_type": "execute_result"
    }
   ],
   "source": [
    "# Create a list of all possible decisions a plane can take at airport i at departure stage n\n",
    "def get_candidates(i,k,n):    \n",
    "    candidates = []\n",
    "    hub = 3 # Define Frankfurt as a hub\n",
    "    if i == hub:                 \n",
    "        for j in range(len(cities)):                                                        \n",
    "            if i == j:\n",
    "                arrival_stage = n+1\n",
    "                if arrival_stage < 1200:                                                     # make sure no airplane is flying after the fifth day\n",
    "                    candidates.append([n, arrival_stage, i, j, profit(i,i,k,n)])             # grounded at hub\n",
    "            else:\n",
    "                arrival_stage = n+get_stages_in_flight(i,j,k)\n",
    "                if arrival_stage < 1200:\n",
    "                    candidates.append([n, arrival_stage, i, j, profit(i,j,k,arrival_stage)]) # flight to spoke\n",
    "        \n",
    "    else:\n",
    "        if n+1 < 1200:\n",
    "            candidates.append([n, n+1 ,i,i, profit(i,i,k,n)])   \n",
    "        arrival_stage = n+get_stages_in_flight(i,hub,k)                               # grounded at spoke\n",
    "        if arrival_stage < 1200:\n",
    "            candidates.append([n, arrival_stage, i, hub, profit(i,hub,k,arrival_stage)])     # flight to hub\n",
    "    return candidates\n",
    "\n",
    "get_candidates(3,0,1190)"
   ]
  },
  {
   "cell_type": "markdown",
   "metadata": {},
   "source": [
    "##### ^ [departure_stage, arrival_stage, departure_airport, arrival_airport, profit] ^"
   ]
  },
  {
   "cell_type": "markdown",
   "metadata": {},
   "source": [
    "## Implementation of a memory"
   ]
  },
  {
   "cell_type": "code",
   "execution_count": 28,
   "metadata": {},
   "outputs": [
    {
     "name": "stdout",
     "output_type": "stream",
     "text": [
      "[[13690.753708397682, 3, 3, 3, 3, 3, 3, 3, 3, 3, 3, 3, 3, 3, 3, 3, 3, 3, 3, 3, 3, 3, 3, 3, 3, 3, 3, 3, 3, 3, 3, 3, 3, 3, 3, 3, 3, 3, 3, 3, 3, 3, 3, 3, 3, 3, 3, 3, 3, 3, 3, 3, 3, 3, 3, 3, 3, 3, 3, 3, 3, 3, 3, 3, 3, 3, 3, 3, 3, 3, 3, 3, 3, 3, 3, 3, 3, 3, 3, 3, 3, 3, 3, 3, 3, 3, 3, 3, 3, 3, 3, 3, 3, 3, 3, 3, 3, 3, 3, 3, 3, 3, 3, 3, 3, 3, 3, 3, 3, 3, 3, 3, 3, 3, 3, 3, 3, 3, 3, 3, 3, 3, 3, 3, 3, 3, 3, 3, 3, 3, 3, 3, 3, 3, 3, 3, 3, 3, 3, 3, 3, 3, 3, 3, 3, 3, 3, 3, 3, 3, 3, 3, 3, 3, 3, 3, 3, 3, 3, 3, 3, 3, 3, 3, 3, 3, 3, 3, 3, 4, 3, 4, 3, 3, 15, 15, 15, 15, 15, 15, 15, 15, 15, 15, 15, 15, 15, 15, 15, 15, 15, 15, 15, 15, 15, 15, 15, 15, 15, 15, 15, 15, 15, 15, 15, 15, 15, 15, 15, 15, 15, 15, 15, 15, 15, 15, 15, 15, 15, 15, 15, 15, 15, 15, 15, 15, 15, 15, 15, 15, 15, 15, 15, 15, 15, 15, 15, 15, 15, 15, 15, 15, 15, 15, 15, 15, 15, 15, 15, 15, 15, 15, 15, 15, 15, 15, 15, 15, 15, 15, 15, 15, 15, 15, 15, 15, 15, 15, 15, 15, 15, 15, 15, 15, 15, 15, 15, 15, 15, 15, 15, 15, 15, 15, 15, 15, 15, 15, 15, 15, 15, 15, 15, 15, 15, 15, 3, 3, 3, 4, 4, 4, 4, 4, 4, 4, 4, 4, 4, 4, 4, 4, 4, 4, 4, 4, 4, 4, 4, 4, 4, 4, 4, 4, 4, 4, 4, 4, 4, 4, 4, 4, 4, 4, 4, 4, 4, 4, 4, 4, 4, 4, 4, 4, 4, 4, 4, 4, 4, 4, 4, 4, 4, 4, 4, 4, 4, 4, 4, 4, 4, 4, 4, 4, 4, 4, 4, 4, 4, 4, 4, 4, 4, 4, 4, 4, 4, 4, 4, 4, 4, 4, 4, 4, 4, 4, 4, 4, 4, 4, 4, 4, 4, 4, 4, 4, 4, 4, 4, 4, 4, 4, 4, 4, 4, 4, 4, 4, 4, 4, 4, 4, 4, 4, 4, 4, 4, 4, 4, 4, 4, 4, 3, 3, 3, 3, 3, 4, 3, 3, 3, 3, 3, 3, 3, 3, 3, 3, 3, 3, 3, 3, 3, 3, 3, 3, 3, 3, 3, 3, 3, 3, 3, 3, 3, 3, 3, 3, 3, 3, 3, 3, 3, 3, 3, 3, 3, 3, 3, 3, 3, 3, 3, 3, 3, 3, 3, 3, 3, 3, 3, 3, 3, 3, 3, 3, 3, 3, 3, 3, 3, 3, 3, 3, 3, 3, 3, 3, 3, 3, 3, 3, 3, 3, 3, 3, 3, 3, 3, 3, 3, 3, 3, 18, 3, 3, 3, 3, 3, 4, 3, 3, 3, 3, 3, 3, 3, 3, 3, 3, 3, 3, 3, 3, 3, 3, 3, 3, 3, 3, 3, 3, 3, 3, 3, 3, 3, 3, 3, 3, 3, 3, 3, 3, 3, 3, 3, 3, 3, 3, 3, 3, 3, 3, 3, 3, 3, 3, 3, 3, 3, 3, 3, 3, 3, 3, 3, 3, 3, 3, 3, 3, 3, 3, 3, 3, 3, 3, 3, 3, 3, 3, 3, 3, 3, 3, 3, 3, 3, 3, 3, 3, 3, 3, 3, 3, 3, 3, 3, 3, 3, 3, 3, 3, 3, 3, 3, 3, 3, 3, 3, 3, 3, 3, 3, 3, 3, 3, 3, 3, 3, 3, 3, 3, 3, 3, 3, 3, 3, 3, 3, 3, 3, 3, 3, 3, 3, 3, 3, 3, 3, 3, 3, 3, 3, 3, 3, 3, 3, 3, 3, 3, 3, 3, 3, 3, 3, 3, 3, 3, 3, 3, 3, 3, 3, 3, 3, 3, 3, 3, 3]]\n"
     ]
    }
   ],
   "source": [
    "memo = {}\n",
    "\n",
    "def get_routes(departure_airport, departure_stage):\n",
    "    # Check if the result is already cached\n",
    "    if (departure_airport, departure_stage) in memo:\n",
    "        return memo[(departure_airport, departure_stage)]\n",
    "    \n",
    "    routes = []\n",
    "    \n",
    "    for c in get_candidates(departure_airport, 0, departure_stage):\n",
    "        arrival_stage = c[1]\n",
    "        arrival_airport = c[3]\n",
    "        future_routes = get_routes(arrival_airport, arrival_stage)\n",
    "        \n",
    "        if future_routes:\n",
    "            for route in future_routes:\n",
    "                if distance(c[2],c[3]) <= fleet[3][0] and airports[3][c[2]] >= fleet[4][0] and airports[3][c[3]] >= fleet[4][0]:\n",
    "                    total_profit = c[4] + route[0]  # Add current profit to future route's profit\n",
    "                    routes.append([total_profit, c[2]] + route[1:])  # Add the total profit to the route\n",
    "        else:\n",
    "            total_profit = c[4]  # Profit for the last segment\n",
    "            routes.append([total_profit, c[2], c[3]])  # Append the total profit and segment profit\n",
    "    \n",
    "    # Only keep itineraries that have Frankfurt as the last node visited\n",
    "    maskdoorbas = [(route[-1] == 3) for route in routes]\n",
    "\n",
    "    sliced_routes = []\n",
    "    for i in range(len(routes)):\n",
    "        if maskdoorbas[i]:\n",
    "            sliced_routes.append(routes[i])\n",
    "    # Only keep the route with the highest profit for each departure_airport\n",
    " \n",
    "    sliced_routes = sorted(sliced_routes, key=lambda route: route[0], reverse=True)\n",
    "\n",
    "    if sliced_routes:\n",
    "        max_profit_route = sliced_routes[0]  # Take the route with the highest profit\n",
    "        memo[(departure_airport, departure_stage)] = [max_profit_route]  # Cache only the highest profit route for the current stage\n",
    "    else:\n",
    "        memo[(departure_airport, departure_stage)] = []\n",
    "    \n",
    "    return memo[(departure_airport, departure_stage)]\n",
    "\n",
    "# def get_state(departure_airport, departure_stage):\n",
    "#     return max(get_routes(departure_airport, departure_stage), key=lambda route: route[0]) if get_routes(departure_airport, departure_stage) else []\n",
    "\n",
    "# Clear the memo dictionary before running to avoid stale data\n",
    "memo.clear()\n",
    "\n",
    "# Example call\n",
    "print(get_routes(3, 0))\n",
    "\n"
   ]
  },
  {
   "cell_type": "markdown",
   "metadata": {},
   "source": [
    "##### ^ [total_profit, departure_airport, via, ... , via, arrival_airport] ^"
   ]
  }
 ],
 "metadata": {
  "kernelspec": {
   "display_name": "base",
   "language": "python",
   "name": "python3"
  },
  "language_info": {
   "codemirror_mode": {
    "name": "ipython",
    "version": 3
   },
   "file_extension": ".py",
   "mimetype": "text/x-python",
   "name": "python",
   "nbconvert_exporter": "python",
   "pygments_lexer": "ipython3",
   "version": "3.11.7"
  }
 },
 "nbformat": 4,
 "nbformat_minor": 2
}
